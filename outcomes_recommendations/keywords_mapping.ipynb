{
 "cells": [
  {
   "cell_type": "code",
   "execution_count": 215,
   "metadata": {
    "collapsed": true
   },
   "outputs": [],
   "source": [
    "import pandas as pd\n",
    "import json\n",
    "import outcomes_recommendations.outcomes_extraction as ke\n",
    "from random import randint\n",
    "import time\n",
    "# стандартный модуль для сравнения строк(https://github.com/python/cpython/blob/3.11/Lib/difflib.py)\n",
    "import difflib"
   ]
  },
  {
   "cell_type": "code",
   "execution_count": 207,
   "outputs": [
    {
     "data": {
      "text/plain": "  masterylevel  item.id                          item.name  item.domain.id  \\\n0            1    18449  Законы сохранения энергии и массы            20.0   \n1            1     7026                     Фильтр Калмана            11.0   \n2            1      237                            Матрица            11.0   \n3            3    21898  Основы программирования на Python            50.0   \n4            2     8963        Система контроля версий git            17.0   \n\n            item.domain.name  item.value  item.domain     id  \\\n0                     Физика           5          NaN  15382   \n1                 Математика          13          NaN  15382   \n2                 Математика          96          NaN  15382   \n3           Программирование          23          NaN   5629   \n4  Информационные технологии          14          NaN   5629   \n\n                                    title discipline_code prerequisites_cnt  \\\n0  Специальные разделы теории теплообмена           20810                 3   \n1  Специальные разделы теории теплообмена           20810                 3   \n2  Специальные разделы теории теплообмена           20810                 3   \n3                    Графовые базы знаний            1002                 4   \n4                    Графовые базы знаний            1002                 4   \n\n  outcomes_cnt  \n0            8  \n1            8  \n2            8  \n3            6  \n4            6  ",
      "text/html": "<div>\n<style scoped>\n    .dataframe tbody tr th:only-of-type {\n        vertical-align: middle;\n    }\n\n    .dataframe tbody tr th {\n        vertical-align: top;\n    }\n\n    .dataframe thead th {\n        text-align: right;\n    }\n</style>\n<table border=\"1\" class=\"dataframe\">\n  <thead>\n    <tr style=\"text-align: right;\">\n      <th></th>\n      <th>masterylevel</th>\n      <th>item.id</th>\n      <th>item.name</th>\n      <th>item.domain.id</th>\n      <th>item.domain.name</th>\n      <th>item.value</th>\n      <th>item.domain</th>\n      <th>id</th>\n      <th>title</th>\n      <th>discipline_code</th>\n      <th>prerequisites_cnt</th>\n      <th>outcomes_cnt</th>\n    </tr>\n  </thead>\n  <tbody>\n    <tr>\n      <th>0</th>\n      <td>1</td>\n      <td>18449</td>\n      <td>Законы сохранения энергии и массы</td>\n      <td>20.0</td>\n      <td>Физика</td>\n      <td>5</td>\n      <td>NaN</td>\n      <td>15382</td>\n      <td>Специальные разделы теории теплообмена</td>\n      <td>20810</td>\n      <td>3</td>\n      <td>8</td>\n    </tr>\n    <tr>\n      <th>1</th>\n      <td>1</td>\n      <td>7026</td>\n      <td>Фильтр Калмана</td>\n      <td>11.0</td>\n      <td>Математика</td>\n      <td>13</td>\n      <td>NaN</td>\n      <td>15382</td>\n      <td>Специальные разделы теории теплообмена</td>\n      <td>20810</td>\n      <td>3</td>\n      <td>8</td>\n    </tr>\n    <tr>\n      <th>2</th>\n      <td>1</td>\n      <td>237</td>\n      <td>Матрица</td>\n      <td>11.0</td>\n      <td>Математика</td>\n      <td>96</td>\n      <td>NaN</td>\n      <td>15382</td>\n      <td>Специальные разделы теории теплообмена</td>\n      <td>20810</td>\n      <td>3</td>\n      <td>8</td>\n    </tr>\n    <tr>\n      <th>3</th>\n      <td>3</td>\n      <td>21898</td>\n      <td>Основы программирования на Python</td>\n      <td>50.0</td>\n      <td>Программирование</td>\n      <td>23</td>\n      <td>NaN</td>\n      <td>5629</td>\n      <td>Графовые базы знаний</td>\n      <td>1002</td>\n      <td>4</td>\n      <td>6</td>\n    </tr>\n    <tr>\n      <th>4</th>\n      <td>2</td>\n      <td>8963</td>\n      <td>Система контроля версий git</td>\n      <td>17.0</td>\n      <td>Информационные технологии</td>\n      <td>14</td>\n      <td>NaN</td>\n      <td>5629</td>\n      <td>Графовые базы знаний</td>\n      <td>1002</td>\n      <td>4</td>\n      <td>6</td>\n    </tr>\n  </tbody>\n</table>\n</div>"
     },
     "metadata": {},
     "output_type": "display_data"
    },
    {
     "data": {
      "text/plain": "  masterylevel  item.id                          item.name  item.domain.id  \\\n0            3     7026                     Фильтр Калмана            11.0   \n1            3     9694       Математическое моделирование            11.0   \n2            3    17853         Приемники теплового потока             NaN   \n3            3    17852                    Уравнение Фурье             NaN   \n4            3    17854  Дифференциально-разностные модели             NaN   \n\n  item.domain.name  item.value  item.domain     id  \\\n0       Математика          13          NaN  15382   \n1       Математика         206          NaN  15382   \n2              NaN          -1          NaN  15382   \n3              NaN           0          NaN  15382   \n4              NaN           0          NaN  15382   \n\n                                    title discipline_code prerequisites_cnt  \\\n0  Специальные разделы теории теплообмена           20810                 3   \n1  Специальные разделы теории теплообмена           20810                 3   \n2  Специальные разделы теории теплообмена           20810                 3   \n3  Специальные разделы теории теплообмена           20810                 3   \n4  Специальные разделы теории теплообмена           20810                 3   \n\n  outcomes_cnt  \n0            8  \n1            8  \n2            8  \n3            8  \n4            8  ",
      "text/html": "<div>\n<style scoped>\n    .dataframe tbody tr th:only-of-type {\n        vertical-align: middle;\n    }\n\n    .dataframe tbody tr th {\n        vertical-align: top;\n    }\n\n    .dataframe thead th {\n        text-align: right;\n    }\n</style>\n<table border=\"1\" class=\"dataframe\">\n  <thead>\n    <tr style=\"text-align: right;\">\n      <th></th>\n      <th>masterylevel</th>\n      <th>item.id</th>\n      <th>item.name</th>\n      <th>item.domain.id</th>\n      <th>item.domain.name</th>\n      <th>item.value</th>\n      <th>item.domain</th>\n      <th>id</th>\n      <th>title</th>\n      <th>discipline_code</th>\n      <th>prerequisites_cnt</th>\n      <th>outcomes_cnt</th>\n    </tr>\n  </thead>\n  <tbody>\n    <tr>\n      <th>0</th>\n      <td>3</td>\n      <td>7026</td>\n      <td>Фильтр Калмана</td>\n      <td>11.0</td>\n      <td>Математика</td>\n      <td>13</td>\n      <td>NaN</td>\n      <td>15382</td>\n      <td>Специальные разделы теории теплообмена</td>\n      <td>20810</td>\n      <td>3</td>\n      <td>8</td>\n    </tr>\n    <tr>\n      <th>1</th>\n      <td>3</td>\n      <td>9694</td>\n      <td>Математическое моделирование</td>\n      <td>11.0</td>\n      <td>Математика</td>\n      <td>206</td>\n      <td>NaN</td>\n      <td>15382</td>\n      <td>Специальные разделы теории теплообмена</td>\n      <td>20810</td>\n      <td>3</td>\n      <td>8</td>\n    </tr>\n    <tr>\n      <th>2</th>\n      <td>3</td>\n      <td>17853</td>\n      <td>Приемники теплового потока</td>\n      <td>NaN</td>\n      <td>NaN</td>\n      <td>-1</td>\n      <td>NaN</td>\n      <td>15382</td>\n      <td>Специальные разделы теории теплообмена</td>\n      <td>20810</td>\n      <td>3</td>\n      <td>8</td>\n    </tr>\n    <tr>\n      <th>3</th>\n      <td>3</td>\n      <td>17852</td>\n      <td>Уравнение Фурье</td>\n      <td>NaN</td>\n      <td>NaN</td>\n      <td>0</td>\n      <td>NaN</td>\n      <td>15382</td>\n      <td>Специальные разделы теории теплообмена</td>\n      <td>20810</td>\n      <td>3</td>\n      <td>8</td>\n    </tr>\n    <tr>\n      <th>4</th>\n      <td>3</td>\n      <td>17854</td>\n      <td>Дифференциально-разностные модели</td>\n      <td>NaN</td>\n      <td>NaN</td>\n      <td>0</td>\n      <td>NaN</td>\n      <td>15382</td>\n      <td>Специальные разделы теории теплообмена</td>\n      <td>20810</td>\n      <td>3</td>\n      <td>8</td>\n    </tr>\n  </tbody>\n</table>\n</div>"
     },
     "metadata": {},
     "output_type": "display_data"
    }
   ],
   "source": [
    "with open(\"wp_markup_202303281903.json\") as f:\n",
    "    js = json.load(f)\n",
    "\n",
    "for wp_markup in js.keys():\n",
    "    for i in range(len(js[wp_markup])):\n",
    "        js[wp_markup][i][\"prerequisites\"] = json.loads(js[wp_markup][i][\"prerequisites\"])\n",
    "        js[wp_markup][i][\"outcomes\"] = json.loads(js[wp_markup][i][\"outcomes\"])\n",
    "\n",
    "prerequisites = pd.json_normalize(pd.DataFrame.from_dict(js)[\"wp_markup\"],\n",
    "                                  [\"prerequisites\"],\n",
    "                                  [\"id\", \"title\", \"discipline_code\", \"prerequisites_cnt\", \"outcomes_cnt\"])\n",
    "outcomes = pd.json_normalize(pd.DataFrame.from_dict(js)[\"wp_markup\"],\n",
    "                             [\"outcomes\"],\n",
    "                             [\"id\", \"title\", \"discipline_code\", \"prerequisites_cnt\", \"outcomes_cnt\"])\n",
    "display(prerequisites.head())\n",
    "display(outcomes.head())"
   ],
   "metadata": {
    "collapsed": false,
    "pycharm": {
     "name": "#%%\n"
    }
   }
  },
  {
   "cell_type": "code",
   "execution_count": 195,
   "outputs": [],
   "source": [
    "keywords = prerequisites[[\"item.id\", \"item.name\"]].append(outcomes[[\"item.id\", \"item.name\"]]).drop_duplicates().reset_index(drop=True)\n",
    "keywords[\"lowercase\"] = keywords[\"item.name\"].str.lower()"
   ],
   "metadata": {
    "collapsed": false,
    "pycharm": {
     "name": "#%%\n"
    }
   }
  },
  {
   "cell_type": "code",
   "execution_count": 196,
   "outputs": [
    {
     "data": {
      "text/plain": "   item.id                          item.name  \\\n0    18449  Законы сохранения энергии и массы   \n1     7026                     Фильтр Калмана   \n2      237                            Матрица   \n3    21898  Основы программирования на Python   \n4     8963        Система контроля версий git   \n\n                           lowercase  \n0  законы сохранения энергии и массы  \n1                     фильтр калмана  \n2                            матрица  \n3  основы программирования на python  \n4        система контроля версий git  ",
      "text/html": "<div>\n<style scoped>\n    .dataframe tbody tr th:only-of-type {\n        vertical-align: middle;\n    }\n\n    .dataframe tbody tr th {\n        vertical-align: top;\n    }\n\n    .dataframe thead th {\n        text-align: right;\n    }\n</style>\n<table border=\"1\" class=\"dataframe\">\n  <thead>\n    <tr style=\"text-align: right;\">\n      <th></th>\n      <th>item.id</th>\n      <th>item.name</th>\n      <th>lowercase</th>\n    </tr>\n  </thead>\n  <tbody>\n    <tr>\n      <th>0</th>\n      <td>18449</td>\n      <td>Законы сохранения энергии и массы</td>\n      <td>законы сохранения энергии и массы</td>\n    </tr>\n    <tr>\n      <th>1</th>\n      <td>7026</td>\n      <td>Фильтр Калмана</td>\n      <td>фильтр калмана</td>\n    </tr>\n    <tr>\n      <th>2</th>\n      <td>237</td>\n      <td>Матрица</td>\n      <td>матрица</td>\n    </tr>\n    <tr>\n      <th>3</th>\n      <td>21898</td>\n      <td>Основы программирования на Python</td>\n      <td>основы программирования на python</td>\n    </tr>\n    <tr>\n      <th>4</th>\n      <td>8963</td>\n      <td>Система контроля версий git</td>\n      <td>система контроля версий git</td>\n    </tr>\n  </tbody>\n</table>\n</div>"
     },
     "execution_count": 196,
     "metadata": {},
     "output_type": "execute_result"
    }
   ],
   "source": [
    "keywords.head()"
   ],
   "metadata": {
    "collapsed": false,
    "pycharm": {
     "name": "#%%\n"
    }
   }
  },
  {
   "cell_type": "code",
   "execution_count": 218,
   "outputs": [
    {
     "name": "stdout",
     "output_type": "stream",
     "text": [
      "Моделирование двигателя постоянного тока и реализация обратной связи. 1.1 Второй закон Ньютона. Поступательное и вращательное движение.\n",
      "1.2. Обобщенный закон Ома. Катушка индуктивности.\n",
      "1.3. Конструкция и принцип работы двигателя постоянного тока.\n",
      "1.4. Полная и упрощенная модель двигателя постоянного тока.\n",
      "1.5. Метод наименьших квадратов. \n",
      "1.6. Автономные динамические системы. Решение однородных дифференциальных уравнений.\n",
      "1.7. Динамические системы с управлением. Модели В-В и В-С-В.\n",
      "1.8. Апериодическое звено первого порядка.ПИД-регулирование и расчет коэффициентов обратной связи. 2.1. Понятие регулятора. Пропорциональный и релейный регулятор.\n",
      "2.2. Показатели качества переходного процесса.\n",
      "2.3. ПИД-регулятор. Anti-windup.\n",
      "2.4. Численные методы интегрирования и дифференцирования.\n",
      "2.5. Управляемость и наблюдаемость. Матричный критерий.\n",
      "2.6. Принцип наименьшего действия. Уравнения Лагранжа второго рода. Математическая модель маятника.\n",
      "2.7. Понятие устойчивости, виды устойчивости.\n",
      "2.8. Метод функций Ляпунова.Прикладные методы теории автоматического управления. 3.1 Метод Циглера-Никольса для настройки ПИД регулятора\n",
      "3.2 Метод Кохена-Куна для настройки ПИД регулятора\n",
      "3.3 Фильтрация показаний сенсоров\n",
      "3.4 Оценка напрямую не измеряемого состояния\n",
      "3.5 Комплиментарный фильтр\n",
      "3.6 Управление по положению\n",
      "3.7 Управление по скорости\n",
      "3.8 Управление траекторией движенияЛокализация и навигация для мобильных робототехнических систем. 4.1 Дифференциальный привод\n",
      "4.2 Всенаправленный привод\n",
      "4.3 Привод автомобильного типа\n",
      "4.4 Одометрия мобильного робота\n",
      "4.5 Локализация\n",
      "4.6 Линейное управление для решения задачи навигации\n",
      "4.7 Движение робота в заданную точку\n",
      "4.8 Движение робота в заданную позу\n",
      "----- 3.734196186065674 seconds -----\n"
     ]
    },
    {
     "data": {
      "text/plain": "      item.id                           item.name\n4617     7218                      Постоянный ток\n13905   17599          Двигатели постоянного тока\n45      18435                       ПИД регулятор\n13909   17603                        ПИ регулятор\n9573    14095                 Переходные процессы\n729      9673           Робототехнические системы\n3329    18899           Робототехнические системы\n4782    16939                 Техническая система\n821       297               Методы интегрирования\n10921   22769               Вращательное движение\n11643    7072                Понятие устойчивости\n325     21855                   Численные методы.\n4099    18460                    Численные методы\n4656    21525                    Численные методы\n19276   17456           Автоматическое управление\n5270      879    Метод наименьших квадратов (МНК)\n14646    7022    Метод наименьших квадратов (МНК)\n158       300          Дифференциальные уравнения\n46      18434  Система автоматического управления\n51        980   Теория автоматического управления\n1516    21748  Системы автоматического управления\n13993    2933        Принцип наименьшего действия\n2886     2986                  Уравнения Лагранжа",
      "text/html": "<div>\n<style scoped>\n    .dataframe tbody tr th:only-of-type {\n        vertical-align: middle;\n    }\n\n    .dataframe tbody tr th {\n        vertical-align: top;\n    }\n\n    .dataframe thead th {\n        text-align: right;\n    }\n</style>\n<table border=\"1\" class=\"dataframe\">\n  <thead>\n    <tr style=\"text-align: right;\">\n      <th></th>\n      <th>item.id</th>\n      <th>item.name</th>\n    </tr>\n  </thead>\n  <tbody>\n    <tr>\n      <th>4617</th>\n      <td>7218</td>\n      <td>Постоянный ток</td>\n    </tr>\n    <tr>\n      <th>13905</th>\n      <td>17599</td>\n      <td>Двигатели постоянного тока</td>\n    </tr>\n    <tr>\n      <th>45</th>\n      <td>18435</td>\n      <td>ПИД регулятор</td>\n    </tr>\n    <tr>\n      <th>13909</th>\n      <td>17603</td>\n      <td>ПИ регулятор</td>\n    </tr>\n    <tr>\n      <th>9573</th>\n      <td>14095</td>\n      <td>Переходные процессы</td>\n    </tr>\n    <tr>\n      <th>729</th>\n      <td>9673</td>\n      <td>Робототехнические системы</td>\n    </tr>\n    <tr>\n      <th>3329</th>\n      <td>18899</td>\n      <td>Робототехнические системы</td>\n    </tr>\n    <tr>\n      <th>4782</th>\n      <td>16939</td>\n      <td>Техническая система</td>\n    </tr>\n    <tr>\n      <th>821</th>\n      <td>297</td>\n      <td>Методы интегрирования</td>\n    </tr>\n    <tr>\n      <th>10921</th>\n      <td>22769</td>\n      <td>Вращательное движение</td>\n    </tr>\n    <tr>\n      <th>11643</th>\n      <td>7072</td>\n      <td>Понятие устойчивости</td>\n    </tr>\n    <tr>\n      <th>325</th>\n      <td>21855</td>\n      <td>Численные методы.</td>\n    </tr>\n    <tr>\n      <th>4099</th>\n      <td>18460</td>\n      <td>Численные методы</td>\n    </tr>\n    <tr>\n      <th>4656</th>\n      <td>21525</td>\n      <td>Численные методы</td>\n    </tr>\n    <tr>\n      <th>19276</th>\n      <td>17456</td>\n      <td>Автоматическое управление</td>\n    </tr>\n    <tr>\n      <th>5270</th>\n      <td>879</td>\n      <td>Метод наименьших квадратов (МНК)</td>\n    </tr>\n    <tr>\n      <th>14646</th>\n      <td>7022</td>\n      <td>Метод наименьших квадратов (МНК)</td>\n    </tr>\n    <tr>\n      <th>158</th>\n      <td>300</td>\n      <td>Дифференциальные уравнения</td>\n    </tr>\n    <tr>\n      <th>46</th>\n      <td>18434</td>\n      <td>Система автоматического управления</td>\n    </tr>\n    <tr>\n      <th>51</th>\n      <td>980</td>\n      <td>Теория автоматического управления</td>\n    </tr>\n    <tr>\n      <th>1516</th>\n      <td>21748</td>\n      <td>Системы автоматического управления</td>\n    </tr>\n    <tr>\n      <th>13993</th>\n      <td>2933</td>\n      <td>Принцип наименьшего действия</td>\n    </tr>\n    <tr>\n      <th>2886</th>\n      <td>2986</td>\n      <td>Уравнения Лагранжа</td>\n    </tr>\n  </tbody>\n</table>\n</div>"
     },
     "metadata": {},
     "output_type": "display_data"
    },
    {
     "name": "stdout",
     "output_type": "stream",
     "text": [
      "NOT IN DB: ['движение робота', 'обратная связь', 'настройка пид', 'настройка пид регулятора', 'автономные динамические системы', 'всенаправленный привод', 'упрощённая модель', 'моделирование двигателя', 'однородное дифференциальное уравнение', 'принцип работы двигателя']\n"
     ]
    }
   ],
   "source": [
    "# тестирование\n",
    "data = pd.read_excel(\"rpd_27012022.xlsx\")\n",
    "\n",
    "N = randint(0, 736)\n",
    "example = ke.simple_outcomes_extraction(data.loc[N].text)\n",
    "print(data.loc[N].text)\n",
    "\n",
    "main_res = pd.DataFrame(columns=[\"item.id\", \"item.name\"])\n",
    "additional_res = []\n",
    "start_time = time.time()\n",
    "for word in example:\n",
    "    close = difflib.get_close_matches(word, keywords.lowercase.tolist(), cutoff=0.85)\n",
    "    if close:\n",
    "        main_res = main_res.append(keywords[keywords.lowercase.isin(close)][[\"item.id\", \"item.name\"]])\n",
    "    else:\n",
    "        additional_res.append(word)\n",
    "\n",
    "print(f\"----- {time.time()-start_time} seconds -----\")\n",
    "\n",
    "display(main_res)\n",
    "print(\"NOT IN DB:\", additional_res[:10])"
   ],
   "metadata": {
    "collapsed": false,
    "pycharm": {
     "name": "#%%\n"
    }
   }
  },
  {
   "cell_type": "code",
   "execution_count": 224,
   "outputs": [
    {
     "name": "stdout",
     "output_type": "stream",
     "text": [
      "Широкопольная и ближнепольная  оптическая микроскопия. Основные принципы микроскопии, пространственное разрешение, методы контрастирования, люминесцентная микроскопия, виды оптических микроскопов, основы микрофотометрии.Лазерная сканирующая микроскопия и спектроскопия. Принципы лазерной сканирующей микроскопии, конфокальная микроскопия, люминесцентная микроспектроскопия, измерение локальных характеристикИсследование процессов переноса методами оптической микроскопии. Методы исследования диффузии – восстановление люминесценции после фотообесцвечивания и родственные ему, люминесцентная корреляционная спектроскопия, микроспектроскопия переноса энергииЛюминесцентная сканирующая микроскопия с временным разрешением. Кинетика люминесценции, исследование взаимодействия в сложных системах\n",
      "----- 1.7366771697998047 seconds -----\n"
     ]
    },
    {
     "data": {
      "text/plain": "      item.id                                         item.name\n2457     8424                            Оптическая микроскопия\n10610   11892                          Оптическая спектроскопия\n13673   12140   Ближнепольная сканируюая оптическая микроскопия\n18016   21999  Ближнепольная сканирующая оптическая микроскопия\n18236   17540              Широкопольная оптическая микроскопия\n10638   23604                           Методы контрастирования\n10640   23606                        Люминесцентная микроскопия\n10640   23606                        Люминесцентная микроскопия\n11514   17539                  Фотолюминесцентная спектроскопия\n11390   22437                            Конфокальный микроскоп\n18705   11890                          Конфокальная микроскопия",
      "text/html": "<div>\n<style scoped>\n    .dataframe tbody tr th:only-of-type {\n        vertical-align: middle;\n    }\n\n    .dataframe tbody tr th {\n        vertical-align: top;\n    }\n\n    .dataframe thead th {\n        text-align: right;\n    }\n</style>\n<table border=\"1\" class=\"dataframe\">\n  <thead>\n    <tr style=\"text-align: right;\">\n      <th></th>\n      <th>item.id</th>\n      <th>item.name</th>\n    </tr>\n  </thead>\n  <tbody>\n    <tr>\n      <th>2457</th>\n      <td>8424</td>\n      <td>Оптическая микроскопия</td>\n    </tr>\n    <tr>\n      <th>10610</th>\n      <td>11892</td>\n      <td>Оптическая спектроскопия</td>\n    </tr>\n    <tr>\n      <th>13673</th>\n      <td>12140</td>\n      <td>Ближнепольная сканируюая оптическая микроскопия</td>\n    </tr>\n    <tr>\n      <th>18016</th>\n      <td>21999</td>\n      <td>Ближнепольная сканирующая оптическая микроскопия</td>\n    </tr>\n    <tr>\n      <th>18236</th>\n      <td>17540</td>\n      <td>Широкопольная оптическая микроскопия</td>\n    </tr>\n    <tr>\n      <th>10638</th>\n      <td>23604</td>\n      <td>Методы контрастирования</td>\n    </tr>\n    <tr>\n      <th>10640</th>\n      <td>23606</td>\n      <td>Люминесцентная микроскопия</td>\n    </tr>\n    <tr>\n      <th>10640</th>\n      <td>23606</td>\n      <td>Люминесцентная микроскопия</td>\n    </tr>\n    <tr>\n      <th>11514</th>\n      <td>17539</td>\n      <td>Фотолюминесцентная спектроскопия</td>\n    </tr>\n    <tr>\n      <th>11390</th>\n      <td>22437</td>\n      <td>Конфокальный микроскоп</td>\n    </tr>\n    <tr>\n      <th>18705</th>\n      <td>11890</td>\n      <td>Конфокальная микроскопия</td>\n    </tr>\n  </tbody>\n</table>\n</div>"
     },
     "metadata": {},
     "output_type": "display_data"
    },
    {
     "name": "stdout",
     "output_type": "stream",
     "text": [
      "NOT IN DB: ['виды оптических микроскопов', 'метод оптической микроскопии', 'исследование процесса переноса', 'основные принципы микроскопии', 'исследование процесса', 'методы исследования диффузии', 'восстановление люминесценции', 'измерение локальных характеристик', 'люминесцентная корреляционная спектроскопия', 'процесс переноса метода']\n"
     ]
    }
   ],
   "source": [
    "# тестирование\n",
    "N = randint(0, 736)\n",
    "example = ke.simple_outcomes_extraction(data.loc[N].text)\n",
    "print(data.loc[N].text)\n",
    "\n",
    "main_res = pd.DataFrame(columns=[\"item.id\", \"item.name\"])\n",
    "additional_res = []\n",
    "start_time = time.time()\n",
    "for word in example:\n",
    "    close = difflib.get_close_matches(word, keywords.lowercase.tolist(), cutoff=0.85)\n",
    "    if close:\n",
    "        main_res = main_res.append(keywords[keywords.lowercase.isin(close)][[\"item.id\", \"item.name\"]])\n",
    "    else:\n",
    "        additional_res.append(word)\n",
    "\n",
    "print(f\"----- {time.time()-start_time} seconds -----\")\n",
    "\n",
    "display(main_res)\n",
    "print(\"NOT IN DB:\", additional_res[:10])"
   ],
   "metadata": {
    "collapsed": false,
    "pycharm": {
     "name": "#%%\n"
    }
   }
  },
  {
   "cell_type": "code",
   "execution_count": null,
   "outputs": [],
   "source": [],
   "metadata": {
    "collapsed": false,
    "pycharm": {
     "name": "#%%\n"
    }
   }
  }
 ],
 "metadata": {
  "kernelspec": {
   "display_name": "Python 3",
   "language": "python",
   "name": "python3"
  },
  "language_info": {
   "codemirror_mode": {
    "name": "ipython",
    "version": 2
   },
   "file_extension": ".py",
   "mimetype": "text/x-python",
   "name": "python",
   "nbconvert_exporter": "python",
   "pygments_lexer": "ipython2",
   "version": "2.7.6"
  }
 },
 "nbformat": 4,
 "nbformat_minor": 0
}