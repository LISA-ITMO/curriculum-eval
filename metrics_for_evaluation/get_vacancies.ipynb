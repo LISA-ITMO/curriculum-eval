{
 "cells": [
  {
   "cell_type": "code",
   "execution_count": 20,
   "metadata": {},
   "outputs": [
    {
     "name": "stderr",
     "output_type": "stream",
     "text": [
      "/Users/ana_cher/.conda/envs/phd38/lib/python3.8/site-packages/tqdm/auto.py:21: TqdmWarning: IProgress not found. Please update jupyter and ipywidgets. See https://ipywidgets.readthedocs.io/en/stable/user_install.html\n",
      "  from .autonotebook import tqdm as notebook_tqdm\n"
     ]
    }
   ],
   "source": [
    "import requests\n",
    "from pprint import pprint\n",
    "import pandas as pd\n",
    "from tqdm import tqdm\n",
    "import numpy as np\n",
    "\n",
    "from tqdm import tqdm\n",
    "from tqdm.auto import tqdm\n",
    "\n",
    "tqdm.pandas()\n",
    "\n",
    "TOKEN = \"APPLRL69Q885BK61DVUQNLOJ372UAFBK0SSB7IE057EIVUKS2LBFQADC03NCQVRV\""
   ]
  },
  {
   "cell_type": "markdown",
   "metadata": {},
   "source": [
    "# Загрузка данных с hh"
   ]
  },
  {
   "cell_type": "code",
   "execution_count": 2,
   "metadata": {},
   "outputs": [
    {
     "data": {
      "text/html": [
       "<div>\n",
       "<style scoped>\n",
       "    .dataframe tbody tr th:only-of-type {\n",
       "        vertical-align: middle;\n",
       "    }\n",
       "\n",
       "    .dataframe tbody tr th {\n",
       "        vertical-align: top;\n",
       "    }\n",
       "\n",
       "    .dataframe thead th {\n",
       "        text-align: right;\n",
       "    }\n",
       "</style>\n",
       "<table border=\"1\" class=\"dataframe\">\n",
       "  <thead>\n",
       "    <tr style=\"text-align: right;\">\n",
       "      <th></th>\n",
       "      <th>#</th>\n",
       "      <th>ОП</th>\n",
       "      <th>Профессии</th>\n",
       "    </tr>\n",
       "  </thead>\n",
       "  <tbody>\n",
       "    <tr>\n",
       "      <th>1</th>\n",
       "      <td>2.0</td>\n",
       "      <td>КОМПЬЮТЕРНЫЕ ТЕХНОЛОГИИ: ПРОГРАММИРОВАНИЕ И ИС...</td>\n",
       "      <td>профессии не указаны</td>\n",
       "    </tr>\n",
       "    <tr>\n",
       "      <th>5</th>\n",
       "      <td>6.0</td>\n",
       "      <td>МОБИЛЬНЫЕ И СЕТЕВЫЕ ТЕХНОЛОГИИ</td>\n",
       "      <td>мобильный разработчик, Web-разработчик, fronte...</td>\n",
       "    </tr>\n",
       "  </tbody>\n",
       "</table>\n",
       "</div>"
      ],
      "text/plain": [
       "     #                                                 ОП  \\\n",
       "1  2.0  КОМПЬЮТЕРНЫЕ ТЕХНОЛОГИИ: ПРОГРАММИРОВАНИЕ И ИС...   \n",
       "5  6.0                     МОБИЛЬНЫЕ И СЕТЕВЫЕ ТЕХНОЛОГИИ   \n",
       "\n",
       "                                           Профессии  \n",
       "1                               профессии не указаны  \n",
       "5  мобильный разработчик, Web-разработчик, fronte...  "
      ]
     },
     "metadata": {},
     "output_type": "display_data"
    },
    {
     "data": {
      "text/html": [
       "<div>\n",
       "<style scoped>\n",
       "    .dataframe tbody tr th:only-of-type {\n",
       "        vertical-align: middle;\n",
       "    }\n",
       "\n",
       "    .dataframe tbody tr th {\n",
       "        vertical-align: top;\n",
       "    }\n",
       "\n",
       "    .dataframe thead th {\n",
       "        text-align: right;\n",
       "    }\n",
       "</style>\n",
       "<table border=\"1\" class=\"dataframe\">\n",
       "  <thead>\n",
       "    <tr style=\"text-align: right;\">\n",
       "      <th></th>\n",
       "      <th>#</th>\n",
       "      <th>ОП</th>\n",
       "      <th>Профессии</th>\n",
       "    </tr>\n",
       "  </thead>\n",
       "  <tbody>\n",
       "    <tr>\n",
       "      <th>12</th>\n",
       "      <td>13</td>\n",
       "      <td>НЕЙРОТЕХНОЛОГИИ И ПРОГРАММНАЯ ИНЖЕНЕРИЯ</td>\n",
       "      <td>программист-разработчик, веб-программист, DevO...</td>\n",
       "    </tr>\n",
       "    <tr>\n",
       "      <th>10</th>\n",
       "      <td>11</td>\n",
       "      <td>ИНСТРУМЕНТЫ РАЗРАБОТКИ И АНАЛИЗА ПРОГРАММ</td>\n",
       "      <td>Разработчик IDE , Архитектор IDE Разработчик к...</td>\n",
       "    </tr>\n",
       "  </tbody>\n",
       "</table>\n",
       "</div>"
      ],
      "text/plain": [
       "     #                                         ОП  \\\n",
       "12  13    НЕЙРОТЕХНОЛОГИИ И ПРОГРАММНАЯ ИНЖЕНЕРИЯ   \n",
       "10  11  ИНСТРУМЕНТЫ РАЗРАБОТКИ И АНАЛИЗА ПРОГРАММ   \n",
       "\n",
       "                                            Профессии  \n",
       "12  программист-разработчик, веб-программист, DevO...  \n",
       "10  Разработчик IDE , Архитектор IDE Разработчик к...  "
      ]
     },
     "metadata": {},
     "output_type": "display_data"
    }
   ],
   "source": [
    "op_bac = pd.read_excel(\"op_bac_2024.xlsx\")\n",
    "op_mas = pd.read_excel(\"op_mas_2024.xlsx\")\n",
    "\n",
    "display(op_bac.sample(2))\n",
    "display(op_mas.sample(2))"
   ]
  },
  {
   "cell_type": "code",
   "execution_count": 9,
   "metadata": {},
   "outputs": [
    {
     "data": {
      "text/html": [
       "<div>\n",
       "<style scoped>\n",
       "    .dataframe tbody tr th:only-of-type {\n",
       "        vertical-align: middle;\n",
       "    }\n",
       "\n",
       "    .dataframe tbody tr th {\n",
       "        vertical-align: top;\n",
       "    }\n",
       "\n",
       "    .dataframe thead th {\n",
       "        text-align: right;\n",
       "    }\n",
       "</style>\n",
       "<table border=\"1\" class=\"dataframe\">\n",
       "  <thead>\n",
       "    <tr style=\"text-align: right;\">\n",
       "      <th></th>\n",
       "      <th>#</th>\n",
       "      <th>ОП</th>\n",
       "      <th>Профессии</th>\n",
       "      <th>jobs</th>\n",
       "    </tr>\n",
       "  </thead>\n",
       "  <tbody>\n",
       "    <tr>\n",
       "      <th>0</th>\n",
       "      <td>1.0</td>\n",
       "      <td>ЯЗЫКОВЫЕ МОДЕЛИ И ИСКУССТВЕННЫЙ ИНТЕЛЛЕКТ</td>\n",
       "      <td>Prompt-инженер, AI-тренер, ML-инженер, Аналити...</td>\n",
       "      <td>[prompt-инженер, ai-тренер, ml-инженер, аналит...</td>\n",
       "    </tr>\n",
       "    <tr>\n",
       "      <th>1</th>\n",
       "      <td>2.0</td>\n",
       "      <td>КОМПЬЮТЕРНЫЕ ТЕХНОЛОГИИ: ПРОГРАММИРОВАНИЕ И ИС...</td>\n",
       "      <td>профессии не указаны</td>\n",
       "      <td>NaN</td>\n",
       "    </tr>\n",
       "  </tbody>\n",
       "</table>\n",
       "</div>"
      ],
      "text/plain": [
       "     #                                                 ОП  \\\n",
       "0  1.0          ЯЗЫКОВЫЕ МОДЕЛИ И ИСКУССТВЕННЫЙ ИНТЕЛЛЕКТ   \n",
       "1  2.0  КОМПЬЮТЕРНЫЕ ТЕХНОЛОГИИ: ПРОГРАММИРОВАНИЕ И ИС...   \n",
       "\n",
       "                                           Профессии  \\\n",
       "0  Prompt-инженер, AI-тренер, ML-инженер, Аналити...   \n",
       "1                               профессии не указаны   \n",
       "\n",
       "                                                jobs  \n",
       "0  [prompt-инженер, ai-тренер, ml-инженер, аналит...  \n",
       "1                                                NaN  "
      ]
     },
     "metadata": {},
     "output_type": "display_data"
    },
    {
     "data": {
      "text/html": [
       "<div>\n",
       "<style scoped>\n",
       "    .dataframe tbody tr th:only-of-type {\n",
       "        vertical-align: middle;\n",
       "    }\n",
       "\n",
       "    .dataframe tbody tr th {\n",
       "        vertical-align: top;\n",
       "    }\n",
       "\n",
       "    .dataframe thead th {\n",
       "        text-align: right;\n",
       "    }\n",
       "</style>\n",
       "<table border=\"1\" class=\"dataframe\">\n",
       "  <thead>\n",
       "    <tr style=\"text-align: right;\">\n",
       "      <th></th>\n",
       "      <th>#</th>\n",
       "      <th>ОП</th>\n",
       "      <th>Профессии</th>\n",
       "      <th>jobs</th>\n",
       "    </tr>\n",
       "  </thead>\n",
       "  <tbody>\n",
       "    <tr>\n",
       "      <th>0</th>\n",
       "      <td>1</td>\n",
       "      <td>БИОИНФОРМАТИКА И СИСТЕМНАЯ БИОЛОГИЯ, BIOINFORM...</td>\n",
       "      <td>професси не указаны</td>\n",
       "      <td>NaN</td>\n",
       "    </tr>\n",
       "    <tr>\n",
       "      <th>1</th>\n",
       "      <td>2</td>\n",
       "      <td>МАТЕМАТИЧЕСКОЕ И КОМПЬЮТЕРНОЕ МОДЕЛИРОВАНИЕ</td>\n",
       "      <td>программистом-математиком, Science Programmer,...</td>\n",
       "      <td>[программистом-математиком, science programmer...</td>\n",
       "    </tr>\n",
       "  </tbody>\n",
       "</table>\n",
       "</div>"
      ],
      "text/plain": [
       "   #                                                 ОП  \\\n",
       "0  1  БИОИНФОРМАТИКА И СИСТЕМНАЯ БИОЛОГИЯ, BIOINFORM...   \n",
       "1  2        МАТЕМАТИЧЕСКОЕ И КОМПЬЮТЕРНОЕ МОДЕЛИРОВАНИЕ   \n",
       "\n",
       "                                           Профессии  \\\n",
       "0                                професси не указаны   \n",
       "1  программистом-математиком, Science Programmer,...   \n",
       "\n",
       "                                                jobs  \n",
       "0                                                NaN  \n",
       "1  [программистом-математиком, science programmer...  "
      ]
     },
     "metadata": {},
     "output_type": "display_data"
    }
   ],
   "source": [
    "op_bac[\"jobs\"] = op_bac[\"Профессии\"].apply(lambda row: [x.strip().lower() for x in row.split(\",\")] if row not in (\"профессии не указаны\", \"професси не указаны\") else np.nan)\n",
    "display(op_bac.head(2))\n",
    "\n",
    "op_mas[\"jobs\"] = op_mas[\"Профессии\"].apply(lambda row: [x.strip().lower() for x in row.split(\",\")] if row not in (\"профессии не указаны\", \"професси не указаны\") else np.nan)\n",
    "display(op_mas.head(2))"
   ]
  },
  {
   "cell_type": "code",
   "execution_count": 10,
   "metadata": {},
   "outputs": [
    {
     "name": "stdout",
     "output_type": "stream",
     "text": [
      "(15, 4) (58, 4)\n"
     ]
    }
   ],
   "source": [
    "valid_bac = op_bac.dropna()\n",
    "valid_mas = op_mas.dropna()\n",
    "\n",
    "print(valid_bac.shape, valid_mas.shape)"
   ]
  },
  {
   "cell_type": "code",
   "execution_count": 11,
   "metadata": {},
   "outputs": [],
   "source": [
    "TITLE = \"РУКОВОДИТЕЛЬ IT-РАЗРАБОТКИ\"\n",
    "\n",
    "\n",
    "def get_vacancies_idx(page, title):\n",
    "\n",
    "    params = {\"page\": page, \"per_page\": 100,\n",
    "            \"text\": title,\n",
    "            \"clusters\": True, }\n",
    "\n",
    "    url = 'https://api.hh.ru/vacancies'\n",
    "    headers = {'Authorization': f'Bearer {TOKEN}'}\n",
    "    response = requests.get(url, headers=headers, params=params)\n",
    "\n",
    "    res = response.json()[\"items\"]\n",
    "    return [[x[\"id\"], x[\"name\"]] for x in res] \n",
    "\n",
    "\n",
    "# vacs = get_vacancies_idx(1, TITLE)"
   ]
  },
  {
   "cell_type": "code",
   "execution_count": 14,
   "metadata": {},
   "outputs": [
    {
     "name": "stderr",
     "output_type": "stream",
     "text": [
      "100%|██████████| 11/11 [01:16<00:00,  6.97s/it]\n"
     ]
    },
    {
     "name": "stdout",
     "output_type": "stream",
     "text": [
      "19 (9561, 4)\n"
     ]
    },
    {
     "name": "stderr",
     "output_type": "stream",
     "text": [
      "100%|██████████| 10/10 [01:15<00:00,  7.58s/it]\n"
     ]
    },
    {
     "name": "stdout",
     "output_type": "stream",
     "text": [
      "19 (17863, 4)\n"
     ]
    },
    {
     "name": "stderr",
     "output_type": "stream",
     "text": [
      "100%|██████████| 2/2 [00:23<00:00, 11.57s/it]\n"
     ]
    },
    {
     "name": "stdout",
     "output_type": "stream",
     "text": [
      "19 (21863, 4)\n"
     ]
    },
    {
     "name": "stderr",
     "output_type": "stream",
     "text": [
      "100%|██████████| 9/9 [01:30<00:00, 10.05s/it]\n"
     ]
    },
    {
     "name": "stdout",
     "output_type": "stream",
     "text": [
      "19 (36316, 4)\n"
     ]
    },
    {
     "name": "stderr",
     "output_type": "stream",
     "text": [
      "100%|██████████| 9/9 [01:18<00:00,  8.75s/it]\n"
     ]
    },
    {
     "name": "stdout",
     "output_type": "stream",
     "text": [
      "19 (49707, 4)\n"
     ]
    },
    {
     "name": "stderr",
     "output_type": "stream",
     "text": [
      "100%|██████████| 8/8 [00:51<00:00,  6.44s/it]\n"
     ]
    },
    {
     "name": "stdout",
     "output_type": "stream",
     "text": [
      "19 (54363, 4)\n"
     ]
    },
    {
     "name": "stderr",
     "output_type": "stream",
     "text": [
      "100%|██████████| 6/6 [00:54<00:00,  9.11s/it]\n"
     ]
    },
    {
     "name": "stdout",
     "output_type": "stream",
     "text": [
      "19 (62546, 4)\n"
     ]
    },
    {
     "name": "stderr",
     "output_type": "stream",
     "text": [
      "100%|██████████| 8/8 [01:05<00:00,  8.22s/it]\n"
     ]
    },
    {
     "name": "stdout",
     "output_type": "stream",
     "text": [
      "19 (72630, 4)\n"
     ]
    },
    {
     "name": "stderr",
     "output_type": "stream",
     "text": [
      "100%|██████████| 10/10 [01:17<00:00,  7.72s/it]\n"
     ]
    },
    {
     "name": "stdout",
     "output_type": "stream",
     "text": [
      "19 (82283, 4)\n"
     ]
    },
    {
     "name": "stderr",
     "output_type": "stream",
     "text": [
      "100%|██████████| 12/12 [01:47<00:00,  8.96s/it]\n"
     ]
    },
    {
     "name": "stdout",
     "output_type": "stream",
     "text": [
      "19 (98198, 4)\n"
     ]
    },
    {
     "name": "stderr",
     "output_type": "stream",
     "text": [
      "100%|██████████| 8/8 [01:10<00:00,  8.80s/it]\n"
     ]
    },
    {
     "name": "stdout",
     "output_type": "stream",
     "text": [
      "19 (107970, 4)\n"
     ]
    },
    {
     "name": "stderr",
     "output_type": "stream",
     "text": [
      "100%|██████████| 7/7 [00:41<00:00,  5.98s/it]\n"
     ]
    },
    {
     "name": "stdout",
     "output_type": "stream",
     "text": [
      "19 (110398, 4)\n"
     ]
    },
    {
     "name": "stderr",
     "output_type": "stream",
     "text": [
      "100%|██████████| 7/7 [00:32<00:00,  4.64s/it]\n"
     ]
    },
    {
     "name": "stdout",
     "output_type": "stream",
     "text": [
      "19 (110452, 4)\n"
     ]
    },
    {
     "name": "stderr",
     "output_type": "stream",
     "text": [
      "100%|██████████| 6/6 [00:37<00:00,  6.20s/it]\n"
     ]
    },
    {
     "name": "stdout",
     "output_type": "stream",
     "text": [
      "19 (113371, 4)\n"
     ]
    },
    {
     "name": "stderr",
     "output_type": "stream",
     "text": [
      "100%|██████████| 8/8 [01:08<00:00,  8.57s/it]"
     ]
    },
    {
     "name": "stdout",
     "output_type": "stream",
     "text": [
      "19 (121973, 4)\n"
     ]
    },
    {
     "name": "stderr",
     "output_type": "stream",
     "text": [
      "\n"
     ]
    }
   ],
   "source": [
    "cols = [\"vac_id\", \"vac_title\", \"op\", \"job\"]\n",
    "df_vac_bac = pd.DataFrame(columns=cols)\n",
    "\n",
    "# bac\n",
    "for i in valid_bac.index.values:\n",
    "    op = valid_bac[\"ОП\"][i]\n",
    "    job_list = valid_bac[\"jobs\"][i]\n",
    "    for job in tqdm(job_list):\n",
    "        for i in range(0,20):\n",
    "            try:\n",
    "                vacs = get_vacancies_idx(i, job)\n",
    "                cur_res = pd.DataFrame(vacs, columns=[\"vac_id\", \"vac_title\"])\n",
    "                cur_res[\"op\"] = op\n",
    "                cur_res[\"job\"] = job\n",
    "                df_vac_bac = pd.concat([df_vac_bac, cur_res])\n",
    "            except KeyError:\n",
    "                pass\n",
    "    print(i, df_vac_bac.shape)"
   ]
  },
  {
   "cell_type": "code",
   "execution_count": 16,
   "metadata": {},
   "outputs": [
    {
     "data": {
      "text/html": [
       "<div>\n",
       "<style scoped>\n",
       "    .dataframe tbody tr th:only-of-type {\n",
       "        vertical-align: middle;\n",
       "    }\n",
       "\n",
       "    .dataframe tbody tr th {\n",
       "        vertical-align: top;\n",
       "    }\n",
       "\n",
       "    .dataframe thead th {\n",
       "        text-align: right;\n",
       "    }\n",
       "</style>\n",
       "<table border=\"1\" class=\"dataframe\">\n",
       "  <thead>\n",
       "    <tr style=\"text-align: right;\">\n",
       "      <th></th>\n",
       "      <th>vac_id</th>\n",
       "      <th>vac_title</th>\n",
       "      <th>op</th>\n",
       "      <th>job</th>\n",
       "    </tr>\n",
       "  </thead>\n",
       "  <tbody>\n",
       "    <tr>\n",
       "      <th>0</th>\n",
       "      <td>94598651</td>\n",
       "      <td>Content Manager/Prompt Engineer</td>\n",
       "      <td>ЯЗЫКОВЫЕ МОДЕЛИ И ИСКУССТВЕННЫЙ ИНТЕЛЛЕКТ</td>\n",
       "      <td>prompt-инженер</td>\n",
       "    </tr>\n",
       "    <tr>\n",
       "      <th>1</th>\n",
       "      <td>96700997</td>\n",
       "      <td>Prompt Engineer/Промпт Инженер</td>\n",
       "      <td>ЯЗЫКОВЫЕ МОДЕЛИ И ИСКУССТВЕННЫЙ ИНТЕЛЛЕКТ</td>\n",
       "      <td>prompt-инженер</td>\n",
       "    </tr>\n",
       "    <tr>\n",
       "      <th>2</th>\n",
       "      <td>96617917</td>\n",
       "      <td>LLM Prompt Engineer</td>\n",
       "      <td>ЯЗЫКОВЫЕ МОДЕЛИ И ИСКУССТВЕННЫЙ ИНТЕЛЛЕКТ</td>\n",
       "      <td>prompt-инженер</td>\n",
       "    </tr>\n",
       "    <tr>\n",
       "      <th>3</th>\n",
       "      <td>95458486</td>\n",
       "      <td>Prompt-инженер (MTS AI)</td>\n",
       "      <td>ЯЗЫКОВЫЕ МОДЕЛИ И ИСКУССТВЕННЫЙ ИНТЕЛЛЕКТ</td>\n",
       "      <td>prompt-инженер</td>\n",
       "    </tr>\n",
       "    <tr>\n",
       "      <th>4</th>\n",
       "      <td>97133775</td>\n",
       "      <td>Prompt Engineer GigaChat</td>\n",
       "      <td>ЯЗЫКОВЫЕ МОДЕЛИ И ИСКУССТВЕННЫЙ ИНТЕЛЛЕКТ</td>\n",
       "      <td>prompt-инженер</td>\n",
       "    </tr>\n",
       "    <tr>\n",
       "      <th>...</th>\n",
       "      <td>...</td>\n",
       "      <td>...</td>\n",
       "      <td>...</td>\n",
       "      <td>...</td>\n",
       "    </tr>\n",
       "    <tr>\n",
       "      <th>30</th>\n",
       "      <td>93358833</td>\n",
       "      <td>Fullstack QA Engineer</td>\n",
       "      <td>БИОТЕХНОЛОГИЯ</td>\n",
       "      <td>специалист по валидации производства</td>\n",
       "    </tr>\n",
       "    <tr>\n",
       "      <th>31</th>\n",
       "      <td>93360140</td>\n",
       "      <td>QA Engineer</td>\n",
       "      <td>БИОТЕХНОЛОГИЯ</td>\n",
       "      <td>специалист по валидации производства</td>\n",
       "    </tr>\n",
       "    <tr>\n",
       "      <th>32</th>\n",
       "      <td>95167946</td>\n",
       "      <td>Технолог Цеха/химик</td>\n",
       "      <td>БИОТЕХНОЛОГИЯ</td>\n",
       "      <td>специалист по валидации производства</td>\n",
       "    </tr>\n",
       "    <tr>\n",
       "      <th>33</th>\n",
       "      <td>96114592</td>\n",
       "      <td>Data Science / Machine Learning Engineer</td>\n",
       "      <td>БИОТЕХНОЛОГИЯ</td>\n",
       "      <td>специалист по валидации производства</td>\n",
       "    </tr>\n",
       "    <tr>\n",
       "      <th>34</th>\n",
       "      <td>96237177</td>\n",
       "      <td>Технолог( Сузун)</td>\n",
       "      <td>БИОТЕХНОЛОГИЯ</td>\n",
       "      <td>специалист по валидации производства</td>\n",
       "    </tr>\n",
       "  </tbody>\n",
       "</table>\n",
       "<p>121973 rows × 4 columns</p>\n",
       "</div>"
      ],
      "text/plain": [
       "      vac_id                                 vac_title  \\\n",
       "0   94598651           Content Manager/Prompt Engineer   \n",
       "1   96700997            Prompt Engineer/Промпт Инженер   \n",
       "2   96617917                       LLM Prompt Engineer   \n",
       "3   95458486                   Prompt-инженер (MTS AI)   \n",
       "4   97133775                  Prompt Engineer GigaChat   \n",
       "..       ...                                       ...   \n",
       "30  93358833                     Fullstack QA Engineer   \n",
       "31  93360140                               QA Engineer   \n",
       "32  95167946                       Технолог Цеха/химик   \n",
       "33  96114592  Data Science / Machine Learning Engineer   \n",
       "34  96237177                          Технолог( Сузун)   \n",
       "\n",
       "                                           op  \\\n",
       "0   ЯЗЫКОВЫЕ МОДЕЛИ И ИСКУССТВЕННЫЙ ИНТЕЛЛЕКТ   \n",
       "1   ЯЗЫКОВЫЕ МОДЕЛИ И ИСКУССТВЕННЫЙ ИНТЕЛЛЕКТ   \n",
       "2   ЯЗЫКОВЫЕ МОДЕЛИ И ИСКУССТВЕННЫЙ ИНТЕЛЛЕКТ   \n",
       "3   ЯЗЫКОВЫЕ МОДЕЛИ И ИСКУССТВЕННЫЙ ИНТЕЛЛЕКТ   \n",
       "4   ЯЗЫКОВЫЕ МОДЕЛИ И ИСКУССТВЕННЫЙ ИНТЕЛЛЕКТ   \n",
       "..                                        ...   \n",
       "30                              БИОТЕХНОЛОГИЯ   \n",
       "31                              БИОТЕХНОЛОГИЯ   \n",
       "32                              БИОТЕХНОЛОГИЯ   \n",
       "33                              БИОТЕХНОЛОГИЯ   \n",
       "34                              БИОТЕХНОЛОГИЯ   \n",
       "\n",
       "                                     job  \n",
       "0                         prompt-инженер  \n",
       "1                         prompt-инженер  \n",
       "2                         prompt-инженер  \n",
       "3                         prompt-инженер  \n",
       "4                         prompt-инженер  \n",
       "..                                   ...  \n",
       "30  специалист по валидации производства  \n",
       "31  специалист по валидации производства  \n",
       "32  специалист по валидации производства  \n",
       "33  специалист по валидации производства  \n",
       "34  специалист по валидации производства  \n",
       "\n",
       "[121973 rows x 4 columns]"
      ]
     },
     "metadata": {},
     "output_type": "display_data"
    },
    {
     "name": "stdout",
     "output_type": "stream",
     "text": [
      "67292\n"
     ]
    }
   ],
   "source": [
    "display(df_vac_bac)\n",
    "print(df_vac_bac.vac_id.nunique())"
   ]
  },
  {
   "cell_type": "code",
   "execution_count": 36,
   "metadata": {},
   "outputs": [
    {
     "name": "stderr",
     "output_type": "stream",
     "text": [
      "100%|██████████| 9/9 [01:18<00:00,  8.76s/it]\n"
     ]
    },
    {
     "name": "stdout",
     "output_type": "stream",
     "text": [
      "1 (7850, 4)\n"
     ]
    },
    {
     "name": "stderr",
     "output_type": "stream",
     "text": [
      "100%|██████████| 1/1 [00:04<00:00,  4.85s/it]\n"
     ]
    },
    {
     "name": "stdout",
     "output_type": "stream",
     "text": [
      "3 (7887, 4)\n"
     ]
    },
    {
     "name": "stderr",
     "output_type": "stream",
     "text": [
      "100%|██████████| 5/5 [00:44<00:00,  8.85s/it]\n"
     ]
    },
    {
     "name": "stdout",
     "output_type": "stream",
     "text": [
      "5 (12484, 4)\n"
     ]
    },
    {
     "name": "stderr",
     "output_type": "stream",
     "text": [
      "100%|██████████| 3/3 [00:18<00:00,  6.26s/it]\n"
     ]
    },
    {
     "name": "stdout",
     "output_type": "stream",
     "text": [
      "6 (13003, 4)\n"
     ]
    },
    {
     "name": "stderr",
     "output_type": "stream",
     "text": [
      "100%|██████████| 13/13 [01:50<00:00,  8.50s/it]\n"
     ]
    },
    {
     "name": "stdout",
     "output_type": "stream",
     "text": [
      "7 (22289, 4)\n"
     ]
    },
    {
     "name": "stderr",
     "output_type": "stream",
     "text": [
      "100%|██████████| 10/10 [01:42<00:00, 10.23s/it]\n"
     ]
    },
    {
     "name": "stdout",
     "output_type": "stream",
     "text": [
      "8 (31941, 4)\n"
     ]
    },
    {
     "name": "stderr",
     "output_type": "stream",
     "text": [
      "100%|██████████| 3/3 [00:33<00:00, 11.26s/it]\n"
     ]
    },
    {
     "name": "stdout",
     "output_type": "stream",
     "text": [
      "9 (36008, 4)\n"
     ]
    },
    {
     "name": "stderr",
     "output_type": "stream",
     "text": [
      "100%|██████████| 8/8 [01:14<00:00,  9.29s/it]\n"
     ]
    },
    {
     "name": "stdout",
     "output_type": "stream",
     "text": [
      "10 (41167, 4)\n"
     ]
    },
    {
     "name": "stderr",
     "output_type": "stream",
     "text": [
      "100%|██████████| 6/6 [00:37<00:00,  6.19s/it]\n"
     ]
    },
    {
     "name": "stdout",
     "output_type": "stream",
     "text": [
      "11 (42525, 4)\n"
     ]
    },
    {
     "name": "stderr",
     "output_type": "stream",
     "text": [
      "100%|██████████| 9/9 [01:48<00:00, 12.07s/it]\n"
     ]
    },
    {
     "name": "stdout",
     "output_type": "stream",
     "text": [
      "12 (56532, 4)\n"
     ]
    },
    {
     "name": "stderr",
     "output_type": "stream",
     "text": [
      "100%|██████████| 8/8 [01:29<00:00, 11.16s/it]\n"
     ]
    },
    {
     "name": "stdout",
     "output_type": "stream",
     "text": [
      "13 (66023, 4)\n"
     ]
    },
    {
     "name": "stderr",
     "output_type": "stream",
     "text": [
      "100%|██████████| 1/1 [00:10<00:00, 10.49s/it]\n"
     ]
    },
    {
     "name": "stdout",
     "output_type": "stream",
     "text": [
      "15 (67120, 4)\n"
     ]
    },
    {
     "name": "stderr",
     "output_type": "stream",
     "text": [
      "100%|██████████| 4/4 [00:48<00:00, 12.20s/it]\n"
     ]
    },
    {
     "name": "stdout",
     "output_type": "stream",
     "text": [
      "16 (73192, 4)\n"
     ]
    },
    {
     "name": "stderr",
     "output_type": "stream",
     "text": [
      "100%|██████████| 9/9 [01:29<00:00,  9.97s/it]\n"
     ]
    },
    {
     "name": "stdout",
     "output_type": "stream",
     "text": [
      "17 (83100, 4)\n"
     ]
    },
    {
     "name": "stderr",
     "output_type": "stream",
     "text": [
      "100%|██████████| 17/17 [03:30<00:00, 12.36s/it]\n"
     ]
    },
    {
     "name": "stdout",
     "output_type": "stream",
     "text": [
      "18 (108593, 4)\n"
     ]
    },
    {
     "name": "stderr",
     "output_type": "stream",
     "text": [
      "100%|██████████| 11/11 [02:00<00:00, 10.96s/it]\n"
     ]
    },
    {
     "name": "stdout",
     "output_type": "stream",
     "text": [
      "19 (120519, 4)\n"
     ]
    },
    {
     "name": "stderr",
     "output_type": "stream",
     "text": [
      "100%|██████████| 5/5 [00:36<00:00,  7.28s/it]\n"
     ]
    },
    {
     "name": "stdout",
     "output_type": "stream",
     "text": [
      "20 (121927, 4)\n"
     ]
    },
    {
     "name": "stderr",
     "output_type": "stream",
     "text": [
      "100%|██████████| 7/7 [00:48<00:00,  6.88s/it]\n"
     ]
    },
    {
     "name": "stdout",
     "output_type": "stream",
     "text": [
      "21 (123000, 4)\n"
     ]
    },
    {
     "name": "stderr",
     "output_type": "stream",
     "text": [
      "100%|██████████| 1/1 [00:07<00:00,  7.08s/it]\n"
     ]
    },
    {
     "name": "stdout",
     "output_type": "stream",
     "text": [
      "22 (123547, 4)\n"
     ]
    },
    {
     "name": "stderr",
     "output_type": "stream",
     "text": [
      "100%|██████████| 2/2 [00:18<00:00,  9.12s/it]\n"
     ]
    },
    {
     "name": "stdout",
     "output_type": "stream",
     "text": [
      "23 (125631, 4)\n"
     ]
    },
    {
     "name": "stderr",
     "output_type": "stream",
     "text": [
      "100%|██████████| 1/1 [00:05<00:00,  5.59s/it]\n"
     ]
    },
    {
     "name": "stdout",
     "output_type": "stream",
     "text": [
      "24 (125672, 4)\n"
     ]
    },
    {
     "name": "stderr",
     "output_type": "stream",
     "text": [
      "100%|██████████| 8/8 [01:09<00:00,  8.65s/it]\n"
     ]
    },
    {
     "name": "stdout",
     "output_type": "stream",
     "text": [
      "25 (131054, 4)\n"
     ]
    },
    {
     "name": "stderr",
     "output_type": "stream",
     "text": [
      "100%|██████████| 5/5 [00:47<00:00,  9.53s/it]\n"
     ]
    },
    {
     "name": "stdout",
     "output_type": "stream",
     "text": [
      "26 (135721, 4)\n"
     ]
    },
    {
     "name": "stderr",
     "output_type": "stream",
     "text": [
      "100%|██████████| 7/7 [00:50<00:00,  7.15s/it]\n"
     ]
    },
    {
     "name": "stdout",
     "output_type": "stream",
     "text": [
      "27 (138112, 4)\n"
     ]
    },
    {
     "name": "stderr",
     "output_type": "stream",
     "text": [
      "100%|██████████| 3/3 [00:28<00:00,  9.37s/it]\n"
     ]
    },
    {
     "name": "stdout",
     "output_type": "stream",
     "text": [
      "28 (140656, 4)\n"
     ]
    },
    {
     "name": "stderr",
     "output_type": "stream",
     "text": [
      "100%|██████████| 6/6 [00:43<00:00,  7.28s/it]\n"
     ]
    },
    {
     "name": "stdout",
     "output_type": "stream",
     "text": [
      "29 (143628, 4)\n"
     ]
    },
    {
     "name": "stderr",
     "output_type": "stream",
     "text": [
      "100%|██████████| 8/8 [00:56<00:00,  7.05s/it]\n"
     ]
    },
    {
     "name": "stdout",
     "output_type": "stream",
     "text": [
      "30 (145652, 4)\n"
     ]
    },
    {
     "name": "stderr",
     "output_type": "stream",
     "text": [
      "100%|██████████| 3/3 [00:16<00:00,  5.35s/it]\n"
     ]
    },
    {
     "name": "stdout",
     "output_type": "stream",
     "text": [
      "32 (145666, 4)\n"
     ]
    },
    {
     "name": "stderr",
     "output_type": "stream",
     "text": [
      "100%|██████████| 5/5 [00:32<00:00,  6.45s/it]\n"
     ]
    },
    {
     "name": "stdout",
     "output_type": "stream",
     "text": [
      "33 (145974, 4)\n"
     ]
    },
    {
     "name": "stderr",
     "output_type": "stream",
     "text": [
      "100%|██████████| 5/5 [00:30<00:00,  6.03s/it]\n"
     ]
    },
    {
     "name": "stdout",
     "output_type": "stream",
     "text": [
      "35 (145977, 4)\n"
     ]
    },
    {
     "name": "stderr",
     "output_type": "stream",
     "text": [
      "100%|██████████| 2/2 [00:11<00:00,  5.77s/it]\n"
     ]
    },
    {
     "name": "stdout",
     "output_type": "stream",
     "text": [
      "36 (146015, 4)\n"
     ]
    },
    {
     "name": "stderr",
     "output_type": "stream",
     "text": [
      "100%|██████████| 3/3 [00:23<00:00,  8.00s/it]\n"
     ]
    },
    {
     "name": "stdout",
     "output_type": "stream",
     "text": [
      "37 (147809, 4)\n"
     ]
    },
    {
     "name": "stderr",
     "output_type": "stream",
     "text": [
      "100%|██████████| 10/10 [01:39<00:00,  9.95s/it]\n"
     ]
    },
    {
     "name": "stdout",
     "output_type": "stream",
     "text": [
      "38 (158417, 4)\n"
     ]
    },
    {
     "name": "stderr",
     "output_type": "stream",
     "text": [
      "100%|██████████| 11/11 [01:17<00:00,  7.01s/it]\n"
     ]
    },
    {
     "name": "stdout",
     "output_type": "stream",
     "text": [
      "39 (160927, 4)\n"
     ]
    },
    {
     "name": "stderr",
     "output_type": "stream",
     "text": [
      "100%|██████████| 5/5 [00:36<00:00,  7.23s/it]\n"
     ]
    },
    {
     "name": "stdout",
     "output_type": "stream",
     "text": [
      "40 (163231, 4)\n"
     ]
    },
    {
     "name": "stderr",
     "output_type": "stream",
     "text": [
      "100%|██████████| 1/1 [00:07<00:00,  7.07s/it]\n"
     ]
    },
    {
     "name": "stdout",
     "output_type": "stream",
     "text": [
      "42 (163231, 4)\n"
     ]
    },
    {
     "name": "stderr",
     "output_type": "stream",
     "text": [
      "100%|██████████| 4/4 [00:48<00:00, 12.16s/it]\n"
     ]
    },
    {
     "name": "stdout",
     "output_type": "stream",
     "text": [
      "43 (169231, 4)\n"
     ]
    },
    {
     "name": "stderr",
     "output_type": "stream",
     "text": [
      "100%|██████████| 4/4 [00:49<00:00, 12.46s/it]\n"
     ]
    },
    {
     "name": "stdout",
     "output_type": "stream",
     "text": [
      "46 (174956, 4)\n"
     ]
    },
    {
     "name": "stderr",
     "output_type": "stream",
     "text": [
      "100%|██████████| 3/3 [00:22<00:00,  7.39s/it]\n"
     ]
    },
    {
     "name": "stdout",
     "output_type": "stream",
     "text": [
      "48 (175789, 4)\n"
     ]
    },
    {
     "name": "stderr",
     "output_type": "stream",
     "text": [
      "100%|██████████| 4/4 [00:37<00:00,  9.48s/it]\n"
     ]
    },
    {
     "name": "stdout",
     "output_type": "stream",
     "text": [
      "49 (179802, 4)\n"
     ]
    },
    {
     "name": "stderr",
     "output_type": "stream",
     "text": [
      "100%|██████████| 4/4 [00:35<00:00,  8.86s/it]\n"
     ]
    },
    {
     "name": "stdout",
     "output_type": "stream",
     "text": [
      "50 (181873, 4)\n"
     ]
    },
    {
     "name": "stderr",
     "output_type": "stream",
     "text": [
      "100%|██████████| 7/7 [00:57<00:00,  8.25s/it]\n"
     ]
    },
    {
     "name": "stdout",
     "output_type": "stream",
     "text": [
      "51 (186062, 4)\n"
     ]
    },
    {
     "name": "stderr",
     "output_type": "stream",
     "text": [
      "100%|██████████| 4/4 [00:28<00:00,  7.12s/it]\n"
     ]
    },
    {
     "name": "stdout",
     "output_type": "stream",
     "text": [
      "52 (187521, 4)\n"
     ]
    },
    {
     "name": "stderr",
     "output_type": "stream",
     "text": [
      "100%|██████████| 8/8 [00:46<00:00,  5.83s/it]\n"
     ]
    },
    {
     "name": "stdout",
     "output_type": "stream",
     "text": [
      "53 (188702, 4)\n"
     ]
    },
    {
     "name": "stderr",
     "output_type": "stream",
     "text": [
      "100%|██████████| 4/4 [00:35<00:00,  8.88s/it]\n"
     ]
    },
    {
     "name": "stdout",
     "output_type": "stream",
     "text": [
      "54 (191188, 4)\n"
     ]
    },
    {
     "name": "stderr",
     "output_type": "stream",
     "text": [
      "100%|██████████| 7/7 [01:21<00:00, 11.70s/it]\n"
     ]
    },
    {
     "name": "stdout",
     "output_type": "stream",
     "text": [
      "55 (200237, 4)\n"
     ]
    },
    {
     "name": "stderr",
     "output_type": "stream",
     "text": [
      "100%|██████████| 9/9 [01:32<00:00, 10.29s/it]\n"
     ]
    },
    {
     "name": "stdout",
     "output_type": "stream",
     "text": [
      "58 (210567, 4)\n"
     ]
    },
    {
     "name": "stderr",
     "output_type": "stream",
     "text": [
      "100%|██████████| 6/6 [00:33<00:00,  5.58s/it]\n"
     ]
    },
    {
     "name": "stdout",
     "output_type": "stream",
     "text": [
      "62 (210640, 4)\n"
     ]
    },
    {
     "name": "stderr",
     "output_type": "stream",
     "text": [
      "100%|██████████| 2/2 [00:22<00:00, 11.32s/it]\n"
     ]
    },
    {
     "name": "stdout",
     "output_type": "stream",
     "text": [
      "63 (213621, 4)\n"
     ]
    },
    {
     "name": "stderr",
     "output_type": "stream",
     "text": [
      "100%|██████████| 7/7 [01:03<00:00,  9.09s/it]\n"
     ]
    },
    {
     "name": "stdout",
     "output_type": "stream",
     "text": [
      "64 (219900, 4)\n"
     ]
    },
    {
     "name": "stderr",
     "output_type": "stream",
     "text": [
      "100%|██████████| 8/8 [01:00<00:00,  7.51s/it]\n"
     ]
    },
    {
     "name": "stdout",
     "output_type": "stream",
     "text": [
      "66 (223591, 4)\n"
     ]
    },
    {
     "name": "stderr",
     "output_type": "stream",
     "text": [
      "100%|██████████| 6/6 [00:53<00:00,  8.85s/it]\n"
     ]
    },
    {
     "name": "stdout",
     "output_type": "stream",
     "text": [
      "67 (228660, 4)\n"
     ]
    },
    {
     "name": "stderr",
     "output_type": "stream",
     "text": [
      "100%|██████████| 3/3 [00:16<00:00,  5.65s/it]\n"
     ]
    },
    {
     "name": "stdout",
     "output_type": "stream",
     "text": [
      "68 (228972, 4)\n"
     ]
    },
    {
     "name": "stderr",
     "output_type": "stream",
     "text": [
      "100%|██████████| 4/4 [00:34<00:00,  8.56s/it]\n"
     ]
    },
    {
     "name": "stdout",
     "output_type": "stream",
     "text": [
      "69 (232223, 4)\n"
     ]
    },
    {
     "name": "stderr",
     "output_type": "stream",
     "text": [
      "100%|██████████| 10/10 [01:39<00:00,  9.96s/it]\n"
     ]
    },
    {
     "name": "stdout",
     "output_type": "stream",
     "text": [
      "70 (242037, 4)\n"
     ]
    },
    {
     "name": "stderr",
     "output_type": "stream",
     "text": [
      "100%|██████████| 8/8 [01:13<00:00,  9.18s/it]\n"
     ]
    },
    {
     "name": "stdout",
     "output_type": "stream",
     "text": [
      "71 (249802, 4)\n"
     ]
    },
    {
     "name": "stderr",
     "output_type": "stream",
     "text": [
      "100%|██████████| 9/9 [01:13<00:00,  8.17s/it]\n"
     ]
    },
    {
     "name": "stdout",
     "output_type": "stream",
     "text": [
      "76 (255827, 4)\n"
     ]
    },
    {
     "name": "stderr",
     "output_type": "stream",
     "text": [
      "100%|██████████| 4/4 [00:32<00:00,  8.17s/it]"
     ]
    },
    {
     "name": "stdout",
     "output_type": "stream",
     "text": [
      "79 (258365, 4)\n"
     ]
    },
    {
     "name": "stderr",
     "output_type": "stream",
     "text": [
      "\n"
     ]
    }
   ],
   "source": [
    "df_vac_mas = pd.DataFrame(columns=cols)\n",
    "\n",
    "# bac\n",
    "for i in valid_mas.index.values:\n",
    "    op = valid_mas[\"ОП\"][i]\n",
    "    job_list = valid_mas[\"jobs\"][i]\n",
    "    for job in tqdm(job_list):\n",
    "        for j in range(0,20):\n",
    "            try:\n",
    "                vacs = get_vacancies_idx(j, job)\n",
    "                cur_res = pd.DataFrame(vacs, columns=[\"vac_id\", \"vac_title\"])\n",
    "                cur_res[\"op\"] = op\n",
    "                cur_res[\"job\"] = job\n",
    "                df_vac_mas = pd.concat([df_vac_mas, cur_res])\n",
    "            except KeyError:\n",
    "                pass\n",
    "    print(i, df_vac_mas.shape)"
   ]
  },
  {
   "cell_type": "code",
   "execution_count": 37,
   "metadata": {},
   "outputs": [
    {
     "data": {
      "text/html": [
       "<div>\n",
       "<style scoped>\n",
       "    .dataframe tbody tr th:only-of-type {\n",
       "        vertical-align: middle;\n",
       "    }\n",
       "\n",
       "    .dataframe tbody tr th {\n",
       "        vertical-align: top;\n",
       "    }\n",
       "\n",
       "    .dataframe thead th {\n",
       "        text-align: right;\n",
       "    }\n",
       "</style>\n",
       "<table border=\"1\" class=\"dataframe\">\n",
       "  <thead>\n",
       "    <tr style=\"text-align: right;\">\n",
       "      <th></th>\n",
       "      <th>vac_id</th>\n",
       "      <th>vac_title</th>\n",
       "      <th>op</th>\n",
       "      <th>job</th>\n",
       "    </tr>\n",
       "  </thead>\n",
       "  <tbody>\n",
       "    <tr>\n",
       "      <th>0</th>\n",
       "      <td>67445769</td>\n",
       "      <td>Программист-математик С++</td>\n",
       "      <td>МАТЕМАТИЧЕСКОЕ И КОМПЬЮТЕРНОЕ МОДЕЛИРОВАНИЕ</td>\n",
       "      <td>программистом-математиком</td>\n",
       "    </tr>\n",
       "    <tr>\n",
       "      <th>1</th>\n",
       "      <td>91972208</td>\n",
       "      <td>Разработчик C++/Математик</td>\n",
       "      <td>МАТЕМАТИЧЕСКОЕ И КОМПЬЮТЕРНОЕ МОДЕЛИРОВАНИЕ</td>\n",
       "      <td>программистом-математиком</td>\n",
       "    </tr>\n",
       "    <tr>\n",
       "      <th>2</th>\n",
       "      <td>97703373</td>\n",
       "      <td>Разработчик алгоритмов / физик / математик</td>\n",
       "      <td>МАТЕМАТИЧЕСКОЕ И КОМПЬЮТЕРНОЕ МОДЕЛИРОВАНИЕ</td>\n",
       "      <td>программистом-математиком</td>\n",
       "    </tr>\n",
       "    <tr>\n",
       "      <th>3</th>\n",
       "      <td>96209306</td>\n",
       "      <td>Математик-программист</td>\n",
       "      <td>МАТЕМАТИЧЕСКОЕ И КОМПЬЮТЕРНОЕ МОДЕЛИРОВАНИЕ</td>\n",
       "      <td>программистом-математиком</td>\n",
       "    </tr>\n",
       "    <tr>\n",
       "      <th>4</th>\n",
       "      <td>95129186</td>\n",
       "      <td>Инженер-программист (математик)</td>\n",
       "      <td>МАТЕМАТИЧЕСКОЕ И КОМПЬЮТЕРНОЕ МОДЕЛИРОВАНИЕ</td>\n",
       "      <td>программистом-математиком</td>\n",
       "    </tr>\n",
       "    <tr>\n",
       "      <th>...</th>\n",
       "      <td>...</td>\n",
       "      <td>...</td>\n",
       "      <td>...</td>\n",
       "      <td>...</td>\n",
       "    </tr>\n",
       "    <tr>\n",
       "      <th>28</th>\n",
       "      <td>95598013</td>\n",
       "      <td>Technical Support Specialist</td>\n",
       "      <td>ЦИФРОВЫЕ ПРОДУКТЫ: СОЗДАНИЕ И УПРАВЛЕНИЕ</td>\n",
       "      <td>head of product</td>\n",
       "    </tr>\n",
       "    <tr>\n",
       "      <th>29</th>\n",
       "      <td>96124431</td>\n",
       "      <td>Backend разработчик (Laravel, PHP)</td>\n",
       "      <td>ЦИФРОВЫЕ ПРОДУКТЫ: СОЗДАНИЕ И УПРАВЛЕНИЕ</td>\n",
       "      <td>head of product</td>\n",
       "    </tr>\n",
       "    <tr>\n",
       "      <th>30</th>\n",
       "      <td>96126290</td>\n",
       "      <td>Бизнес-аналитик Tsum Outlet</td>\n",
       "      <td>ЦИФРОВЫЕ ПРОДУКТЫ: СОЗДАНИЕ И УПРАВЛЕНИЕ</td>\n",
       "      <td>head of product</td>\n",
       "    </tr>\n",
       "    <tr>\n",
       "      <th>31</th>\n",
       "      <td>95535405</td>\n",
       "      <td>Field Representative in Kyrgyzstan</td>\n",
       "      <td>ЦИФРОВЫЕ ПРОДУКТЫ: СОЗДАНИЕ И УПРАВЛЕНИЕ</td>\n",
       "      <td>head of product</td>\n",
       "    </tr>\n",
       "    <tr>\n",
       "      <th>32</th>\n",
       "      <td>95455453</td>\n",
       "      <td>Аналитик-разработчик данных</td>\n",
       "      <td>ЦИФРОВЫЕ ПРОДУКТЫ: СОЗДАНИЕ И УПРАВЛЕНИЕ</td>\n",
       "      <td>head of product</td>\n",
       "    </tr>\n",
       "  </tbody>\n",
       "</table>\n",
       "<p>258365 rows × 4 columns</p>\n",
       "</div>"
      ],
      "text/plain": [
       "      vac_id                                   vac_title  \\\n",
       "0   67445769                   Программист-математик С++   \n",
       "1   91972208                   Разработчик C++/Математик   \n",
       "2   97703373  Разработчик алгоритмов / физик / математик   \n",
       "3   96209306                       Математик-программист   \n",
       "4   95129186             Инженер-программист (математик)   \n",
       "..       ...                                         ...   \n",
       "28  95598013                Technical Support Specialist   \n",
       "29  96124431          Backend разработчик (Laravel, PHP)   \n",
       "30  96126290                 Бизнес-аналитик Tsum Outlet   \n",
       "31  95535405          Field Representative in Kyrgyzstan   \n",
       "32  95455453                 Аналитик-разработчик данных   \n",
       "\n",
       "                                             op                        job  \n",
       "0   МАТЕМАТИЧЕСКОЕ И КОМПЬЮТЕРНОЕ МОДЕЛИРОВАНИЕ  программистом-математиком  \n",
       "1   МАТЕМАТИЧЕСКОЕ И КОМПЬЮТЕРНОЕ МОДЕЛИРОВАНИЕ  программистом-математиком  \n",
       "2   МАТЕМАТИЧЕСКОЕ И КОМПЬЮТЕРНОЕ МОДЕЛИРОВАНИЕ  программистом-математиком  \n",
       "3   МАТЕМАТИЧЕСКОЕ И КОМПЬЮТЕРНОЕ МОДЕЛИРОВАНИЕ  программистом-математиком  \n",
       "4   МАТЕМАТИЧЕСКОЕ И КОМПЬЮТЕРНОЕ МОДЕЛИРОВАНИЕ  программистом-математиком  \n",
       "..                                          ...                        ...  \n",
       "28     ЦИФРОВЫЕ ПРОДУКТЫ: СОЗДАНИЕ И УПРАВЛЕНИЕ            head of product  \n",
       "29     ЦИФРОВЫЕ ПРОДУКТЫ: СОЗДАНИЕ И УПРАВЛЕНИЕ            head of product  \n",
       "30     ЦИФРОВЫЕ ПРОДУКТЫ: СОЗДАНИЕ И УПРАВЛЕНИЕ            head of product  \n",
       "31     ЦИФРОВЫЕ ПРОДУКТЫ: СОЗДАНИЕ И УПРАВЛЕНИЕ            head of product  \n",
       "32     ЦИФРОВЫЕ ПРОДУКТЫ: СОЗДАНИЕ И УПРАВЛЕНИЕ            head of product  \n",
       "\n",
       "[258365 rows x 4 columns]"
      ]
     },
     "metadata": {},
     "output_type": "display_data"
    },
    {
     "name": "stdout",
     "output_type": "stream",
     "text": [
      "113361\n"
     ]
    }
   ],
   "source": [
    "display(df_vac_mas)\n",
    "print(df_vac_mas.vac_id.nunique())"
   ]
  },
  {
   "cell_type": "code",
   "execution_count": 24,
   "metadata": {},
   "outputs": [],
   "source": [
    "def get_skills_by_id(vac_id):\n",
    "    headers = {'Authorization': f'Bearer {TOKEN}'}\n",
    "    url = 'https://api.hh.ru/vacancies/'\n",
    "    response = requests.get(url+vac_id, headers=headers)\n",
    "    res2 = response.json()\n",
    "    try:\n",
    "        return [x[\"name\"] for x in res2[\"key_skills\"]]\n",
    "    except KeyError:\n",
    "        return []\n"
   ]
  },
  {
   "cell_type": "code",
   "execution_count": 22,
   "metadata": {},
   "outputs": [
    {
     "data": {
      "text/plain": [
       "(67292, 4)"
      ]
     },
     "execution_count": 22,
     "metadata": {},
     "output_type": "execute_result"
    }
   ],
   "source": [
    "df_bac_uniq = df_vac_bac.drop_duplicates(subset=[\"vac_id\"])\n",
    "df_bac_uniq.shape"
   ]
  },
  {
   "cell_type": "code",
   "execution_count": 25,
   "metadata": {},
   "outputs": [
    {
     "name": "stderr",
     "output_type": "stream",
     "text": [
      "100%|██████████| 67292/67292 [4:26:53<00:00,  4.20it/s]  \n",
      "<ipython-input-25-0f58e1356cf4>:1: SettingWithCopyWarning: \n",
      "A value is trying to be set on a copy of a slice from a DataFrame.\n",
      "Try using .loc[row_indexer,col_indexer] = value instead\n",
      "\n",
      "See the caveats in the documentation: https://pandas.pydata.org/pandas-docs/stable/user_guide/indexing.html#returning-a-view-versus-a-copy\n",
      "  df_bac_uniq[\"skills\"] = df_bac_uniq.vac_id.progress_apply(get_skills_by_id)\n"
     ]
    }
   ],
   "source": [
    "df_bac_uniq[\"skills\"] = df_bac_uniq.vac_id.progress_apply(get_skills_by_id)"
   ]
  },
  {
   "cell_type": "code",
   "execution_count": 26,
   "metadata": {},
   "outputs": [
    {
     "data": {
      "text/html": [
       "<div>\n",
       "<style scoped>\n",
       "    .dataframe tbody tr th:only-of-type {\n",
       "        vertical-align: middle;\n",
       "    }\n",
       "\n",
       "    .dataframe tbody tr th {\n",
       "        vertical-align: top;\n",
       "    }\n",
       "\n",
       "    .dataframe thead th {\n",
       "        text-align: right;\n",
       "    }\n",
       "</style>\n",
       "<table border=\"1\" class=\"dataframe\">\n",
       "  <thead>\n",
       "    <tr style=\"text-align: right;\">\n",
       "      <th></th>\n",
       "      <th>vac_id</th>\n",
       "      <th>vac_title</th>\n",
       "      <th>op</th>\n",
       "      <th>job</th>\n",
       "      <th>skills</th>\n",
       "    </tr>\n",
       "  </thead>\n",
       "  <tbody>\n",
       "    <tr>\n",
       "      <th>0</th>\n",
       "      <td>94598651</td>\n",
       "      <td>Content Manager/Prompt Engineer</td>\n",
       "      <td>ЯЗЫКОВЫЕ МОДЕЛИ И ИСКУССТВЕННЫЙ ИНТЕЛЛЕКТ</td>\n",
       "      <td>prompt-инженер</td>\n",
       "      <td>[Английский язык, PROMT, Креативность, API, PDF]</td>\n",
       "    </tr>\n",
       "    <tr>\n",
       "      <th>1</th>\n",
       "      <td>96700997</td>\n",
       "      <td>Prompt Engineer/Промпт Инженер</td>\n",
       "      <td>ЯЗЫКОВЫЕ МОДЕЛИ И ИСКУССТВЕННЫЙ ИНТЕЛЛЕКТ</td>\n",
       "      <td>prompt-инженер</td>\n",
       "      <td>[]</td>\n",
       "    </tr>\n",
       "    <tr>\n",
       "      <th>2</th>\n",
       "      <td>96617917</td>\n",
       "      <td>LLM Prompt Engineer</td>\n",
       "      <td>ЯЗЫКОВЫЕ МОДЕЛИ И ИСКУССТВЕННЫЙ ИНТЕЛЛЕКТ</td>\n",
       "      <td>prompt-инженер</td>\n",
       "      <td>[Python, SQL]</td>\n",
       "    </tr>\n",
       "    <tr>\n",
       "      <th>3</th>\n",
       "      <td>95458486</td>\n",
       "      <td>Prompt-инженер (MTS AI)</td>\n",
       "      <td>ЯЗЫКОВЫЕ МОДЕЛИ И ИСКУССТВЕННЫЙ ИНТЕЛЛЕКТ</td>\n",
       "      <td>prompt-инженер</td>\n",
       "      <td>[Английский язык, Python]</td>\n",
       "    </tr>\n",
       "    <tr>\n",
       "      <th>4</th>\n",
       "      <td>97133775</td>\n",
       "      <td>Prompt Engineer GigaChat</td>\n",
       "      <td>ЯЗЫКОВЫЕ МОДЕЛИ И ИСКУССТВЕННЫЙ ИНТЕЛЛЕКТ</td>\n",
       "      <td>prompt-инженер</td>\n",
       "      <td>[]</td>\n",
       "    </tr>\n",
       "    <tr>\n",
       "      <th>...</th>\n",
       "      <td>...</td>\n",
       "      <td>...</td>\n",
       "      <td>...</td>\n",
       "      <td>...</td>\n",
       "      <td>...</td>\n",
       "    </tr>\n",
       "    <tr>\n",
       "      <th>21</th>\n",
       "      <td>96250675</td>\n",
       "      <td>Инженер-химик</td>\n",
       "      <td>БИОТЕХНОЛОГИЯ</td>\n",
       "      <td>специалист по валидации производства</td>\n",
       "      <td>[]</td>\n",
       "    </tr>\n",
       "    <tr>\n",
       "      <th>24</th>\n",
       "      <td>94259722</td>\n",
       "      <td>Инженер-технолог</td>\n",
       "      <td>БИОТЕХНОЛОГИЯ</td>\n",
       "      <td>специалист по валидации производства</td>\n",
       "      <td>[Микросхемы, Термозвуковая микросварка, Сбороч...</td>\n",
       "    </tr>\n",
       "    <tr>\n",
       "      <th>25</th>\n",
       "      <td>95449153</td>\n",
       "      <td>Инженер-прочнист</td>\n",
       "      <td>БИОТЕХНОЛОГИЯ</td>\n",
       "      <td>специалист по валидации производства</td>\n",
       "      <td>[ЕСКД, ГОСТ]</td>\n",
       "    </tr>\n",
       "    <tr>\n",
       "      <th>26</th>\n",
       "      <td>95449101</td>\n",
       "      <td>Инженер-прочнист</td>\n",
       "      <td>БИОТЕХНОЛОГИЯ</td>\n",
       "      <td>специалист по валидации производства</td>\n",
       "      <td>[ЕСКД, ГОСТ]</td>\n",
       "    </tr>\n",
       "    <tr>\n",
       "      <th>32</th>\n",
       "      <td>95167946</td>\n",
       "      <td>Технолог Цеха/химик</td>\n",
       "      <td>БИОТЕХНОЛОГИЯ</td>\n",
       "      <td>специалист по валидации производства</td>\n",
       "      <td>[]</td>\n",
       "    </tr>\n",
       "  </tbody>\n",
       "</table>\n",
       "<p>67292 rows × 5 columns</p>\n",
       "</div>"
      ],
      "text/plain": [
       "      vac_id                        vac_title  \\\n",
       "0   94598651  Content Manager/Prompt Engineer   \n",
       "1   96700997   Prompt Engineer/Промпт Инженер   \n",
       "2   96617917              LLM Prompt Engineer   \n",
       "3   95458486          Prompt-инженер (MTS AI)   \n",
       "4   97133775         Prompt Engineer GigaChat   \n",
       "..       ...                              ...   \n",
       "21  96250675                    Инженер-химик   \n",
       "24  94259722                 Инженер-технолог   \n",
       "25  95449153                 Инженер-прочнист   \n",
       "26  95449101                 Инженер-прочнист   \n",
       "32  95167946              Технолог Цеха/химик   \n",
       "\n",
       "                                           op  \\\n",
       "0   ЯЗЫКОВЫЕ МОДЕЛИ И ИСКУССТВЕННЫЙ ИНТЕЛЛЕКТ   \n",
       "1   ЯЗЫКОВЫЕ МОДЕЛИ И ИСКУССТВЕННЫЙ ИНТЕЛЛЕКТ   \n",
       "2   ЯЗЫКОВЫЕ МОДЕЛИ И ИСКУССТВЕННЫЙ ИНТЕЛЛЕКТ   \n",
       "3   ЯЗЫКОВЫЕ МОДЕЛИ И ИСКУССТВЕННЫЙ ИНТЕЛЛЕКТ   \n",
       "4   ЯЗЫКОВЫЕ МОДЕЛИ И ИСКУССТВЕННЫЙ ИНТЕЛЛЕКТ   \n",
       "..                                        ...   \n",
       "21                              БИОТЕХНОЛОГИЯ   \n",
       "24                              БИОТЕХНОЛОГИЯ   \n",
       "25                              БИОТЕХНОЛОГИЯ   \n",
       "26                              БИОТЕХНОЛОГИЯ   \n",
       "32                              БИОТЕХНОЛОГИЯ   \n",
       "\n",
       "                                     job  \\\n",
       "0                         prompt-инженер   \n",
       "1                         prompt-инженер   \n",
       "2                         prompt-инженер   \n",
       "3                         prompt-инженер   \n",
       "4                         prompt-инженер   \n",
       "..                                   ...   \n",
       "21  специалист по валидации производства   \n",
       "24  специалист по валидации производства   \n",
       "25  специалист по валидации производства   \n",
       "26  специалист по валидации производства   \n",
       "32  специалист по валидации производства   \n",
       "\n",
       "                                               skills  \n",
       "0    [Английский язык, PROMT, Креативность, API, PDF]  \n",
       "1                                                  []  \n",
       "2                                       [Python, SQL]  \n",
       "3                           [Английский язык, Python]  \n",
       "4                                                  []  \n",
       "..                                                ...  \n",
       "21                                                 []  \n",
       "24  [Микросхемы, Термозвуковая микросварка, Сбороч...  \n",
       "25                                       [ЕСКД, ГОСТ]  \n",
       "26                                       [ЕСКД, ГОСТ]  \n",
       "32                                                 []  \n",
       "\n",
       "[67292 rows x 5 columns]"
      ]
     },
     "execution_count": 26,
     "metadata": {},
     "output_type": "execute_result"
    }
   ],
   "source": [
    "df_bac_uniq"
   ]
  },
  {
   "cell_type": "code",
   "execution_count": 28,
   "metadata": {},
   "outputs": [
    {
     "data": {
      "text/plain": [
       "((260406, 4), (113753, 4))"
      ]
     },
     "execution_count": 28,
     "metadata": {},
     "output_type": "execute_result"
    }
   ],
   "source": [
    "bac_idx = df_bac_uniq.vac_id.values\n",
    "df_mas_uniq = df_vac_mas.drop_duplicates(subset=[\"vac_id\"])\n",
    "df_vac_mas.shape, df_mas_uniq.shape"
   ]
  },
  {
   "cell_type": "code",
   "execution_count": 29,
   "metadata": {},
   "outputs": [
    {
     "data": {
      "text/plain": [
       "(64095, 4)"
      ]
     },
     "execution_count": 29,
     "metadata": {},
     "output_type": "execute_result"
    }
   ],
   "source": [
    "df_mas_uniq = df_mas_uniq.loc[~df_mas_uniq.vac_id.isin(bac_idx)]\n",
    "df_mas_uniq.shape"
   ]
  },
  {
   "cell_type": "code",
   "execution_count": 30,
   "metadata": {},
   "outputs": [
    {
     "name": "stderr",
     "output_type": "stream",
     "text": [
      "100%|██████████| 64095/64095 [3:05:57<00:00,  5.74it/s]   \n"
     ]
    }
   ],
   "source": [
    "df_mas_uniq[\"skills\"] = df_mas_uniq.vac_id.progress_apply(get_skills_by_id)"
   ]
  },
  {
   "cell_type": "code",
   "execution_count": 31,
   "metadata": {},
   "outputs": [
    {
     "data": {
      "text/html": [
       "<div>\n",
       "<style scoped>\n",
       "    .dataframe tbody tr th:only-of-type {\n",
       "        vertical-align: middle;\n",
       "    }\n",
       "\n",
       "    .dataframe tbody tr th {\n",
       "        vertical-align: top;\n",
       "    }\n",
       "\n",
       "    .dataframe thead th {\n",
       "        text-align: right;\n",
       "    }\n",
       "</style>\n",
       "<table border=\"1\" class=\"dataframe\">\n",
       "  <thead>\n",
       "    <tr style=\"text-align: right;\">\n",
       "      <th></th>\n",
       "      <th>vac_id</th>\n",
       "      <th>vac_title</th>\n",
       "      <th>op</th>\n",
       "      <th>job</th>\n",
       "      <th>skills</th>\n",
       "    </tr>\n",
       "  </thead>\n",
       "  <tbody>\n",
       "    <tr>\n",
       "      <th>1</th>\n",
       "      <td>67445769</td>\n",
       "      <td>Программист-математик С++</td>\n",
       "      <td>МАТЕМАТИЧЕСКОЕ И КОМПЬЮТЕРНОЕ МОДЕЛИРОВАНИЕ</td>\n",
       "      <td>программистом-математиком</td>\n",
       "      <td>[C++, Математический анализ, Вычислительная ма...</td>\n",
       "    </tr>\n",
       "    <tr>\n",
       "      <th>6</th>\n",
       "      <td>97088149</td>\n",
       "      <td>Математик, программист Matlab</td>\n",
       "      <td>МАТЕМАТИЧЕСКОЕ И КОМПЬЮТЕРНОЕ МОДЕЛИРОВАНИЕ</td>\n",
       "      <td>программистом-математиком</td>\n",
       "      <td>[MATLAB, Математическое моделирование]</td>\n",
       "    </tr>\n",
       "    <tr>\n",
       "      <th>11</th>\n",
       "      <td>96684177</td>\n",
       "      <td>Программист-математик</td>\n",
       "      <td>МАТЕМАТИЧЕСКОЕ И КОМПЬЮТЕРНОЕ МОДЕЛИРОВАНИЕ</td>\n",
       "      <td>программистом-математиком</td>\n",
       "      <td>[]</td>\n",
       "    </tr>\n",
       "    <tr>\n",
       "      <th>12</th>\n",
       "      <td>95026705</td>\n",
       "      <td>Математик / Программист</td>\n",
       "      <td>МАТЕМАТИЧЕСКОЕ И КОМПЬЮТЕРНОЕ МОДЕЛИРОВАНИЕ</td>\n",
       "      <td>программистом-математиком</td>\n",
       "      <td>[C++, MATLAB]</td>\n",
       "    </tr>\n",
       "    <tr>\n",
       "      <th>13</th>\n",
       "      <td>96448254</td>\n",
       "      <td>Программист-математик</td>\n",
       "      <td>МАТЕМАТИЧЕСКОЕ И КОМПЬЮТЕРНОЕ МОДЕЛИРОВАНИЕ</td>\n",
       "      <td>программистом-математиком</td>\n",
       "      <td>[]</td>\n",
       "    </tr>\n",
       "    <tr>\n",
       "      <th>...</th>\n",
       "      <td>...</td>\n",
       "      <td>...</td>\n",
       "      <td>...</td>\n",
       "      <td>...</td>\n",
       "      <td>...</td>\n",
       "    </tr>\n",
       "    <tr>\n",
       "      <th>95</th>\n",
       "      <td>96601781</td>\n",
       "      <td>Assistant Event Manager</td>\n",
       "      <td>ЦИФРОВЫЕ ПРОДУКТЫ: СОЗДАНИЕ И УПРАВЛЕНИЕ</td>\n",
       "      <td>head of product</td>\n",
       "      <td>[]</td>\n",
       "    </tr>\n",
       "    <tr>\n",
       "      <th>99</th>\n",
       "      <td>96434848</td>\n",
       "      <td>International sales</td>\n",
       "      <td>ЦИФРОВЫЕ ПРОДУКТЫ: СОЗДАНИЕ И УПРАВЛЕНИЕ</td>\n",
       "      <td>head of product</td>\n",
       "      <td>[Холодные продажи, Традиционная розница, Актив...</td>\n",
       "    </tr>\n",
       "    <tr>\n",
       "      <th>5</th>\n",
       "      <td>92237016</td>\n",
       "      <td>Sales Manager (Novosibirsk)</td>\n",
       "      <td>ЦИФРОВЫЕ ПРОДУКТЫ: СОЗДАНИЕ И УПРАВЛЕНИЕ</td>\n",
       "      <td>head of product</td>\n",
       "      <td>[Английский язык, Customer Service, Sales Plan...</td>\n",
       "    </tr>\n",
       "    <tr>\n",
       "      <th>9</th>\n",
       "      <td>95613910</td>\n",
       "      <td>Инженер технической поддержки PDU/KVM / Techni...</td>\n",
       "      <td>ЦИФРОВЫЕ ПРОДУКТЫ: СОЗДАНИЕ И УПРАВЛЕНИЕ</td>\n",
       "      <td>head of product</td>\n",
       "      <td>[Английский язык, Техническое обслуживание, Де...</td>\n",
       "    </tr>\n",
       "    <tr>\n",
       "      <th>25</th>\n",
       "      <td>95435455</td>\n",
       "      <td>SEO-специалист Middle+ в игровую экосистему</td>\n",
       "      <td>ЦИФРОВЫЕ ПРОДУКТЫ: СОЗДАНИЕ И УПРАВЛЕНИЕ</td>\n",
       "      <td>head of product</td>\n",
       "      <td>[Технический аудит сайта, Google Analytics, Ко...</td>\n",
       "    </tr>\n",
       "  </tbody>\n",
       "</table>\n",
       "<p>64095 rows × 5 columns</p>\n",
       "</div>"
      ],
      "text/plain": [
       "      vac_id                                          vac_title  \\\n",
       "1   67445769                          Программист-математик С++   \n",
       "6   97088149                      Математик, программист Matlab   \n",
       "11  96684177                              Программист-математик   \n",
       "12  95026705                            Математик / Программист   \n",
       "13  96448254                              Программист-математик   \n",
       "..       ...                                                ...   \n",
       "95  96601781                            Assistant Event Manager   \n",
       "99  96434848                                International sales   \n",
       "5   92237016                        Sales Manager (Novosibirsk)   \n",
       "9   95613910  Инженер технической поддержки PDU/KVM / Techni...   \n",
       "25  95435455        SEO-специалист Middle+ в игровую экосистему   \n",
       "\n",
       "                                             op                        job  \\\n",
       "1   МАТЕМАТИЧЕСКОЕ И КОМПЬЮТЕРНОЕ МОДЕЛИРОВАНИЕ  программистом-математиком   \n",
       "6   МАТЕМАТИЧЕСКОЕ И КОМПЬЮТЕРНОЕ МОДЕЛИРОВАНИЕ  программистом-математиком   \n",
       "11  МАТЕМАТИЧЕСКОЕ И КОМПЬЮТЕРНОЕ МОДЕЛИРОВАНИЕ  программистом-математиком   \n",
       "12  МАТЕМАТИЧЕСКОЕ И КОМПЬЮТЕРНОЕ МОДЕЛИРОВАНИЕ  программистом-математиком   \n",
       "13  МАТЕМАТИЧЕСКОЕ И КОМПЬЮТЕРНОЕ МОДЕЛИРОВАНИЕ  программистом-математиком   \n",
       "..                                          ...                        ...   \n",
       "95     ЦИФРОВЫЕ ПРОДУКТЫ: СОЗДАНИЕ И УПРАВЛЕНИЕ            head of product   \n",
       "99     ЦИФРОВЫЕ ПРОДУКТЫ: СОЗДАНИЕ И УПРАВЛЕНИЕ            head of product   \n",
       "5      ЦИФРОВЫЕ ПРОДУКТЫ: СОЗДАНИЕ И УПРАВЛЕНИЕ            head of product   \n",
       "9      ЦИФРОВЫЕ ПРОДУКТЫ: СОЗДАНИЕ И УПРАВЛЕНИЕ            head of product   \n",
       "25     ЦИФРОВЫЕ ПРОДУКТЫ: СОЗДАНИЕ И УПРАВЛЕНИЕ            head of product   \n",
       "\n",
       "                                               skills  \n",
       "1   [C++, Математический анализ, Вычислительная ма...  \n",
       "6              [MATLAB, Математическое моделирование]  \n",
       "11                                                 []  \n",
       "12                                      [C++, MATLAB]  \n",
       "13                                                 []  \n",
       "..                                                ...  \n",
       "95                                                 []  \n",
       "99  [Холодные продажи, Традиционная розница, Актив...  \n",
       "5   [Английский язык, Customer Service, Sales Plan...  \n",
       "9   [Английский язык, Техническое обслуживание, Де...  \n",
       "25  [Технический аудит сайта, Google Analytics, Ко...  \n",
       "\n",
       "[64095 rows x 5 columns]"
      ]
     },
     "execution_count": 31,
     "metadata": {},
     "output_type": "execute_result"
    }
   ],
   "source": [
    "df_mas_uniq"
   ]
  },
  {
   "cell_type": "code",
   "execution_count": 34,
   "metadata": {},
   "outputs": [],
   "source": [
    "df_vac_bac = pd.merge(df_vac_bac, df_bac_uniq, left_on=\"vac_id\", right_on=\"vac_id\")\n",
    "df_vac_mas = pd.merge(df_vac_mas, df_mas_uniq, left_on=\"vac_id\", right_on=\"vac_id\")"
   ]
  },
  {
   "cell_type": "code",
   "execution_count": 40,
   "metadata": {},
   "outputs": [
    {
     "data": {
      "text/plain": [
       "((121973, 12), (258365, 4))"
      ]
     },
     "execution_count": 40,
     "metadata": {},
     "output_type": "execute_result"
    }
   ],
   "source": [
    "df_vac_bac.shape, df_vac_mas.shape"
   ]
  },
  {
   "cell_type": "code",
   "execution_count": 41,
   "metadata": {},
   "outputs": [
    {
     "data": {
      "text/plain": [
       "(258365, 8)"
      ]
     },
     "execution_count": 41,
     "metadata": {},
     "output_type": "execute_result"
    }
   ],
   "source": [
    "df_mas = pd.merge(df_vac_mas, df_mas_uniq, left_on=\"vac_id\", right_on=\"vac_id\", how=\"left\")\n",
    "df_mas.shape"
   ]
  },
  {
   "cell_type": "code",
   "execution_count": 45,
   "metadata": {},
   "outputs": [],
   "source": [
    "df_bac = df_vac_bac.copy()"
   ]
  },
  {
   "cell_type": "code",
   "execution_count": 51,
   "metadata": {},
   "outputs": [
    {
     "data": {
      "text/html": [
       "<div>\n",
       "<style scoped>\n",
       "    .dataframe tbody tr th:only-of-type {\n",
       "        vertical-align: middle;\n",
       "    }\n",
       "\n",
       "    .dataframe tbody tr th {\n",
       "        vertical-align: top;\n",
       "    }\n",
       "\n",
       "    .dataframe thead th {\n",
       "        text-align: right;\n",
       "    }\n",
       "</style>\n",
       "<table border=\"1\" class=\"dataframe\">\n",
       "  <thead>\n",
       "    <tr style=\"text-align: right;\">\n",
       "      <th></th>\n",
       "      <th>vac_id</th>\n",
       "      <th>vac_title_x</th>\n",
       "      <th>op_x</th>\n",
       "      <th>job_x</th>\n",
       "      <th>vac_title_y</th>\n",
       "      <th>op_y</th>\n",
       "      <th>job_y</th>\n",
       "      <th>skills_x</th>\n",
       "      <th>vac_title</th>\n",
       "      <th>op</th>\n",
       "      <th>job</th>\n",
       "      <th>skills_y</th>\n",
       "    </tr>\n",
       "  </thead>\n",
       "  <tbody>\n",
       "    <tr>\n",
       "      <th>0</th>\n",
       "      <td>94598651</td>\n",
       "      <td>Content Manager/Prompt Engineer</td>\n",
       "      <td>ЯЗЫКОВЫЕ МОДЕЛИ И ИСКУССТВЕННЫЙ ИНТЕЛЛЕКТ</td>\n",
       "      <td>prompt-инженер</td>\n",
       "      <td>Content Manager/Prompt Engineer</td>\n",
       "      <td>ЯЗЫКОВЫЕ МОДЕЛИ И ИСКУССТВЕННЫЙ ИНТЕЛЛЕКТ</td>\n",
       "      <td>prompt-инженер</td>\n",
       "      <td>[Английский язык, PROMT, Креативность, API, PDF]</td>\n",
       "      <td>Content Manager/Prompt Engineer</td>\n",
       "      <td>ЯЗЫКОВЫЕ МОДЕЛИ И ИСКУССТВЕННЫЙ ИНТЕЛЛЕКТ</td>\n",
       "      <td>prompt-инженер</td>\n",
       "      <td>[Английский язык, PROMT, Креативность, API, PDF]</td>\n",
       "    </tr>\n",
       "    <tr>\n",
       "      <th>1</th>\n",
       "      <td>94598651</td>\n",
       "      <td>Content Manager/Prompt Engineer</td>\n",
       "      <td>ЯЗЫКОВЫЕ МОДЕЛИ И ИСКУССТВЕННЫЙ ИНТЕЛЛЕКТ</td>\n",
       "      <td>mobile-разработчик</td>\n",
       "      <td>Content Manager/Prompt Engineer</td>\n",
       "      <td>ЯЗЫКОВЫЕ МОДЕЛИ И ИСКУССТВЕННЫЙ ИНТЕЛЛЕКТ</td>\n",
       "      <td>prompt-инженер</td>\n",
       "      <td>[Английский язык, PROMT, Креативность, API, PDF]</td>\n",
       "      <td>Content Manager/Prompt Engineer</td>\n",
       "      <td>ЯЗЫКОВЫЕ МОДЕЛИ И ИСКУССТВЕННЫЙ ИНТЕЛЛЕКТ</td>\n",
       "      <td>prompt-инженер</td>\n",
       "      <td>[Английский язык, PROMT, Креативность, API, PDF]</td>\n",
       "    </tr>\n",
       "    <tr>\n",
       "      <th>2</th>\n",
       "      <td>94598651</td>\n",
       "      <td>Content Manager/Prompt Engineer</td>\n",
       "      <td>ТЕХНОЛОГИИ РАЗРАБОТКИ КОМПЬЮТЕРНЫХ ИГР</td>\n",
       "      <td>ai developer</td>\n",
       "      <td>Content Manager/Prompt Engineer</td>\n",
       "      <td>ЯЗЫКОВЫЕ МОДЕЛИ И ИСКУССТВЕННЫЙ ИНТЕЛЛЕКТ</td>\n",
       "      <td>prompt-инженер</td>\n",
       "      <td>[Английский язык, PROMT, Креативность, API, PDF]</td>\n",
       "      <td>Content Manager/Prompt Engineer</td>\n",
       "      <td>ЯЗЫКОВЫЕ МОДЕЛИ И ИСКУССТВЕННЫЙ ИНТЕЛЛЕКТ</td>\n",
       "      <td>prompt-инженер</td>\n",
       "      <td>[Английский язык, PROMT, Креативность, API, PDF]</td>\n",
       "    </tr>\n",
       "    <tr>\n",
       "      <th>3</th>\n",
       "      <td>94598651</td>\n",
       "      <td>Content Manager/Prompt Engineer</td>\n",
       "      <td>ТЕХНОЛОГИИ РАЗРАБОТКИ КОМПЬЮТЕРНЫХ ИГР</td>\n",
       "      <td>engine developer</td>\n",
       "      <td>Content Manager/Prompt Engineer</td>\n",
       "      <td>ЯЗЫКОВЫЕ МОДЕЛИ И ИСКУССТВЕННЫЙ ИНТЕЛЛЕКТ</td>\n",
       "      <td>prompt-инженер</td>\n",
       "      <td>[Английский язык, PROMT, Креативность, API, PDF]</td>\n",
       "      <td>Content Manager/Prompt Engineer</td>\n",
       "      <td>ЯЗЫКОВЫЕ МОДЕЛИ И ИСКУССТВЕННЫЙ ИНТЕЛЛЕКТ</td>\n",
       "      <td>prompt-инженер</td>\n",
       "      <td>[Английский язык, PROMT, Креативность, API, PDF]</td>\n",
       "    </tr>\n",
       "    <tr>\n",
       "      <th>4</th>\n",
       "      <td>96700997</td>\n",
       "      <td>Prompt Engineer/Промпт Инженер</td>\n",
       "      <td>ЯЗЫКОВЫЕ МОДЕЛИ И ИСКУССТВЕННЫЙ ИНТЕЛЛЕКТ</td>\n",
       "      <td>prompt-инженер</td>\n",
       "      <td>Prompt Engineer/Промпт Инженер</td>\n",
       "      <td>ЯЗЫКОВЫЕ МОДЕЛИ И ИСКУССТВЕННЫЙ ИНТЕЛЛЕКТ</td>\n",
       "      <td>prompt-инженер</td>\n",
       "      <td>[]</td>\n",
       "      <td>Prompt Engineer/Промпт Инженер</td>\n",
       "      <td>ЯЗЫКОВЫЕ МОДЕЛИ И ИСКУССТВЕННЫЙ ИНТЕЛЛЕКТ</td>\n",
       "      <td>prompt-инженер</td>\n",
       "      <td>[]</td>\n",
       "    </tr>\n",
       "    <tr>\n",
       "      <th>...</th>\n",
       "      <td>...</td>\n",
       "      <td>...</td>\n",
       "      <td>...</td>\n",
       "      <td>...</td>\n",
       "      <td>...</td>\n",
       "      <td>...</td>\n",
       "      <td>...</td>\n",
       "      <td>...</td>\n",
       "      <td>...</td>\n",
       "      <td>...</td>\n",
       "      <td>...</td>\n",
       "      <td>...</td>\n",
       "    </tr>\n",
       "    <tr>\n",
       "      <th>121968</th>\n",
       "      <td>96250675</td>\n",
       "      <td>Инженер-химик</td>\n",
       "      <td>БИОТЕХНОЛОГИЯ</td>\n",
       "      <td>специалист по валидации производства</td>\n",
       "      <td>Инженер-химик</td>\n",
       "      <td>БИОТЕХНОЛОГИЯ</td>\n",
       "      <td>специалист по валидации производства</td>\n",
       "      <td>[]</td>\n",
       "      <td>Инженер-химик</td>\n",
       "      <td>БИОТЕХНОЛОГИЯ</td>\n",
       "      <td>специалист по валидации производства</td>\n",
       "      <td>[]</td>\n",
       "    </tr>\n",
       "    <tr>\n",
       "      <th>121969</th>\n",
       "      <td>94259722</td>\n",
       "      <td>Инженер-технолог</td>\n",
       "      <td>БИОТЕХНОЛОГИЯ</td>\n",
       "      <td>специалист по валидации производства</td>\n",
       "      <td>Инженер-технолог</td>\n",
       "      <td>БИОТЕХНОЛОГИЯ</td>\n",
       "      <td>специалист по валидации производства</td>\n",
       "      <td>[Микросхемы, Термозвуковая микросварка, Сбороч...</td>\n",
       "      <td>Инженер-технолог</td>\n",
       "      <td>БИОТЕХНОЛОГИЯ</td>\n",
       "      <td>специалист по валидации производства</td>\n",
       "      <td>[Микросхемы, Термозвуковая микросварка, Сбороч...</td>\n",
       "    </tr>\n",
       "    <tr>\n",
       "      <th>121970</th>\n",
       "      <td>95449153</td>\n",
       "      <td>Инженер-прочнист</td>\n",
       "      <td>БИОТЕХНОЛОГИЯ</td>\n",
       "      <td>специалист по валидации производства</td>\n",
       "      <td>Инженер-прочнист</td>\n",
       "      <td>БИОТЕХНОЛОГИЯ</td>\n",
       "      <td>специалист по валидации производства</td>\n",
       "      <td>[ЕСКД, ГОСТ]</td>\n",
       "      <td>Инженер-прочнист</td>\n",
       "      <td>БИОТЕХНОЛОГИЯ</td>\n",
       "      <td>специалист по валидации производства</td>\n",
       "      <td>[ЕСКД, ГОСТ]</td>\n",
       "    </tr>\n",
       "    <tr>\n",
       "      <th>121971</th>\n",
       "      <td>95449101</td>\n",
       "      <td>Инженер-прочнист</td>\n",
       "      <td>БИОТЕХНОЛОГИЯ</td>\n",
       "      <td>специалист по валидации производства</td>\n",
       "      <td>Инженер-прочнист</td>\n",
       "      <td>БИОТЕХНОЛОГИЯ</td>\n",
       "      <td>специалист по валидации производства</td>\n",
       "      <td>[ЕСКД, ГОСТ]</td>\n",
       "      <td>Инженер-прочнист</td>\n",
       "      <td>БИОТЕХНОЛОГИЯ</td>\n",
       "      <td>специалист по валидации производства</td>\n",
       "      <td>[ЕСКД, ГОСТ]</td>\n",
       "    </tr>\n",
       "    <tr>\n",
       "      <th>121972</th>\n",
       "      <td>95167946</td>\n",
       "      <td>Технолог Цеха/химик</td>\n",
       "      <td>БИОТЕХНОЛОГИЯ</td>\n",
       "      <td>специалист по валидации производства</td>\n",
       "      <td>Технолог Цеха/химик</td>\n",
       "      <td>БИОТЕХНОЛОГИЯ</td>\n",
       "      <td>специалист по валидации производства</td>\n",
       "      <td>[]</td>\n",
       "      <td>Технолог Цеха/химик</td>\n",
       "      <td>БИОТЕХНОЛОГИЯ</td>\n",
       "      <td>специалист по валидации производства</td>\n",
       "      <td>[]</td>\n",
       "    </tr>\n",
       "  </tbody>\n",
       "</table>\n",
       "<p>121973 rows × 12 columns</p>\n",
       "</div>"
      ],
      "text/plain": [
       "          vac_id                      vac_title_x  \\\n",
       "0       94598651  Content Manager/Prompt Engineer   \n",
       "1       94598651  Content Manager/Prompt Engineer   \n",
       "2       94598651  Content Manager/Prompt Engineer   \n",
       "3       94598651  Content Manager/Prompt Engineer   \n",
       "4       96700997   Prompt Engineer/Промпт Инженер   \n",
       "...          ...                              ...   \n",
       "121968  96250675                    Инженер-химик   \n",
       "121969  94259722                 Инженер-технолог   \n",
       "121970  95449153                 Инженер-прочнист   \n",
       "121971  95449101                 Инженер-прочнист   \n",
       "121972  95167946              Технолог Цеха/химик   \n",
       "\n",
       "                                             op_x  \\\n",
       "0       ЯЗЫКОВЫЕ МОДЕЛИ И ИСКУССТВЕННЫЙ ИНТЕЛЛЕКТ   \n",
       "1       ЯЗЫКОВЫЕ МОДЕЛИ И ИСКУССТВЕННЫЙ ИНТЕЛЛЕКТ   \n",
       "2          ТЕХНОЛОГИИ РАЗРАБОТКИ КОМПЬЮТЕРНЫХ ИГР   \n",
       "3          ТЕХНОЛОГИИ РАЗРАБОТКИ КОМПЬЮТЕРНЫХ ИГР   \n",
       "4       ЯЗЫКОВЫЕ МОДЕЛИ И ИСКУССТВЕННЫЙ ИНТЕЛЛЕКТ   \n",
       "...                                           ...   \n",
       "121968                              БИОТЕХНОЛОГИЯ   \n",
       "121969                              БИОТЕХНОЛОГИЯ   \n",
       "121970                              БИОТЕХНОЛОГИЯ   \n",
       "121971                              БИОТЕХНОЛОГИЯ   \n",
       "121972                              БИОТЕХНОЛОГИЯ   \n",
       "\n",
       "                                       job_x                      vac_title_y  \\\n",
       "0                             prompt-инженер  Content Manager/Prompt Engineer   \n",
       "1                         mobile-разработчик  Content Manager/Prompt Engineer   \n",
       "2                               ai developer  Content Manager/Prompt Engineer   \n",
       "3                           engine developer  Content Manager/Prompt Engineer   \n",
       "4                             prompt-инженер   Prompt Engineer/Промпт Инженер   \n",
       "...                                      ...                              ...   \n",
       "121968  специалист по валидации производства                    Инженер-химик   \n",
       "121969  специалист по валидации производства                 Инженер-технолог   \n",
       "121970  специалист по валидации производства                 Инженер-прочнист   \n",
       "121971  специалист по валидации производства                 Инженер-прочнист   \n",
       "121972  специалист по валидации производства              Технолог Цеха/химик   \n",
       "\n",
       "                                             op_y  \\\n",
       "0       ЯЗЫКОВЫЕ МОДЕЛИ И ИСКУССТВЕННЫЙ ИНТЕЛЛЕКТ   \n",
       "1       ЯЗЫКОВЫЕ МОДЕЛИ И ИСКУССТВЕННЫЙ ИНТЕЛЛЕКТ   \n",
       "2       ЯЗЫКОВЫЕ МОДЕЛИ И ИСКУССТВЕННЫЙ ИНТЕЛЛЕКТ   \n",
       "3       ЯЗЫКОВЫЕ МОДЕЛИ И ИСКУССТВЕННЫЙ ИНТЕЛЛЕКТ   \n",
       "4       ЯЗЫКОВЫЕ МОДЕЛИ И ИСКУССТВЕННЫЙ ИНТЕЛЛЕКТ   \n",
       "...                                           ...   \n",
       "121968                              БИОТЕХНОЛОГИЯ   \n",
       "121969                              БИОТЕХНОЛОГИЯ   \n",
       "121970                              БИОТЕХНОЛОГИЯ   \n",
       "121971                              БИОТЕХНОЛОГИЯ   \n",
       "121972                              БИОТЕХНОЛОГИЯ   \n",
       "\n",
       "                                       job_y  \\\n",
       "0                             prompt-инженер   \n",
       "1                             prompt-инженер   \n",
       "2                             prompt-инженер   \n",
       "3                             prompt-инженер   \n",
       "4                             prompt-инженер   \n",
       "...                                      ...   \n",
       "121968  специалист по валидации производства   \n",
       "121969  специалист по валидации производства   \n",
       "121970  специалист по валидации производства   \n",
       "121971  специалист по валидации производства   \n",
       "121972  специалист по валидации производства   \n",
       "\n",
       "                                                 skills_x  \\\n",
       "0        [Английский язык, PROMT, Креативность, API, PDF]   \n",
       "1        [Английский язык, PROMT, Креативность, API, PDF]   \n",
       "2        [Английский язык, PROMT, Креативность, API, PDF]   \n",
       "3        [Английский язык, PROMT, Креативность, API, PDF]   \n",
       "4                                                      []   \n",
       "...                                                   ...   \n",
       "121968                                                 []   \n",
       "121969  [Микросхемы, Термозвуковая микросварка, Сбороч...   \n",
       "121970                                       [ЕСКД, ГОСТ]   \n",
       "121971                                       [ЕСКД, ГОСТ]   \n",
       "121972                                                 []   \n",
       "\n",
       "                              vac_title  \\\n",
       "0       Content Manager/Prompt Engineer   \n",
       "1       Content Manager/Prompt Engineer   \n",
       "2       Content Manager/Prompt Engineer   \n",
       "3       Content Manager/Prompt Engineer   \n",
       "4        Prompt Engineer/Промпт Инженер   \n",
       "...                                 ...   \n",
       "121968                    Инженер-химик   \n",
       "121969                 Инженер-технолог   \n",
       "121970                 Инженер-прочнист   \n",
       "121971                 Инженер-прочнист   \n",
       "121972              Технолог Цеха/химик   \n",
       "\n",
       "                                               op  \\\n",
       "0       ЯЗЫКОВЫЕ МОДЕЛИ И ИСКУССТВЕННЫЙ ИНТЕЛЛЕКТ   \n",
       "1       ЯЗЫКОВЫЕ МОДЕЛИ И ИСКУССТВЕННЫЙ ИНТЕЛЛЕКТ   \n",
       "2       ЯЗЫКОВЫЕ МОДЕЛИ И ИСКУССТВЕННЫЙ ИНТЕЛЛЕКТ   \n",
       "3       ЯЗЫКОВЫЕ МОДЕЛИ И ИСКУССТВЕННЫЙ ИНТЕЛЛЕКТ   \n",
       "4       ЯЗЫКОВЫЕ МОДЕЛИ И ИСКУССТВЕННЫЙ ИНТЕЛЛЕКТ   \n",
       "...                                           ...   \n",
       "121968                              БИОТЕХНОЛОГИЯ   \n",
       "121969                              БИОТЕХНОЛОГИЯ   \n",
       "121970                              БИОТЕХНОЛОГИЯ   \n",
       "121971                              БИОТЕХНОЛОГИЯ   \n",
       "121972                              БИОТЕХНОЛОГИЯ   \n",
       "\n",
       "                                         job  \\\n",
       "0                             prompt-инженер   \n",
       "1                             prompt-инженер   \n",
       "2                             prompt-инженер   \n",
       "3                             prompt-инженер   \n",
       "4                             prompt-инженер   \n",
       "...                                      ...   \n",
       "121968  специалист по валидации производства   \n",
       "121969  специалист по валидации производства   \n",
       "121970  специалист по валидации производства   \n",
       "121971  специалист по валидации производства   \n",
       "121972  специалист по валидации производства   \n",
       "\n",
       "                                                 skills_y  \n",
       "0        [Английский язык, PROMT, Креативность, API, PDF]  \n",
       "1        [Английский язык, PROMT, Креативность, API, PDF]  \n",
       "2        [Английский язык, PROMT, Креативность, API, PDF]  \n",
       "3        [Английский язык, PROMT, Креативность, API, PDF]  \n",
       "4                                                      []  \n",
       "...                                                   ...  \n",
       "121968                                                 []  \n",
       "121969  [Микросхемы, Термозвуковая микросварка, Сбороч...  \n",
       "121970                                       [ЕСКД, ГОСТ]  \n",
       "121971                                       [ЕСКД, ГОСТ]  \n",
       "121972                                                 []  \n",
       "\n",
       "[121973 rows x 12 columns]"
      ]
     },
     "execution_count": 51,
     "metadata": {},
     "output_type": "execute_result"
    }
   ],
   "source": [
    "df_bac"
   ]
  },
  {
   "cell_type": "code",
   "execution_count": 52,
   "metadata": {},
   "outputs": [
    {
     "data": {
      "text/html": [
       "<div>\n",
       "<style scoped>\n",
       "    .dataframe tbody tr th:only-of-type {\n",
       "        vertical-align: middle;\n",
       "    }\n",
       "\n",
       "    .dataframe tbody tr th {\n",
       "        vertical-align: top;\n",
       "    }\n",
       "\n",
       "    .dataframe thead th {\n",
       "        text-align: right;\n",
       "    }\n",
       "</style>\n",
       "<table border=\"1\" class=\"dataframe\">\n",
       "  <thead>\n",
       "    <tr style=\"text-align: right;\">\n",
       "      <th></th>\n",
       "      <th>vac_id</th>\n",
       "      <th>vac_title</th>\n",
       "      <th>op</th>\n",
       "      <th>job</th>\n",
       "      <th>skills</th>\n",
       "    </tr>\n",
       "  </thead>\n",
       "  <tbody>\n",
       "    <tr>\n",
       "      <th>0</th>\n",
       "      <td>94598651</td>\n",
       "      <td>Content Manager/Prompt Engineer</td>\n",
       "      <td>ЯЗЫКОВЫЕ МОДЕЛИ И ИСКУССТВЕННЫЙ ИНТЕЛЛЕКТ</td>\n",
       "      <td>prompt-инженер</td>\n",
       "      <td>[Английский язык, PROMT, Креативность, API, PDF]</td>\n",
       "    </tr>\n",
       "    <tr>\n",
       "      <th>1</th>\n",
       "      <td>94598651</td>\n",
       "      <td>Content Manager/Prompt Engineer</td>\n",
       "      <td>ЯЗЫКОВЫЕ МОДЕЛИ И ИСКУССТВЕННЫЙ ИНТЕЛЛЕКТ</td>\n",
       "      <td>prompt-инженер</td>\n",
       "      <td>[Английский язык, PROMT, Креативность, API, PDF]</td>\n",
       "    </tr>\n",
       "    <tr>\n",
       "      <th>2</th>\n",
       "      <td>94598651</td>\n",
       "      <td>Content Manager/Prompt Engineer</td>\n",
       "      <td>ЯЗЫКОВЫЕ МОДЕЛИ И ИСКУССТВЕННЫЙ ИНТЕЛЛЕКТ</td>\n",
       "      <td>prompt-инженер</td>\n",
       "      <td>[Английский язык, PROMT, Креативность, API, PDF]</td>\n",
       "    </tr>\n",
       "    <tr>\n",
       "      <th>3</th>\n",
       "      <td>94598651</td>\n",
       "      <td>Content Manager/Prompt Engineer</td>\n",
       "      <td>ЯЗЫКОВЫЕ МОДЕЛИ И ИСКУССТВЕННЫЙ ИНТЕЛЛЕКТ</td>\n",
       "      <td>prompt-инженер</td>\n",
       "      <td>[Английский язык, PROMT, Креативность, API, PDF]</td>\n",
       "    </tr>\n",
       "    <tr>\n",
       "      <th>4</th>\n",
       "      <td>96700997</td>\n",
       "      <td>Prompt Engineer/Промпт Инженер</td>\n",
       "      <td>ЯЗЫКОВЫЕ МОДЕЛИ И ИСКУССТВЕННЫЙ ИНТЕЛЛЕКТ</td>\n",
       "      <td>prompt-инженер</td>\n",
       "      <td>[]</td>\n",
       "    </tr>\n",
       "    <tr>\n",
       "      <th>...</th>\n",
       "      <td>...</td>\n",
       "      <td>...</td>\n",
       "      <td>...</td>\n",
       "      <td>...</td>\n",
       "      <td>...</td>\n",
       "    </tr>\n",
       "    <tr>\n",
       "      <th>121968</th>\n",
       "      <td>96250675</td>\n",
       "      <td>Инженер-химик</td>\n",
       "      <td>БИОТЕХНОЛОГИЯ</td>\n",
       "      <td>специалист по валидации производства</td>\n",
       "      <td>[]</td>\n",
       "    </tr>\n",
       "    <tr>\n",
       "      <th>121969</th>\n",
       "      <td>94259722</td>\n",
       "      <td>Инженер-технолог</td>\n",
       "      <td>БИОТЕХНОЛОГИЯ</td>\n",
       "      <td>специалист по валидации производства</td>\n",
       "      <td>[Микросхемы, Термозвуковая микросварка, Сбороч...</td>\n",
       "    </tr>\n",
       "    <tr>\n",
       "      <th>121970</th>\n",
       "      <td>95449153</td>\n",
       "      <td>Инженер-прочнист</td>\n",
       "      <td>БИОТЕХНОЛОГИЯ</td>\n",
       "      <td>специалист по валидации производства</td>\n",
       "      <td>[ЕСКД, ГОСТ]</td>\n",
       "    </tr>\n",
       "    <tr>\n",
       "      <th>121971</th>\n",
       "      <td>95449101</td>\n",
       "      <td>Инженер-прочнист</td>\n",
       "      <td>БИОТЕХНОЛОГИЯ</td>\n",
       "      <td>специалист по валидации производства</td>\n",
       "      <td>[ЕСКД, ГОСТ]</td>\n",
       "    </tr>\n",
       "    <tr>\n",
       "      <th>121972</th>\n",
       "      <td>95167946</td>\n",
       "      <td>Технолог Цеха/химик</td>\n",
       "      <td>БИОТЕХНОЛОГИЯ</td>\n",
       "      <td>специалист по валидации производства</td>\n",
       "      <td>[]</td>\n",
       "    </tr>\n",
       "  </tbody>\n",
       "</table>\n",
       "<p>121973 rows × 5 columns</p>\n",
       "</div>"
      ],
      "text/plain": [
       "          vac_id                        vac_title  \\\n",
       "0       94598651  Content Manager/Prompt Engineer   \n",
       "1       94598651  Content Manager/Prompt Engineer   \n",
       "2       94598651  Content Manager/Prompt Engineer   \n",
       "3       94598651  Content Manager/Prompt Engineer   \n",
       "4       96700997   Prompt Engineer/Промпт Инженер   \n",
       "...          ...                              ...   \n",
       "121968  96250675                    Инженер-химик   \n",
       "121969  94259722                 Инженер-технолог   \n",
       "121970  95449153                 Инженер-прочнист   \n",
       "121971  95449101                 Инженер-прочнист   \n",
       "121972  95167946              Технолог Цеха/химик   \n",
       "\n",
       "                                               op  \\\n",
       "0       ЯЗЫКОВЫЕ МОДЕЛИ И ИСКУССТВЕННЫЙ ИНТЕЛЛЕКТ   \n",
       "1       ЯЗЫКОВЫЕ МОДЕЛИ И ИСКУССТВЕННЫЙ ИНТЕЛЛЕКТ   \n",
       "2       ЯЗЫКОВЫЕ МОДЕЛИ И ИСКУССТВЕННЫЙ ИНТЕЛЛЕКТ   \n",
       "3       ЯЗЫКОВЫЕ МОДЕЛИ И ИСКУССТВЕННЫЙ ИНТЕЛЛЕКТ   \n",
       "4       ЯЗЫКОВЫЕ МОДЕЛИ И ИСКУССТВЕННЫЙ ИНТЕЛЛЕКТ   \n",
       "...                                           ...   \n",
       "121968                              БИОТЕХНОЛОГИЯ   \n",
       "121969                              БИОТЕХНОЛОГИЯ   \n",
       "121970                              БИОТЕХНОЛОГИЯ   \n",
       "121971                              БИОТЕХНОЛОГИЯ   \n",
       "121972                              БИОТЕХНОЛОГИЯ   \n",
       "\n",
       "                                         job  \\\n",
       "0                             prompt-инженер   \n",
       "1                             prompt-инженер   \n",
       "2                             prompt-инженер   \n",
       "3                             prompt-инженер   \n",
       "4                             prompt-инженер   \n",
       "...                                      ...   \n",
       "121968  специалист по валидации производства   \n",
       "121969  специалист по валидации производства   \n",
       "121970  специалист по валидации производства   \n",
       "121971  специалист по валидации производства   \n",
       "121972  специалист по валидации производства   \n",
       "\n",
       "                                                   skills  \n",
       "0        [Английский язык, PROMT, Креативность, API, PDF]  \n",
       "1        [Английский язык, PROMT, Креативность, API, PDF]  \n",
       "2        [Английский язык, PROMT, Креативность, API, PDF]  \n",
       "3        [Английский язык, PROMT, Креативность, API, PDF]  \n",
       "4                                                      []  \n",
       "...                                                   ...  \n",
       "121968                                                 []  \n",
       "121969  [Микросхемы, Термозвуковая микросварка, Сбороч...  \n",
       "121970                                       [ЕСКД, ГОСТ]  \n",
       "121971                                       [ЕСКД, ГОСТ]  \n",
       "121972                                                 []  \n",
       "\n",
       "[121973 rows x 5 columns]"
      ]
     },
     "execution_count": 52,
     "metadata": {},
     "output_type": "execute_result"
    }
   ],
   "source": [
    "df_bac.drop(columns=[\"vac_title_x\",\t\"op_x\",\t\"job_x\", \"vac_title_y\",\t\"op_y\",\t\"job_y\", \"skills_x\"], inplace=True)\n",
    "df_bac.rename(columns={\"skills_y\": \"skills\"}, inplace=True)\n",
    "df_bac"
   ]
  },
  {
   "cell_type": "code",
   "execution_count": 53,
   "metadata": {},
   "outputs": [],
   "source": [
    "df_bac.to_excel(\"bachelor_vacancies.xlsx\")"
   ]
  },
  {
   "cell_type": "code",
   "execution_count": 54,
   "metadata": {},
   "outputs": [
    {
     "data": {
      "text/html": [
       "<div>\n",
       "<style scoped>\n",
       "    .dataframe tbody tr th:only-of-type {\n",
       "        vertical-align: middle;\n",
       "    }\n",
       "\n",
       "    .dataframe tbody tr th {\n",
       "        vertical-align: top;\n",
       "    }\n",
       "\n",
       "    .dataframe thead th {\n",
       "        text-align: right;\n",
       "    }\n",
       "</style>\n",
       "<table border=\"1\" class=\"dataframe\">\n",
       "  <thead>\n",
       "    <tr style=\"text-align: right;\">\n",
       "      <th></th>\n",
       "      <th>vac_id</th>\n",
       "      <th>vac_title</th>\n",
       "      <th>op</th>\n",
       "      <th>job</th>\n",
       "      <th>skills</th>\n",
       "      <th>qualification</th>\n",
       "    </tr>\n",
       "  </thead>\n",
       "  <tbody>\n",
       "    <tr>\n",
       "      <th>0</th>\n",
       "      <td>94598651</td>\n",
       "      <td>Content Manager/Prompt Engineer</td>\n",
       "      <td>ЯЗЫКОВЫЕ МОДЕЛИ И ИСКУССТВЕННЫЙ ИНТЕЛЛЕКТ</td>\n",
       "      <td>prompt-инженер</td>\n",
       "      <td>[Английский язык, PROMT, Креативность, API, PDF]</td>\n",
       "      <td>bachelor</td>\n",
       "    </tr>\n",
       "    <tr>\n",
       "      <th>1</th>\n",
       "      <td>94598651</td>\n",
       "      <td>Content Manager/Prompt Engineer</td>\n",
       "      <td>ЯЗЫКОВЫЕ МОДЕЛИ И ИСКУССТВЕННЫЙ ИНТЕЛЛЕКТ</td>\n",
       "      <td>prompt-инженер</td>\n",
       "      <td>[Английский язык, PROMT, Креативность, API, PDF]</td>\n",
       "      <td>bachelor</td>\n",
       "    </tr>\n",
       "    <tr>\n",
       "      <th>2</th>\n",
       "      <td>94598651</td>\n",
       "      <td>Content Manager/Prompt Engineer</td>\n",
       "      <td>ЯЗЫКОВЫЕ МОДЕЛИ И ИСКУССТВЕННЫЙ ИНТЕЛЛЕКТ</td>\n",
       "      <td>prompt-инженер</td>\n",
       "      <td>[Английский язык, PROMT, Креативность, API, PDF]</td>\n",
       "      <td>bachelor</td>\n",
       "    </tr>\n",
       "    <tr>\n",
       "      <th>3</th>\n",
       "      <td>94598651</td>\n",
       "      <td>Content Manager/Prompt Engineer</td>\n",
       "      <td>ЯЗЫКОВЫЕ МОДЕЛИ И ИСКУССТВЕННЫЙ ИНТЕЛЛЕКТ</td>\n",
       "      <td>prompt-инженер</td>\n",
       "      <td>[Английский язык, PROMT, Креативность, API, PDF]</td>\n",
       "      <td>bachelor</td>\n",
       "    </tr>\n",
       "    <tr>\n",
       "      <th>4</th>\n",
       "      <td>96700997</td>\n",
       "      <td>Prompt Engineer/Промпт Инженер</td>\n",
       "      <td>ЯЗЫКОВЫЕ МОДЕЛИ И ИСКУССТВЕННЫЙ ИНТЕЛЛЕКТ</td>\n",
       "      <td>prompt-инженер</td>\n",
       "      <td>[]</td>\n",
       "      <td>bachelor</td>\n",
       "    </tr>\n",
       "    <tr>\n",
       "      <th>...</th>\n",
       "      <td>...</td>\n",
       "      <td>...</td>\n",
       "      <td>...</td>\n",
       "      <td>...</td>\n",
       "      <td>...</td>\n",
       "      <td>...</td>\n",
       "    </tr>\n",
       "    <tr>\n",
       "      <th>258360</th>\n",
       "      <td>95598013</td>\n",
       "      <td>Technical Support Specialist</td>\n",
       "      <td>ЦИФРОВЫЕ ПРОДУКТЫ: СОЗДАНИЕ И УПРАВЛЕНИЕ</td>\n",
       "      <td>head of product</td>\n",
       "      <td>NaN</td>\n",
       "      <td>master</td>\n",
       "    </tr>\n",
       "    <tr>\n",
       "      <th>258361</th>\n",
       "      <td>96124431</td>\n",
       "      <td>Backend разработчик (Laravel, PHP)</td>\n",
       "      <td>ЦИФРОВЫЕ ПРОДУКТЫ: СОЗДАНИЕ И УПРАВЛЕНИЕ</td>\n",
       "      <td>head of product</td>\n",
       "      <td>NaN</td>\n",
       "      <td>master</td>\n",
       "    </tr>\n",
       "    <tr>\n",
       "      <th>258362</th>\n",
       "      <td>96126290</td>\n",
       "      <td>Бизнес-аналитик Tsum Outlet</td>\n",
       "      <td>ЦИФРОВЫЕ ПРОДУКТЫ: СОЗДАНИЕ И УПРАВЛЕНИЕ</td>\n",
       "      <td>head of product</td>\n",
       "      <td>[]</td>\n",
       "      <td>master</td>\n",
       "    </tr>\n",
       "    <tr>\n",
       "      <th>258363</th>\n",
       "      <td>95535405</td>\n",
       "      <td>Field Representative in Kyrgyzstan</td>\n",
       "      <td>ЦИФРОВЫЕ ПРОДУКТЫ: СОЗДАНИЕ И УПРАВЛЕНИЕ</td>\n",
       "      <td>head of product</td>\n",
       "      <td>[]</td>\n",
       "      <td>master</td>\n",
       "    </tr>\n",
       "    <tr>\n",
       "      <th>258364</th>\n",
       "      <td>95455453</td>\n",
       "      <td>Аналитик-разработчик данных</td>\n",
       "      <td>ЦИФРОВЫЕ ПРОДУКТЫ: СОЗДАНИЕ И УПРАВЛЕНИЕ</td>\n",
       "      <td>head of product</td>\n",
       "      <td>NaN</td>\n",
       "      <td>master</td>\n",
       "    </tr>\n",
       "  </tbody>\n",
       "</table>\n",
       "<p>380338 rows × 6 columns</p>\n",
       "</div>"
      ],
      "text/plain": [
       "          vac_id                           vac_title  \\\n",
       "0       94598651     Content Manager/Prompt Engineer   \n",
       "1       94598651     Content Manager/Prompt Engineer   \n",
       "2       94598651     Content Manager/Prompt Engineer   \n",
       "3       94598651     Content Manager/Prompt Engineer   \n",
       "4       96700997      Prompt Engineer/Промпт Инженер   \n",
       "...          ...                                 ...   \n",
       "258360  95598013        Technical Support Specialist   \n",
       "258361  96124431  Backend разработчик (Laravel, PHP)   \n",
       "258362  96126290         Бизнес-аналитик Tsum Outlet   \n",
       "258363  95535405  Field Representative in Kyrgyzstan   \n",
       "258364  95455453         Аналитик-разработчик данных   \n",
       "\n",
       "                                               op              job  \\\n",
       "0       ЯЗЫКОВЫЕ МОДЕЛИ И ИСКУССТВЕННЫЙ ИНТЕЛЛЕКТ   prompt-инженер   \n",
       "1       ЯЗЫКОВЫЕ МОДЕЛИ И ИСКУССТВЕННЫЙ ИНТЕЛЛЕКТ   prompt-инженер   \n",
       "2       ЯЗЫКОВЫЕ МОДЕЛИ И ИСКУССТВЕННЫЙ ИНТЕЛЛЕКТ   prompt-инженер   \n",
       "3       ЯЗЫКОВЫЕ МОДЕЛИ И ИСКУССТВЕННЫЙ ИНТЕЛЛЕКТ   prompt-инженер   \n",
       "4       ЯЗЫКОВЫЕ МОДЕЛИ И ИСКУССТВЕННЫЙ ИНТЕЛЛЕКТ   prompt-инженер   \n",
       "...                                           ...              ...   \n",
       "258360   ЦИФРОВЫЕ ПРОДУКТЫ: СОЗДАНИЕ И УПРАВЛЕНИЕ  head of product   \n",
       "258361   ЦИФРОВЫЕ ПРОДУКТЫ: СОЗДАНИЕ И УПРАВЛЕНИЕ  head of product   \n",
       "258362   ЦИФРОВЫЕ ПРОДУКТЫ: СОЗДАНИЕ И УПРАВЛЕНИЕ  head of product   \n",
       "258363   ЦИФРОВЫЕ ПРОДУКТЫ: СОЗДАНИЕ И УПРАВЛЕНИЕ  head of product   \n",
       "258364   ЦИФРОВЫЕ ПРОДУКТЫ: СОЗДАНИЕ И УПРАВЛЕНИЕ  head of product   \n",
       "\n",
       "                                                  skills qualification  \n",
       "0       [Английский язык, PROMT, Креативность, API, PDF]      bachelor  \n",
       "1       [Английский язык, PROMT, Креативность, API, PDF]      bachelor  \n",
       "2       [Английский язык, PROMT, Креативность, API, PDF]      bachelor  \n",
       "3       [Английский язык, PROMT, Креативность, API, PDF]      bachelor  \n",
       "4                                                     []      bachelor  \n",
       "...                                                  ...           ...  \n",
       "258360                                               NaN        master  \n",
       "258361                                               NaN        master  \n",
       "258362                                                []        master  \n",
       "258363                                                []        master  \n",
       "258364                                               NaN        master  \n",
       "\n",
       "[380338 rows x 6 columns]"
      ]
     },
     "execution_count": 54,
     "metadata": {},
     "output_type": "execute_result"
    }
   ],
   "source": [
    "df_bac[\"qualification\"] = \"bachelor\"\n",
    "df_mas[\"qualification\"] = \"master\"\n",
    "op = pd.concat([df_bac, df_mas])\n",
    "op"
   ]
  },
  {
   "cell_type": "code",
   "execution_count": 55,
   "metadata": {},
   "outputs": [
    {
     "data": {
      "text/html": [
       "<div>\n",
       "<style scoped>\n",
       "    .dataframe tbody tr th:only-of-type {\n",
       "        vertical-align: middle;\n",
       "    }\n",
       "\n",
       "    .dataframe tbody tr th {\n",
       "        vertical-align: top;\n",
       "    }\n",
       "\n",
       "    .dataframe thead th {\n",
       "        text-align: right;\n",
       "    }\n",
       "</style>\n",
       "<table border=\"1\" class=\"dataframe\">\n",
       "  <thead>\n",
       "    <tr style=\"text-align: right;\">\n",
       "      <th></th>\n",
       "      <th>vac_id</th>\n",
       "      <th>vac_title</th>\n",
       "      <th>op</th>\n",
       "      <th>job</th>\n",
       "      <th>skills</th>\n",
       "      <th>qualification</th>\n",
       "    </tr>\n",
       "  </thead>\n",
       "  <tbody>\n",
       "    <tr>\n",
       "      <th>0</th>\n",
       "      <td>94598651</td>\n",
       "      <td>Content Manager/Prompt Engineer</td>\n",
       "      <td>ЯЗЫКОВЫЕ МОДЕЛИ И ИСКУССТВЕННЫЙ ИНТЕЛЛЕКТ</td>\n",
       "      <td>prompt-инженер</td>\n",
       "      <td>[Английский язык, PROMT, Креативность, API, PDF]</td>\n",
       "      <td>bachelor</td>\n",
       "    </tr>\n",
       "    <tr>\n",
       "      <th>1</th>\n",
       "      <td>94598651</td>\n",
       "      <td>Content Manager/Prompt Engineer</td>\n",
       "      <td>ЯЗЫКОВЫЕ МОДЕЛИ И ИСКУССТВЕННЫЙ ИНТЕЛЛЕКТ</td>\n",
       "      <td>prompt-инженер</td>\n",
       "      <td>[Английский язык, PROMT, Креативность, API, PDF]</td>\n",
       "      <td>bachelor</td>\n",
       "    </tr>\n",
       "    <tr>\n",
       "      <th>2</th>\n",
       "      <td>94598651</td>\n",
       "      <td>Content Manager/Prompt Engineer</td>\n",
       "      <td>ЯЗЫКОВЫЕ МОДЕЛИ И ИСКУССТВЕННЫЙ ИНТЕЛЛЕКТ</td>\n",
       "      <td>prompt-инженер</td>\n",
       "      <td>[Английский язык, PROMT, Креативность, API, PDF]</td>\n",
       "      <td>bachelor</td>\n",
       "    </tr>\n",
       "    <tr>\n",
       "      <th>3</th>\n",
       "      <td>94598651</td>\n",
       "      <td>Content Manager/Prompt Engineer</td>\n",
       "      <td>ЯЗЫКОВЫЕ МОДЕЛИ И ИСКУССТВЕННЫЙ ИНТЕЛЛЕКТ</td>\n",
       "      <td>prompt-инженер</td>\n",
       "      <td>[Английский язык, PROMT, Креативность, API, PDF]</td>\n",
       "      <td>bachelor</td>\n",
       "    </tr>\n",
       "    <tr>\n",
       "      <th>4</th>\n",
       "      <td>96700997</td>\n",
       "      <td>Prompt Engineer/Промпт Инженер</td>\n",
       "      <td>ЯЗЫКОВЫЕ МОДЕЛИ И ИСКУССТВЕННЫЙ ИНТЕЛЛЕКТ</td>\n",
       "      <td>prompt-инженер</td>\n",
       "      <td>NaN</td>\n",
       "      <td>bachelor</td>\n",
       "    </tr>\n",
       "    <tr>\n",
       "      <th>...</th>\n",
       "      <td>...</td>\n",
       "      <td>...</td>\n",
       "      <td>...</td>\n",
       "      <td>...</td>\n",
       "      <td>...</td>\n",
       "      <td>...</td>\n",
       "    </tr>\n",
       "    <tr>\n",
       "      <th>258360</th>\n",
       "      <td>95598013</td>\n",
       "      <td>Technical Support Specialist</td>\n",
       "      <td>ЦИФРОВЫЕ ПРОДУКТЫ: СОЗДАНИЕ И УПРАВЛЕНИЕ</td>\n",
       "      <td>head of product</td>\n",
       "      <td>NaN</td>\n",
       "      <td>master</td>\n",
       "    </tr>\n",
       "    <tr>\n",
       "      <th>258361</th>\n",
       "      <td>96124431</td>\n",
       "      <td>Backend разработчик (Laravel, PHP)</td>\n",
       "      <td>ЦИФРОВЫЕ ПРОДУКТЫ: СОЗДАНИЕ И УПРАВЛЕНИЕ</td>\n",
       "      <td>head of product</td>\n",
       "      <td>NaN</td>\n",
       "      <td>master</td>\n",
       "    </tr>\n",
       "    <tr>\n",
       "      <th>258362</th>\n",
       "      <td>96126290</td>\n",
       "      <td>Бизнес-аналитик Tsum Outlet</td>\n",
       "      <td>ЦИФРОВЫЕ ПРОДУКТЫ: СОЗДАНИЕ И УПРАВЛЕНИЕ</td>\n",
       "      <td>head of product</td>\n",
       "      <td>NaN</td>\n",
       "      <td>master</td>\n",
       "    </tr>\n",
       "    <tr>\n",
       "      <th>258363</th>\n",
       "      <td>95535405</td>\n",
       "      <td>Field Representative in Kyrgyzstan</td>\n",
       "      <td>ЦИФРОВЫЕ ПРОДУКТЫ: СОЗДАНИЕ И УПРАВЛЕНИЕ</td>\n",
       "      <td>head of product</td>\n",
       "      <td>NaN</td>\n",
       "      <td>master</td>\n",
       "    </tr>\n",
       "    <tr>\n",
       "      <th>258364</th>\n",
       "      <td>95455453</td>\n",
       "      <td>Аналитик-разработчик данных</td>\n",
       "      <td>ЦИФРОВЫЕ ПРОДУКТЫ: СОЗДАНИЕ И УПРАВЛЕНИЕ</td>\n",
       "      <td>head of product</td>\n",
       "      <td>NaN</td>\n",
       "      <td>master</td>\n",
       "    </tr>\n",
       "  </tbody>\n",
       "</table>\n",
       "<p>380338 rows × 6 columns</p>\n",
       "</div>"
      ],
      "text/plain": [
       "          vac_id                           vac_title  \\\n",
       "0       94598651     Content Manager/Prompt Engineer   \n",
       "1       94598651     Content Manager/Prompt Engineer   \n",
       "2       94598651     Content Manager/Prompt Engineer   \n",
       "3       94598651     Content Manager/Prompt Engineer   \n",
       "4       96700997      Prompt Engineer/Промпт Инженер   \n",
       "...          ...                                 ...   \n",
       "258360  95598013        Technical Support Specialist   \n",
       "258361  96124431  Backend разработчик (Laravel, PHP)   \n",
       "258362  96126290         Бизнес-аналитик Tsum Outlet   \n",
       "258363  95535405  Field Representative in Kyrgyzstan   \n",
       "258364  95455453         Аналитик-разработчик данных   \n",
       "\n",
       "                                               op              job  \\\n",
       "0       ЯЗЫКОВЫЕ МОДЕЛИ И ИСКУССТВЕННЫЙ ИНТЕЛЛЕКТ   prompt-инженер   \n",
       "1       ЯЗЫКОВЫЕ МОДЕЛИ И ИСКУССТВЕННЫЙ ИНТЕЛЛЕКТ   prompt-инженер   \n",
       "2       ЯЗЫКОВЫЕ МОДЕЛИ И ИСКУССТВЕННЫЙ ИНТЕЛЛЕКТ   prompt-инженер   \n",
       "3       ЯЗЫКОВЫЕ МОДЕЛИ И ИСКУССТВЕННЫЙ ИНТЕЛЛЕКТ   prompt-инженер   \n",
       "4       ЯЗЫКОВЫЕ МОДЕЛИ И ИСКУССТВЕННЫЙ ИНТЕЛЛЕКТ   prompt-инженер   \n",
       "...                                           ...              ...   \n",
       "258360   ЦИФРОВЫЕ ПРОДУКТЫ: СОЗДАНИЕ И УПРАВЛЕНИЕ  head of product   \n",
       "258361   ЦИФРОВЫЕ ПРОДУКТЫ: СОЗДАНИЕ И УПРАВЛЕНИЕ  head of product   \n",
       "258362   ЦИФРОВЫЕ ПРОДУКТЫ: СОЗДАНИЕ И УПРАВЛЕНИЕ  head of product   \n",
       "258363   ЦИФРОВЫЕ ПРОДУКТЫ: СОЗДАНИЕ И УПРАВЛЕНИЕ  head of product   \n",
       "258364   ЦИФРОВЫЕ ПРОДУКТЫ: СОЗДАНИЕ И УПРАВЛЕНИЕ  head of product   \n",
       "\n",
       "                                                  skills qualification  \n",
       "0       [Английский язык, PROMT, Креативность, API, PDF]      bachelor  \n",
       "1       [Английский язык, PROMT, Креативность, API, PDF]      bachelor  \n",
       "2       [Английский язык, PROMT, Креативность, API, PDF]      bachelor  \n",
       "3       [Английский язык, PROMT, Креативность, API, PDF]      bachelor  \n",
       "4                                                    NaN      bachelor  \n",
       "...                                                  ...           ...  \n",
       "258360                                               NaN        master  \n",
       "258361                                               NaN        master  \n",
       "258362                                               NaN        master  \n",
       "258363                                               NaN        master  \n",
       "258364                                               NaN        master  \n",
       "\n",
       "[380338 rows x 6 columns]"
      ]
     },
     "execution_count": 55,
     "metadata": {},
     "output_type": "execute_result"
    }
   ],
   "source": [
    "op[\"skills\"] = op.skills.apply(lambda x: np.nan if x == [] else x)\n",
    "op"
   ]
  },
  {
   "cell_type": "code",
   "execution_count": 56,
   "metadata": {},
   "outputs": [
    {
     "data": {
      "text/plain": [
       "(130264, 6)"
      ]
     },
     "execution_count": 56,
     "metadata": {},
     "output_type": "execute_result"
    }
   ],
   "source": [
    "op.dropna(subset=[\"skills\"], inplace=True)\n",
    "op.shape"
   ]
  },
  {
   "cell_type": "code",
   "execution_count": 58,
   "metadata": {},
   "outputs": [
    {
     "data": {
      "text/plain": [
       "30086"
      ]
     },
     "execution_count": 58,
     "metadata": {},
     "output_type": "execute_result"
    }
   ],
   "source": [
    "# получаем полный список скиллов из вакансий\n",
    "all_skills = set([x for nested_list in op.skills.tolist() for x in nested_list])\n",
    "len(all_skills)"
   ]
  },
  {
   "cell_type": "code",
   "execution_count": 64,
   "metadata": {},
   "outputs": [],
   "source": [
    "vac_items = pd.DataFrame(list(all_skills), columns=[\"name\"])\n",
    "vac_items.to_excel(\"items_from_vacancies.xlsx\", index=False)"
   ]
  },
  {
   "cell_type": "markdown",
   "metadata": {},
   "source": [
    "# Формирование списков навыков по ОП"
   ]
  },
  {
   "cell_type": "code",
   "execution_count": 118,
   "metadata": {},
   "outputs": [],
   "source": [
    "from collections import Counter\n",
    "import matplotlib.pyplot as plt\n",
    "import seaborn as sns\n",
    "\n",
    "sns.set_palette(\"Set2\")\n",
    "sns.set_theme(\"notebook\")\n",
    "sns.set_style(\"whitegrid\")"
   ]
  },
  {
   "cell_type": "code",
   "execution_count": 93,
   "metadata": {},
   "outputs": [],
   "source": [
    "def unnest(data):\n",
    "    return [x for nested_list in data for x in nested_list]\n",
    "\n",
    "def get_skills(data, coef_a=0, coef_b=0, above=False, below=False):\n",
    "    if above:\n",
    "        return [item[0] for item in data.items() if item[1] >= coef_a]\n",
    "    elif below:\n",
    "        return [item[0] for item in data.items() if item[1] <= coef_b]\n",
    "    else:\n",
    "        return [item[0] for item in data.items() if coef_b < item[1] < coef_a]"
   ]
  },
  {
   "cell_type": "code",
   "execution_count": 115,
   "metadata": {},
   "outputs": [],
   "source": [
    "columns = [\"op\", \"qualification\", \"key\", \"additional\", \"noise\", \"total\"]\n",
    "op_skills = pd.DataFrame(columns=columns)\n",
    "\n",
    "op_groups = op.groupby([\"op\", \"qualification\"])\n",
    "for gr in op_groups:\n",
    "    df = gr[1].drop_duplicates(subset=[\"vac_id\"])\n",
    "    skills = unnest(df.skills.tolist())\n",
    "    uniq_skills = Counter(skills)\n",
    "\n",
    "    key_n = round(df.shape[0]*0.1)\n",
    "    noise_n = round(df.shape[0]*0.01)\n",
    "\n",
    "    key_skills = get_skills(uniq_skills, coef_a=key_n, above=True)\n",
    "    noise_skills = get_skills(uniq_skills, coef_b=noise_n, below=True)\n",
    "    add_skills = get_skills(uniq_skills, coef_a=key_n, coef_b=noise_n)\n",
    "    \n",
    "    op_skills = pd.concat([op_skills, \n",
    "                           pd.DataFrame([[df.iloc[0][\"op\"], df.iloc[0][\"qualification\"], \n",
    "                                          key_skills, add_skills, noise_skills, list(uniq_skills.keys())]], \n",
    "                                          columns=columns)])"
   ]
  },
  {
   "cell_type": "code",
   "execution_count": 116,
   "metadata": {},
   "outputs": [
    {
     "data": {
      "text/html": [
       "<div>\n",
       "<style scoped>\n",
       "    .dataframe tbody tr th:only-of-type {\n",
       "        vertical-align: middle;\n",
       "    }\n",
       "\n",
       "    .dataframe tbody tr th {\n",
       "        vertical-align: top;\n",
       "    }\n",
       "\n",
       "    .dataframe thead th {\n",
       "        text-align: right;\n",
       "    }\n",
       "</style>\n",
       "<table border=\"1\" class=\"dataframe\">\n",
       "  <thead>\n",
       "    <tr style=\"text-align: right;\">\n",
       "      <th></th>\n",
       "      <th>op</th>\n",
       "      <th>qualification</th>\n",
       "      <th>key</th>\n",
       "      <th>additional</th>\n",
       "      <th>noise</th>\n",
       "      <th>total</th>\n",
       "    </tr>\n",
       "  </thead>\n",
       "  <tbody>\n",
       "    <tr>\n",
       "      <th>0</th>\n",
       "      <td>АВТОМАТИЗАЦИЯ И УПРАВЛЕНИЕ, AUTOMATION &amp; CONTROL</td>\n",
       "      <td>master</td>\n",
       "      <td>[Автоматизация технологических процессов, Auto...</td>\n",
       "      <td>[Английский язык, TCP/IP, C/C++, C++, Git, Lin...</td>\n",
       "      <td>[Fluent English, MAXIMO, Flow Measurements/Lev...</td>\n",
       "      <td>[Fluent English, Английский язык, MAXIMO, Flow...</td>\n",
       "    </tr>\n",
       "    <tr>\n",
       "      <th>0</th>\n",
       "      <td>БЕЗОПАСНОСТЬ СИСТЕМ ИСКУССТВЕННОГО ИНТЕЛЛЕКТА</td>\n",
       "      <td>master</td>\n",
       "      <td>[SQL, Бизнес-анализ, Разработка технических за...</td>\n",
       "      <td>[UML, REST, Моделирование бизнес процессов, Ag...</td>\n",
       "      <td>[IDEF, SOAP, GUI, XML, Системный подход, Систе...</td>\n",
       "      <td>[UML, IDEF, REST, SOAP, GUI, XML, SQL, Моделир...</td>\n",
       "    </tr>\n",
       "    <tr>\n",
       "      <th>0</th>\n",
       "      <td>БИЗНЕС-ИНФОРМАТИКА</td>\n",
       "      <td>bachelor</td>\n",
       "      <td>[Работа с большим объемом информации, Бизнес-а...</td>\n",
       "      <td>[Scrum, 1С: Предприятие, Техническая документа...</td>\n",
       "      <td>[Продвинутый пользователь ПК, Написание технич...</td>\n",
       "      <td>[Работа с большим объемом информации, Бизнес-а...</td>\n",
       "    </tr>\n",
       "    <tr>\n",
       "      <th>0</th>\n",
       "      <td>БИОТЕХНОЛОГИЯ</td>\n",
       "      <td>bachelor</td>\n",
       "      <td>[Контроль качества, Организаторские навыки]</td>\n",
       "      <td>[Активные продажи, Поиск и привлечение клиенто...</td>\n",
       "      <td>[Работа с ключевыми клиентами, Работа с локаль...</td>\n",
       "      <td>[Работа с ключевыми клиентами, Работа с локаль...</td>\n",
       "    </tr>\n",
       "    <tr>\n",
       "      <th>0</th>\n",
       "      <td>БИОЭКОНОМИКА И УПРАВЛЕНИЕ РЕСУРСАМИ</td>\n",
       "      <td>master</td>\n",
       "      <td>[Химические методы анализа]</td>\n",
       "      <td>[Работа в команде, Организаторские навыки, Тел...</td>\n",
       "      <td>[PR, Анализ PR стратегии конкурентов, Коммуник...</td>\n",
       "      <td>[PR, Анализ PR стратегии конкурентов, Работа в...</td>\n",
       "    </tr>\n",
       "    <tr>\n",
       "      <th>...</th>\n",
       "      <td>...</td>\n",
       "      <td>...</td>\n",
       "      <td>...</td>\n",
       "      <td>...</td>\n",
       "      <td>...</td>\n",
       "      <td>...</td>\n",
       "    </tr>\n",
       "    <tr>\n",
       "      <th>0</th>\n",
       "      <td>ЦИФРОВЫЕ ПРОДУКТЫ: СОЗДАНИЕ И УПРАВЛЕНИЕ</td>\n",
       "      <td>master</td>\n",
       "      <td>[Разработка нового продукта, Управление команд...</td>\n",
       "      <td>[E-Commerce, Ассортиментная матрица, Управлени...</td>\n",
       "      <td>[Стратегический менеджмент, Продуктовая страте...</td>\n",
       "      <td>[E-Commerce, Стратегический менеджмент, Ассорт...</td>\n",
       "    </tr>\n",
       "    <tr>\n",
       "      <th>0</th>\n",
       "      <td>ЭКОТЕХНОЛОГИИ И УСТОЙЧИВОЕ РАЗВИТИЕ</td>\n",
       "      <td>bachelor</td>\n",
       "      <td>[Деловое общение, Поиск и привлечение клиентов...</td>\n",
       "      <td>[Навыки презентации, Планирование продаж, Упра...</td>\n",
       "      <td>[Аренда помещений, Договоры аренды, Региональн...</td>\n",
       "      <td>[Деловое общение, Аренда помещений, Договоры а...</td>\n",
       "    </tr>\n",
       "    <tr>\n",
       "      <th>0</th>\n",
       "      <td>ЭЛЕКТРОИНЖЕНЕРИЯ</td>\n",
       "      <td>master</td>\n",
       "      <td>[Чтение электросхем, Техническое обслуживание,...</td>\n",
       "      <td>[ГОСТ, Контроль качества, Пользователь ПК, Раб...</td>\n",
       "      <td>[испытатель, инженер, проведении испытаний, сх...</td>\n",
       "      <td>[испытатель, инженер, проведении испытаний, сх...</td>\n",
       "    </tr>\n",
       "    <tr>\n",
       "      <th>0</th>\n",
       "      <td>ЭНЕРГОЭФФЕКТИВНЫЕ ИНЖЕНЕРНЫЕ СИСТЕМЫ И ТЕХНОЛО...</td>\n",
       "      <td>master</td>\n",
       "      <td>[AutoCAD, Проектирование, Разработка проектной...</td>\n",
       "      <td>[Пользователь ПК, Проектирование зданий и соор...</td>\n",
       "      <td>[Компас, светопрозрачные конструкции, вентилир...</td>\n",
       "      <td>[AutoCAD, Компас, Пользователь ПК, Проектирова...</td>\n",
       "    </tr>\n",
       "    <tr>\n",
       "      <th>0</th>\n",
       "      <td>ЯЗЫКОВЫЕ МОДЕЛИ И ИСКУССТВЕННЫЙ ИНТЕЛЛЕКТ</td>\n",
       "      <td>bachelor</td>\n",
       "      <td>[Английский язык, Python, SQL, Project managem...</td>\n",
       "      <td>[Креативность, API, ML, Flask, Django, Яндекс....</td>\n",
       "      <td>[PROMT, PDF, Контроль качества, Stable Diffusi...</td>\n",
       "      <td>[Английский язык, PROMT, Креативность, API, PD...</td>\n",
       "    </tr>\n",
       "  </tbody>\n",
       "</table>\n",
       "<p>69 rows × 6 columns</p>\n",
       "</div>"
      ],
      "text/plain": [
       "                                                   op qualification  \\\n",
       "0    АВТОМАТИЗАЦИЯ И УПРАВЛЕНИЕ, AUTOMATION & CONTROL        master   \n",
       "0       БЕЗОПАСНОСТЬ СИСТЕМ ИСКУССТВЕННОГО ИНТЕЛЛЕКТА        master   \n",
       "0                                  БИЗНЕС-ИНФОРМАТИКА      bachelor   \n",
       "0                                       БИОТЕХНОЛОГИЯ      bachelor   \n",
       "0                 БИОЭКОНОМИКА И УПРАВЛЕНИЕ РЕСУРСАМИ        master   \n",
       "..                                                ...           ...   \n",
       "0            ЦИФРОВЫЕ ПРОДУКТЫ: СОЗДАНИЕ И УПРАВЛЕНИЕ        master   \n",
       "0                 ЭКОТЕХНОЛОГИИ И УСТОЙЧИВОЕ РАЗВИТИЕ      bachelor   \n",
       "0                                    ЭЛЕКТРОИНЖЕНЕРИЯ        master   \n",
       "0   ЭНЕРГОЭФФЕКТИВНЫЕ ИНЖЕНЕРНЫЕ СИСТЕМЫ И ТЕХНОЛО...        master   \n",
       "0           ЯЗЫКОВЫЕ МОДЕЛИ И ИСКУССТВЕННЫЙ ИНТЕЛЛЕКТ      bachelor   \n",
       "\n",
       "                                                  key  \\\n",
       "0   [Автоматизация технологических процессов, Auto...   \n",
       "0   [SQL, Бизнес-анализ, Разработка технических за...   \n",
       "0   [Работа с большим объемом информации, Бизнес-а...   \n",
       "0         [Контроль качества, Организаторские навыки]   \n",
       "0                         [Химические методы анализа]   \n",
       "..                                                ...   \n",
       "0   [Разработка нового продукта, Управление команд...   \n",
       "0   [Деловое общение, Поиск и привлечение клиентов...   \n",
       "0   [Чтение электросхем, Техническое обслуживание,...   \n",
       "0   [AutoCAD, Проектирование, Разработка проектной...   \n",
       "0   [Английский язык, Python, SQL, Project managem...   \n",
       "\n",
       "                                           additional  \\\n",
       "0   [Английский язык, TCP/IP, C/C++, C++, Git, Lin...   \n",
       "0   [UML, REST, Моделирование бизнес процессов, Ag...   \n",
       "0   [Scrum, 1С: Предприятие, Техническая документа...   \n",
       "0   [Активные продажи, Поиск и привлечение клиенто...   \n",
       "0   [Работа в команде, Организаторские навыки, Тел...   \n",
       "..                                                ...   \n",
       "0   [E-Commerce, Ассортиментная матрица, Управлени...   \n",
       "0   [Навыки презентации, Планирование продаж, Упра...   \n",
       "0   [ГОСТ, Контроль качества, Пользователь ПК, Раб...   \n",
       "0   [Пользователь ПК, Проектирование зданий и соор...   \n",
       "0   [Креативность, API, ML, Flask, Django, Яндекс....   \n",
       "\n",
       "                                                noise  \\\n",
       "0   [Fluent English, MAXIMO, Flow Measurements/Lev...   \n",
       "0   [IDEF, SOAP, GUI, XML, Системный подход, Систе...   \n",
       "0   [Продвинутый пользователь ПК, Написание технич...   \n",
       "0   [Работа с ключевыми клиентами, Работа с локаль...   \n",
       "0   [PR, Анализ PR стратегии конкурентов, Коммуник...   \n",
       "..                                                ...   \n",
       "0   [Стратегический менеджмент, Продуктовая страте...   \n",
       "0   [Аренда помещений, Договоры аренды, Региональн...   \n",
       "0   [испытатель, инженер, проведении испытаний, сх...   \n",
       "0   [Компас, светопрозрачные конструкции, вентилир...   \n",
       "0   [PROMT, PDF, Контроль качества, Stable Diffusi...   \n",
       "\n",
       "                                                total  \n",
       "0   [Fluent English, Английский язык, MAXIMO, Flow...  \n",
       "0   [UML, IDEF, REST, SOAP, GUI, XML, SQL, Моделир...  \n",
       "0   [Работа с большим объемом информации, Бизнес-а...  \n",
       "0   [Работа с ключевыми клиентами, Работа с локаль...  \n",
       "0   [PR, Анализ PR стратегии конкурентов, Работа в...  \n",
       "..                                                ...  \n",
       "0   [E-Commerce, Стратегический менеджмент, Ассорт...  \n",
       "0   [Деловое общение, Аренда помещений, Договоры а...  \n",
       "0   [испытатель, инженер, проведении испытаний, сх...  \n",
       "0   [AutoCAD, Компас, Пользователь ПК, Проектирова...  \n",
       "0   [Английский язык, PROMT, Креативность, API, PD...  \n",
       "\n",
       "[69 rows x 6 columns]"
      ]
     },
     "execution_count": 116,
     "metadata": {},
     "output_type": "execute_result"
    }
   ],
   "source": [
    "op_skills"
   ]
  },
  {
   "cell_type": "code",
   "execution_count": 117,
   "metadata": {},
   "outputs": [],
   "source": [
    "op_skills[\"kn\"] = op_skills[\"key\"].apply(len)\n",
    "op_skills[\"an\"] = op_skills.additional.apply(len)\n",
    "op_skills[\"nn\"] = op_skills.noise.apply(len)\n",
    "op_skills[\"tn\"] = op_skills.total.apply(len)\n"
   ]
  },
  {
   "cell_type": "code",
   "execution_count": 147,
   "metadata": {},
   "outputs": [
    {
     "data": {
      "image/png": "[encoded data removed]",
      "text/plain": [
       "<Figure size 1296x720 with 4 Axes>"
      ]
     },
     "metadata": {},
     "output_type": "display_data"
    }
   ],
   "source": [
    "fig, axis = plt.subplots(2, 2, figsize=(18, 10))\n",
    "\n",
    "axis[0][0].set_title(f\"Общее кол-во навыков\")\n",
    "sns.histplot(ax=axis[0][0], data=op_skills.sort_values(by=\"qualification\"), x=\"tn\", binwidth=300, hue=\"qualification\")\n",
    "\n",
    "axis[0][1].set_title(f\"Кол-во ключевых навыков\")\n",
    "sns.histplot(ax=axis[0][1], data=op_skills.sort_values(by=\"qualification\"), x=\"kn\", binwidth=2, hue=\"qualification\")\n",
    "\n",
    "axis[1][0].set_title(f\"Кол-во вспомогательных навыков\")\n",
    "sns.histplot(ax=axis[1][0], data=op_skills.sort_values(by=\"qualification\"), x=\"an\", binwidth=12, hue=\"qualification\")\n",
    "\n",
    "axis[1][1].set_title(f\"Кол-во навыков шума\")\n",
    "sns.histplot(ax=axis[1][1], data=op_skills.sort_values(by=\"qualification\"), x=\"nn\", binwidth=250, hue=\"qualification\")\n",
    "\n",
    "plt.show()"
   ]
  },
  {
   "cell_type": "code",
   "execution_count": 150,
   "metadata": {},
   "outputs": [
    {
     "data": {
      "text/html": [
       "<div>\n",
       "<style scoped>\n",
       "    .dataframe tbody tr th:only-of-type {\n",
       "        vertical-align: middle;\n",
       "    }\n",
       "\n",
       "    .dataframe tbody tr th {\n",
       "        vertical-align: top;\n",
       "    }\n",
       "\n",
       "    .dataframe thead th {\n",
       "        text-align: right;\n",
       "    }\n",
       "</style>\n",
       "<table border=\"1\" class=\"dataframe\">\n",
       "  <thead>\n",
       "    <tr style=\"text-align: right;\">\n",
       "      <th></th>\n",
       "      <th>op</th>\n",
       "      <th>qualification</th>\n",
       "      <th>key</th>\n",
       "      <th>additional</th>\n",
       "      <th>noise</th>\n",
       "      <th>total</th>\n",
       "      <th>kn</th>\n",
       "      <th>an</th>\n",
       "      <th>nn</th>\n",
       "      <th>tn</th>\n",
       "      <th>title_lower</th>\n",
       "    </tr>\n",
       "  </thead>\n",
       "  <tbody>\n",
       "    <tr>\n",
       "      <th>0</th>\n",
       "      <td>ТЕХНОЛОГИИ РАЗРАБОТКИ КОМПЬЮТЕРНЫХ ИГР</td>\n",
       "      <td>master</td>\n",
       "      <td>[Git, Linux, C++, PostgreSQL, Altium Designer,...</td>\n",
       "      <td>[C/C++, Qt, Компас-3D, ООП, ГИС, С++, GIS, Pyt...</td>\n",
       "      <td>[UE5, UE4, Unreal Engine 5, Unreal Engine 4, Р...</td>\n",
       "      <td>[C/C++, UE5, UE4, Unreal Engine 5, Unreal Engi...</td>\n",
       "      <td>7</td>\n",
       "      <td>73</td>\n",
       "      <td>197</td>\n",
       "      <td>277</td>\n",
       "      <td>технологии разработки компьютерных игр</td>\n",
       "    </tr>\n",
       "  </tbody>\n",
       "</table>\n",
       "</div>"
      ],
      "text/plain": [
       "                                       op qualification  \\\n",
       "0  ТЕХНОЛОГИИ РАЗРАБОТКИ КОМПЬЮТЕРНЫХ ИГР        master   \n",
       "\n",
       "                                                 key  \\\n",
       "0  [Git, Linux, C++, PostgreSQL, Altium Designer,...   \n",
       "\n",
       "                                          additional  \\\n",
       "0  [C/C++, Qt, Компас-3D, ООП, ГИС, С++, GIS, Pyt...   \n",
       "\n",
       "                                               noise  \\\n",
       "0  [UE5, UE4, Unreal Engine 5, Unreal Engine 4, Р...   \n",
       "\n",
       "                                               total  kn  an   nn   tn  \\\n",
       "0  [C/C++, UE5, UE4, Unreal Engine 5, Unreal Engi...   7  73  197  277   \n",
       "\n",
       "                              title_lower  \n",
       "0  технологии разработки компьютерных игр  "
      ]
     },
     "execution_count": 150,
     "metadata": {},
     "output_type": "execute_result"
    }
   ],
   "source": [
    "op_skills[\"title_lower\"] = op_skills[\"op\"].str.lower()\n",
    "op_skills.sample()"
   ]
  },
  {
   "cell_type": "markdown",
   "metadata": {},
   "source": [
    "# Извлечение навыков из дисциплин"
   ]
  },
  {
   "cell_type": "code",
   "execution_count": 164,
   "metadata": {},
   "outputs": [],
   "source": [
    "from ast import literal_eval\n",
    "from embedding_creation import get_entities, Discipline\n",
    "import json"
   ]
  },
  {
   "cell_type": "code",
   "execution_count": 153,
   "metadata": {},
   "outputs": [
    {
     "name": "stderr",
     "output_type": "stream",
     "text": [
      "<ipython-input-153-8744895035e7>:35: SettingWithCopyWarning: \n",
      "A value is trying to be set on a copy of a slice from a DataFrame.\n",
      "Try using .loc[row_indexer,col_indexer] = value instead\n",
      "\n",
      "See the caveats in the documentation: https://pandas.pydata.org/pandas-docs/stable/user_guide/indexing.html#returning-a-view-versus-a-copy\n",
      "  edu_plans[\"ze\"] = edu_plans.ze.apply(lambda row: sum(filter(None, [elem[\"points\"] for elem in row])))\n"
     ]
    },
    {
     "data": {
      "text/html": [
       "<div>\n",
       "<style scoped>\n",
       "    .dataframe tbody tr th:only-of-type {\n",
       "        vertical-align: middle;\n",
       "    }\n",
       "\n",
       "    .dataframe tbody tr th {\n",
       "        vertical-align: top;\n",
       "    }\n",
       "\n",
       "    .dataframe thead th {\n",
       "        text-align: right;\n",
       "    }\n",
       "</style>\n",
       "<table border=\"1\" class=\"dataframe\">\n",
       "  <thead>\n",
       "    <tr style=\"text-align: right;\">\n",
       "      <th></th>\n",
       "      <th>up_id</th>\n",
       "      <th>up_title</th>\n",
       "      <th>course_id</th>\n",
       "      <th>year</th>\n",
       "      <th>qualification_x</th>\n",
       "      <th>discipline_code_x</th>\n",
       "      <th>Unnamed: 0</th>\n",
       "      <th>id</th>\n",
       "      <th>discipline_code_y</th>\n",
       "      <th>title</th>\n",
       "      <th>...</th>\n",
       "      <th>extracted_entities_n</th>\n",
       "      <th>combines_res</th>\n",
       "      <th>combined_res</th>\n",
       "      <th>res_n</th>\n",
       "      <th>comb_res</th>\n",
       "      <th>comb_res_n</th>\n",
       "      <th>disc_id</th>\n",
       "      <th>module_id</th>\n",
       "      <th>is_optional</th>\n",
       "      <th>ze</th>\n",
       "    </tr>\n",
       "  </thead>\n",
       "  <tbody>\n",
       "    <tr>\n",
       "      <th>1728023</th>\n",
       "      <td>7189</td>\n",
       "      <td>Мобильные и облачные технологии</td>\n",
       "      <td>20464</td>\n",
       "      <td>2022</td>\n",
       "      <td>master</td>\n",
       "      <td>21043</td>\n",
       "      <td>6411</td>\n",
       "      <td>20464</td>\n",
       "      <td>21043</td>\n",
       "      <td>Креативные технологии / Creative Technologies</td>\n",
       "      <td>...</td>\n",
       "      <td>2.0</td>\n",
       "      <td>['Креативные технологии', 'Design thinking', '...</td>\n",
       "      <td>['Креативные технологии', 'Design thinking', '...</td>\n",
       "      <td>10</td>\n",
       "      <td>[Сценарии развития проектов, Сценарии развития...</td>\n",
       "      <td>18</td>\n",
       "      <td>21043</td>\n",
       "      <td>4765</td>\n",
       "      <td>True</td>\n",
       "      <td>3</td>\n",
       "    </tr>\n",
       "    <tr>\n",
       "      <th>259181</th>\n",
       "      <td>7345</td>\n",
       "      <td>Оптико-электронные приборы и системы</td>\n",
       "      <td>2643</td>\n",
       "      <td>2020</td>\n",
       "      <td>specialist</td>\n",
       "      <td>2663</td>\n",
       "      <td>9</td>\n",
       "      <td>2643</td>\n",
       "      <td>2663</td>\n",
       "      <td>Основы кибербезопасности</td>\n",
       "      <td>...</td>\n",
       "      <td>10.0</td>\n",
       "      <td>['Управление информационной безопасностью', 'Т...</td>\n",
       "      <td>['Управление информационной безопасностью', 'Т...</td>\n",
       "      <td>10</td>\n",
       "      <td>[Управление информационной безопасностью, Техн...</td>\n",
       "      <td>10</td>\n",
       "      <td>2663</td>\n",
       "      <td>779</td>\n",
       "      <td>True</td>\n",
       "      <td>3</td>\n",
       "    </tr>\n",
       "    <tr>\n",
       "      <th>1211272</th>\n",
       "      <td>6970</td>\n",
       "      <td>Химия прикладных материалов / Chemistry of App...</td>\n",
       "      <td>4726</td>\n",
       "      <td>2020</td>\n",
       "      <td>master</td>\n",
       "      <td>3622</td>\n",
       "      <td>848</td>\n",
       "      <td>4726</td>\n",
       "      <td>3622</td>\n",
       "      <td>Прикладной искусственный интеллект (продвинуты...</td>\n",
       "      <td>...</td>\n",
       "      <td>7.0</td>\n",
       "      <td>['Умный город', 'Умный город', 'Speech Synthes...</td>\n",
       "      <td>['Умный город', 'Умный город', 'Speech Synthes...</td>\n",
       "      <td>10</td>\n",
       "      <td>[Умный город, Умный город, Speech Synthesis an...</td>\n",
       "      <td>12</td>\n",
       "      <td>3622</td>\n",
       "      <td>1955</td>\n",
       "      <td>True</td>\n",
       "      <td>3</td>\n",
       "    </tr>\n",
       "  </tbody>\n",
       "</table>\n",
       "<p>3 rows × 28 columns</p>\n",
       "</div>"
      ],
      "text/plain": [
       "         up_id                                           up_title  course_id  \\\n",
       "1728023   7189                    Мобильные и облачные технологии      20464   \n",
       "259181    7345               Оптико-электронные приборы и системы       2643   \n",
       "1211272   6970  Химия прикладных материалов / Chemistry of App...       4726   \n",
       "\n",
       "         year qualification_x  discipline_code_x  Unnamed: 0     id  \\\n",
       "1728023  2022          master              21043        6411  20464   \n",
       "259181   2020      specialist               2663           9   2643   \n",
       "1211272  2020          master               3622         848   4726   \n",
       "\n",
       "        discipline_code_y                                              title  \\\n",
       "1728023             21043      Креативные технологии / Creative Technologies   \n",
       "259181               2663                           Основы кибербезопасности   \n",
       "1211272              3622  Прикладной искусственный интеллект (продвинуты...   \n",
       "\n",
       "         ... extracted_entities_n  \\\n",
       "1728023  ...                  2.0   \n",
       "259181   ...                 10.0   \n",
       "1211272  ...                  7.0   \n",
       "\n",
       "                                              combines_res  \\\n",
       "1728023  ['Креативные технологии', 'Design thinking', '...   \n",
       "259181   ['Управление информационной безопасностью', 'Т...   \n",
       "1211272  ['Умный город', 'Умный город', 'Speech Synthes...   \n",
       "\n",
       "                                              combined_res res_n  \\\n",
       "1728023  ['Креативные технологии', 'Design thinking', '...    10   \n",
       "259181   ['Управление информационной безопасностью', 'Т...    10   \n",
       "1211272  ['Умный город', 'Умный город', 'Speech Synthes...    10   \n",
       "\n",
       "                                                  comb_res comb_res_n  \\\n",
       "1728023  [Сценарии развития проектов, Сценарии развития...         18   \n",
       "259181   [Управление информационной безопасностью, Техн...         10   \n",
       "1211272  [Умный город, Умный город, Speech Synthesis an...         12   \n",
       "\n",
       "         disc_id module_id   is_optional ze  \n",
       "1728023    21043       4765         True  3  \n",
       "259181      2663        779         True  3  \n",
       "1211272     3622       1955         True  3  \n",
       "\n",
       "[3 rows x 28 columns]"
      ]
     },
     "execution_count": 153,
     "metadata": {},
     "output_type": "execute_result"
    }
   ],
   "source": [
    "df = pd.read_csv(\"plans_disciplines_vectorized.csv\")\n",
    "\n",
    "# данные по дисциплинам из БД\n",
    "disc = pd.read_csv(\"disc_contents20230506_4.csv\")\n",
    "disc[\"comb_res\"] = disc.comb_res.apply(literal_eval)\n",
    "\n",
    "up = df[[\"up_id\", \"up_title\", \"course_id\"]]\n",
    "up = pd.merge(up, disc, left_on=\"course_id\", right_on=\"id\")\n",
    "\n",
    "with open(\"up_isu_20230407.json\") as f:\n",
    "    js = json.load(f)\n",
    "\n",
    "for up_isu in js.keys():\n",
    "    for i in range(len(js[up_isu])):\n",
    "        js[up_isu][i][\"disciplines_blocks\"] = json.loads(js[up_isu][i][\"disciplines_blocks\"])\n",
    "\n",
    "df = pd.json_normalize(pd.DataFrame.from_dict(js)[\"up_isu\"])\n",
    "df = df[df[\"disciplines_blocks.block_name\"] == \"Блок 1. Модули (дисциплины)\"]\n",
    "\n",
    "explode_discipline_modules = df.explode(\"disciplines_blocks.discipline_modules\")\n",
    "explode_discipline_modules_norm = pd.json_normalize(explode_discipline_modules[\"disciplines_blocks.discipline_modules\"])\n",
    "\n",
    "attach_discipline_modules = pd.concat([explode_discipline_modules.reset_index(),\n",
    "                                       explode_discipline_modules_norm.reset_index()], axis=1)\n",
    "discipline_modules = attach_discipline_modules[[\"id\", \"direction_code\", \"edu_program_id\", \"edu_program_name\",\n",
    "                                                       \"training_period\", \"selection_year\", \"module_id \", \"module_name\", \"disciplines\"]]\n",
    "\n",
    "disciplines_explode = discipline_modules.explode(\"disciplines\")\n",
    "discipline_norm = pd.json_normalize(disciplines_explode[\"disciplines\"])\n",
    "\n",
    "disciplines = pd.concat([disciplines_explode.reset_index(), discipline_norm.reset_index()], axis=1)\n",
    "edu_plans = disciplines[[\"id\", \"direction_code\", \"edu_program_id\", \"edu_program_name\", \"training_period\",\n",
    "                           \"selection_year\", \"is_optional\", \"module_id \", \"module_name\", \"plan_order\", \"dis_id\", \"disc_id\", \"discipline_name\", \"ze\"]]\n",
    "\n",
    "edu_plans[\"ze\"] = edu_plans.ze.apply(lambda row: sum(filter(None, [elem[\"points\"] for elem in row])))\n",
    "\n",
    "\n",
    "df = pd.read_csv(\"plans_disciplines_vectorized.csv\")\n",
    "\n",
    "up = df[[\"up_id\", \"up_title\", \"course_id\", \"year\", \"qualification\", \"discipline_code\"]]\n",
    "up = pd.merge(up, disc, left_on=\"course_id\", right_on=\"id\")\n",
    "\n",
    "valid_plans = edu_plans[[\"disc_id\", \"module_id \", \"is_optional\", \"ze\"]]\n",
    "up = pd.merge(up, valid_plans, left_on=\"discipline_code_x\", right_on=\"disc_id\")\n",
    "\n",
    "up.sample(3)"
   ]
  },
  {
   "cell_type": "code",
   "execution_count": 154,
   "metadata": {},
   "outputs": [
    {
     "data": {
      "text/plain": [
       "bachelor      15692\n",
       "master        13145\n",
       "specialist      377\n",
       "Name: qualification, dtype: int64"
      ]
     },
     "execution_count": 154,
     "metadata": {},
     "output_type": "execute_result"
    }
   ],
   "source": [
    "up = up.drop_duplicates(subset=[\"up_id\", \"course_id\"])\n",
    "up.rename(columns={\"qualification_x\": \"qualification\"}, inplace=True)\n",
    "\n",
    "up.qualification.value_counts()"
   ]
  },
  {
   "cell_type": "code",
   "execution_count": 158,
   "metadata": {},
   "outputs": [
    {
     "data": {
      "text/plain": [
       "'Основы обработки мультимедийных данных. Дисциплина по выбору для студентов факультета инфокоммуникационных технологий. В рамках дисциплины рассматриваются вопросы обработки и анализа мультимедийных данных (изображения, звук). Особое внимание уделяется методам сжатия данных. Практическая часть курса включает в себя выполнение заданий на языке программирования Python.. Анализ мультимедийных данных. Задачи анализа изображений: OCR Выделение характеристик объекта Идентификация личности Определение перемещения объекта. Обработка оцифрованного звукового сигнала. Атрибуты звуковой волны Представление звука в цифровом формате Спектр звука Речевой сигнал. Стандарт CELP Особенности восприятия звука. Обработка оцифрованного изображения. Задачи обработки изображения: Геометрические преобразования, Цветовая и тоновая коррекция, Сравнение изображений, Комбинирование изображений, Интерполяция и сглаживание, Разделение на области, Редактирование и ретуширование, Компенсация потери резкости Методы обработки: поточечные, локальные и глобальные Дискретное преобразование Фурье.  Дискретное  косинусное  преобразование. Связь дискретного косинусного преобразования и дискретного преобразования Фурье. Применение преобразований к сжатию изображений, видео и аудио информации. Стандарты сжатия изображений. Форматы и типы мультимедийных данных. Понятие мультимедиа. Понятие аналогового и цифрового сигнала. Аналого- цифровое преобразование. Теорема Котельникова. Задача сжатия мультимедийных данных. Классификация систем сжатия данных. Скалярное равномерное квантование с фиксированной скоростью. Скалярное равномерное квантование с переменной скоростью. Оптимальное неравномерное скалярное квантование. Процедура Макса-Ллойда. Оптимальное скалярное квантование с ограничением по энтропии. Векторное квантование. Процедура Линдо-Бузо-Грея'"
      ]
     },
     "execution_count": 158,
     "metadata": {},
     "output_type": "execute_result"
    }
   ],
   "source": [
    "up.iloc[0][\"raw_text\"]  # здесь лежит текст для извлечения навыков"
   ]
  },
  {
   "cell_type": "code",
   "execution_count": 169,
   "metadata": {},
   "outputs": [
    {
     "data": {
      "text/html": [
       "<div>\n",
       "<style scoped>\n",
       "    .dataframe tbody tr th:only-of-type {\n",
       "        vertical-align: middle;\n",
       "    }\n",
       "\n",
       "    .dataframe tbody tr th {\n",
       "        vertical-align: top;\n",
       "    }\n",
       "\n",
       "    .dataframe thead th {\n",
       "        text-align: right;\n",
       "    }\n",
       "</style>\n",
       "<table border=\"1\" class=\"dataframe\">\n",
       "  <thead>\n",
       "    <tr style=\"text-align: right;\">\n",
       "      <th></th>\n",
       "      <th>name</th>\n",
       "      <th>lowercase</th>\n",
       "    </tr>\n",
       "  </thead>\n",
       "  <tbody>\n",
       "    <tr>\n",
       "      <th>0</th>\n",
       "      <td></td>\n",
       "      <td></td>\n",
       "    </tr>\n",
       "    <tr>\n",
       "      <th>1</th>\n",
       "      <td>персональные данные</td>\n",
       "      <td>персональные данные</td>\n",
       "    </tr>\n",
       "    <tr>\n",
       "      <th>2</th>\n",
       "      <td>Ведение групп в социальных сетях</td>\n",
       "      <td>ведение групп в социальных сетях</td>\n",
       "    </tr>\n",
       "    <tr>\n",
       "      <th>3</th>\n",
       "      <td>Оформление текстилем</td>\n",
       "      <td>оформление текстилем</td>\n",
       "    </tr>\n",
       "    <tr>\n",
       "      <th>4</th>\n",
       "      <td>Разработка новых рецептур; соблюдение технолог...</td>\n",
       "      <td>разработка новых рецептур; соблюдение технолог...</td>\n",
       "    </tr>\n",
       "    <tr>\n",
       "      <th>...</th>\n",
       "      <td>...</td>\n",
       "      <td>...</td>\n",
       "    </tr>\n",
       "    <tr>\n",
       "      <th>30081</th>\n",
       "      <td>UserGate</td>\n",
       "      <td>usergate</td>\n",
       "    </tr>\n",
       "    <tr>\n",
       "      <th>30082</th>\n",
       "      <td>HiSilicon</td>\n",
       "      <td>hisilicon</td>\n",
       "    </tr>\n",
       "    <tr>\n",
       "      <th>30083</th>\n",
       "      <td>Физик</td>\n",
       "      <td>физик</td>\n",
       "    </tr>\n",
       "    <tr>\n",
       "      <th>30084</th>\n",
       "      <td>Тестирование на проникновение</td>\n",
       "      <td>тестирование на проникновение</td>\n",
       "    </tr>\n",
       "    <tr>\n",
       "      <th>30085</th>\n",
       "      <td>коммуникабельность и желание работать в команде</td>\n",
       "      <td>коммуникабельность и желание работать в команде</td>\n",
       "    </tr>\n",
       "  </tbody>\n",
       "</table>\n",
       "<p>30086 rows × 2 columns</p>\n",
       "</div>"
      ],
      "text/plain": [
       "                                                    name  \\\n",
       "0                                                          \n",
       "1                                    персональные данные   \n",
       "2                       Ведение групп в социальных сетях   \n",
       "3                                   Оформление текстилем   \n",
       "4      Разработка новых рецептур; соблюдение технолог...   \n",
       "...                                                  ...   \n",
       "30081                                           UserGate   \n",
       "30082                                          HiSilicon   \n",
       "30083                                              Физик   \n",
       "30084                      Тестирование на проникновение   \n",
       "30085    коммуникабельность и желание работать в команде   \n",
       "\n",
       "                                               lowercase  \n",
       "0                                                         \n",
       "1                                    персональные данные  \n",
       "2                       ведение групп в социальных сетях  \n",
       "3                                   оформление текстилем  \n",
       "4      разработка новых рецептур; соблюдение технолог...  \n",
       "...                                                  ...  \n",
       "30081                                           usergate  \n",
       "30082                                          hisilicon  \n",
       "30083                                              физик  \n",
       "30084                      тестирование на проникновение  \n",
       "30085    коммуникабельность и желание работать в команде  \n",
       "\n",
       "[30086 rows x 2 columns]"
      ]
     },
     "execution_count": 169,
     "metadata": {},
     "output_type": "execute_result"
    }
   ],
   "source": [
    "vac_items.reset_index().rename(columns={\"index\": \"id\"}, inplace=True)\n",
    "vac_items[\"lowercase\"] = vac_items.name.str.lower()\n",
    "vac_items"
   ]
  },
  {
   "cell_type": "code",
   "execution_count": 174,
   "metadata": {},
   "outputs": [
    {
     "ename": "TypeError",
     "evalue": "get_entities() takes from 1 to 2 positional arguments but 3 were given",
     "output_type": "error",
     "traceback": [
      "\u001b[0;31m---------------------------------------------------------------------------\u001b[0m",
      "\u001b[0;31mTypeError\u001b[0m                                 Traceback (most recent call last)",
      "Cell \u001b[0;32mIn[174], line 1\u001b[0m\n\u001b[0;32m----> 1\u001b[0m \u001b[43mget_entities\u001b[49m\u001b[43m(\u001b[49m\u001b[43mup\u001b[49m\u001b[38;5;241;43m.\u001b[39;49m\u001b[43miloc\u001b[49m\u001b[43m[\u001b[49m\u001b[38;5;241;43m0\u001b[39;49m\u001b[43m]\u001b[49m\u001b[43m[\u001b[49m\u001b[38;5;124;43m\"\u001b[39;49m\u001b[38;5;124;43mraw_text\u001b[39;49m\u001b[38;5;124;43m\"\u001b[39;49m\u001b[43m]\u001b[49m\u001b[43m,\u001b[49m\u001b[43m \u001b[49m\u001b[43mvac_items\u001b[49m\u001b[43m,\u001b[49m\u001b[43m \u001b[49m\u001b[38;5;241;43m150\u001b[39;49m\u001b[43m)\u001b[49m\n",
      "\u001b[0;31mTypeError\u001b[0m: get_entities() takes from 1 to 2 positional arguments but 3 were given"
     ]
    }
   ],
   "source": [
    "get_entities(up.iloc[0][\"raw_text\"], vac_items, 150)"
   ]
  },
  {
   "cell_type": "code",
   "execution_count": 176,
   "metadata": {},
   "outputs": [
    {
     "ename": "TypeError",
     "evalue": "get_entities() got multiple values for argument 'entities_to_match'",
     "output_type": "error",
     "traceback": [
      "\u001b[0;31m---------------------------------------------------------------------------\u001b[0m",
      "\u001b[0;31mTypeError\u001b[0m                                 Traceback (most recent call last)",
      "Cell \u001b[0;32mIn[176], line 1\u001b[0m\n\u001b[0;32m----> 1\u001b[0m \u001b[43mget_entities\u001b[49m\u001b[43m(\u001b[49m\u001b[43mup\u001b[49m\u001b[38;5;241;43m.\u001b[39;49m\u001b[43miloc\u001b[49m\u001b[43m[\u001b[49m\u001b[38;5;241;43m0\u001b[39;49m\u001b[43m]\u001b[49m\u001b[43m[\u001b[49m\u001b[38;5;124;43m\"\u001b[39;49m\u001b[38;5;124;43mraw_text\u001b[39;49m\u001b[38;5;124;43m\"\u001b[39;49m\u001b[43m]\u001b[49m\u001b[43m,\u001b[49m\u001b[43m \u001b[49m\u001b[43mvac_items\u001b[49m\u001b[43m,\u001b[49m\u001b[43m \u001b[49m\u001b[43mentities_to_match\u001b[49m\u001b[38;5;241;43m=\u001b[39;49m\u001b[38;5;241;43m150\u001b[39;49m\u001b[43m)\u001b[49m\n",
      "\u001b[0;31mTypeError\u001b[0m: get_entities() got multiple values for argument 'entities_to_match'"
     ]
    }
   ],
   "source": [
    "get_entities(up.iloc[0][\"raw_text\"], vac_items, entities_to_match=150)"
   ]
  },
  {
   "cell_type": "code",
   "execution_count": 177,
   "metadata": {},
   "outputs": [
    {
     "data": {
      "text/html": [
       "<div>\n",
       "<style scoped>\n",
       "    .dataframe tbody tr th:only-of-type {\n",
       "        vertical-align: middle;\n",
       "    }\n",
       "\n",
       "    .dataframe tbody tr th {\n",
       "        vertical-align: top;\n",
       "    }\n",
       "\n",
       "    .dataframe thead th {\n",
       "        text-align: right;\n",
       "    }\n",
       "</style>\n",
       "<table border=\"1\" class=\"dataframe\">\n",
       "  <thead>\n",
       "    <tr style=\"text-align: right;\">\n",
       "      <th></th>\n",
       "      <th>vac_id</th>\n",
       "      <th>vac_title</th>\n",
       "      <th>op</th>\n",
       "      <th>job</th>\n",
       "      <th>skills</th>\n",
       "      <th>qualification</th>\n",
       "    </tr>\n",
       "  </thead>\n",
       "  <tbody>\n",
       "    <tr>\n",
       "      <th>0</th>\n",
       "      <td>94598651</td>\n",
       "      <td>Content Manager/Prompt Engineer</td>\n",
       "      <td>ЯЗЫКОВЫЕ МОДЕЛИ И ИСКУССТВЕННЫЙ ИНТЕЛЛЕКТ</td>\n",
       "      <td>prompt-инженер</td>\n",
       "      <td>[Английский язык, PROMT, Креативность, API, PDF]</td>\n",
       "      <td>bachelor</td>\n",
       "    </tr>\n",
       "    <tr>\n",
       "      <th>1</th>\n",
       "      <td>94598651</td>\n",
       "      <td>Content Manager/Prompt Engineer</td>\n",
       "      <td>ЯЗЫКОВЫЕ МОДЕЛИ И ИСКУССТВЕННЫЙ ИНТЕЛЛЕКТ</td>\n",
       "      <td>prompt-инженер</td>\n",
       "      <td>[Английский язык, PROMT, Креативность, API, PDF]</td>\n",
       "      <td>bachelor</td>\n",
       "    </tr>\n",
       "    <tr>\n",
       "      <th>2</th>\n",
       "      <td>94598651</td>\n",
       "      <td>Content Manager/Prompt Engineer</td>\n",
       "      <td>ЯЗЫКОВЫЕ МОДЕЛИ И ИСКУССТВЕННЫЙ ИНТЕЛЛЕКТ</td>\n",
       "      <td>prompt-инженер</td>\n",
       "      <td>[Английский язык, PROMT, Креативность, API, PDF]</td>\n",
       "      <td>bachelor</td>\n",
       "    </tr>\n",
       "    <tr>\n",
       "      <th>3</th>\n",
       "      <td>94598651</td>\n",
       "      <td>Content Manager/Prompt Engineer</td>\n",
       "      <td>ЯЗЫКОВЫЕ МОДЕЛИ И ИСКУССТВЕННЫЙ ИНТЕЛЛЕКТ</td>\n",
       "      <td>prompt-инженер</td>\n",
       "      <td>[Английский язык, PROMT, Креативность, API, PDF]</td>\n",
       "      <td>bachelor</td>\n",
       "    </tr>\n",
       "    <tr>\n",
       "      <th>12</th>\n",
       "      <td>96617917</td>\n",
       "      <td>LLM Prompt Engineer</td>\n",
       "      <td>ЯЗЫКОВЫЕ МОДЕЛИ И ИСКУССТВЕННЫЙ ИНТЕЛЛЕКТ</td>\n",
       "      <td>prompt-инженер</td>\n",
       "      <td>[Python, SQL]</td>\n",
       "      <td>bachelor</td>\n",
       "    </tr>\n",
       "    <tr>\n",
       "      <th>...</th>\n",
       "      <td>...</td>\n",
       "      <td>...</td>\n",
       "      <td>...</td>\n",
       "      <td>...</td>\n",
       "      <td>...</td>\n",
       "      <td>...</td>\n",
       "    </tr>\n",
       "    <tr>\n",
       "      <th>258348</th>\n",
       "      <td>96000800</td>\n",
       "      <td>IT Business Partner</td>\n",
       "      <td>ЦИФРОВЫЕ ПРОДУКТЫ: СОЗДАНИЕ И УПРАВЛЕНИЕ</td>\n",
       "      <td>head of product</td>\n",
       "      <td>[Проектный менеджмент]</td>\n",
       "      <td>master</td>\n",
       "    </tr>\n",
       "    <tr>\n",
       "      <th>258349</th>\n",
       "      <td>95613910</td>\n",
       "      <td>Инженер технической поддержки PDU/KVM / Techni...</td>\n",
       "      <td>ЦИФРОВЫЕ ПРОДУКТЫ: СОЗДАНИЕ И УПРАВЛЕНИЕ</td>\n",
       "      <td>head of product</td>\n",
       "      <td>[Английский язык, Техническое обслуживание, Де...</td>\n",
       "      <td>master</td>\n",
       "    </tr>\n",
       "    <tr>\n",
       "      <th>258351</th>\n",
       "      <td>95885088</td>\n",
       "      <td>SMM Manager</td>\n",
       "      <td>ЦИФРОВЫЕ ПРОДУКТЫ: СОЗДАНИЕ И УПРАВЛЕНИЕ</td>\n",
       "      <td>head of product</td>\n",
       "      <td>[SMM, Content strategy, Crypto, Blockchain, De...</td>\n",
       "      <td>master</td>\n",
       "    </tr>\n",
       "    <tr>\n",
       "      <th>258358</th>\n",
       "      <td>95490628</td>\n",
       "      <td>Руководитель Отдела Продаж</td>\n",
       "      <td>ЦИФРОВЫЕ ПРОДУКТЫ: СОЗДАНИЕ И УПРАВЛЕНИЕ</td>\n",
       "      <td>head of product</td>\n",
       "      <td>[Английский язык, Управление продажами, Прямые...</td>\n",
       "      <td>master</td>\n",
       "    </tr>\n",
       "    <tr>\n",
       "      <th>258359</th>\n",
       "      <td>95490629</td>\n",
       "      <td>Руководитель Отдела Продаж</td>\n",
       "      <td>ЦИФРОВЫЕ ПРОДУКТЫ: СОЗДАНИЕ И УПРАВЛЕНИЕ</td>\n",
       "      <td>head of product</td>\n",
       "      <td>[Английский язык, Управление продажами, Прямые...</td>\n",
       "      <td>master</td>\n",
       "    </tr>\n",
       "  </tbody>\n",
       "</table>\n",
       "<p>130264 rows × 6 columns</p>\n",
       "</div>"
      ],
      "text/plain": [
       "          vac_id                                          vac_title  \\\n",
       "0       94598651                    Content Manager/Prompt Engineer   \n",
       "1       94598651                    Content Manager/Prompt Engineer   \n",
       "2       94598651                    Content Manager/Prompt Engineer   \n",
       "3       94598651                    Content Manager/Prompt Engineer   \n",
       "12      96617917                                LLM Prompt Engineer   \n",
       "...          ...                                                ...   \n",
       "258348  96000800                                IT Business Partner   \n",
       "258349  95613910  Инженер технической поддержки PDU/KVM / Techni...   \n",
       "258351  95885088                                        SMM Manager   \n",
       "258358  95490628                         Руководитель Отдела Продаж   \n",
       "258359  95490629                         Руководитель Отдела Продаж   \n",
       "\n",
       "                                               op              job  \\\n",
       "0       ЯЗЫКОВЫЕ МОДЕЛИ И ИСКУССТВЕННЫЙ ИНТЕЛЛЕКТ   prompt-инженер   \n",
       "1       ЯЗЫКОВЫЕ МОДЕЛИ И ИСКУССТВЕННЫЙ ИНТЕЛЛЕКТ   prompt-инженер   \n",
       "2       ЯЗЫКОВЫЕ МОДЕЛИ И ИСКУССТВЕННЫЙ ИНТЕЛЛЕКТ   prompt-инженер   \n",
       "3       ЯЗЫКОВЫЕ МОДЕЛИ И ИСКУССТВЕННЫЙ ИНТЕЛЛЕКТ   prompt-инженер   \n",
       "12      ЯЗЫКОВЫЕ МОДЕЛИ И ИСКУССТВЕННЫЙ ИНТЕЛЛЕКТ   prompt-инженер   \n",
       "...                                           ...              ...   \n",
       "258348   ЦИФРОВЫЕ ПРОДУКТЫ: СОЗДАНИЕ И УПРАВЛЕНИЕ  head of product   \n",
       "258349   ЦИФРОВЫЕ ПРОДУКТЫ: СОЗДАНИЕ И УПРАВЛЕНИЕ  head of product   \n",
       "258351   ЦИФРОВЫЕ ПРОДУКТЫ: СОЗДАНИЕ И УПРАВЛЕНИЕ  head of product   \n",
       "258358   ЦИФРОВЫЕ ПРОДУКТЫ: СОЗДАНИЕ И УПРАВЛЕНИЕ  head of product   \n",
       "258359   ЦИФРОВЫЕ ПРОДУКТЫ: СОЗДАНИЕ И УПРАВЛЕНИЕ  head of product   \n",
       "\n",
       "                                                   skills qualification  \n",
       "0        [Английский язык, PROMT, Креативность, API, PDF]      bachelor  \n",
       "1        [Английский язык, PROMT, Креативность, API, PDF]      bachelor  \n",
       "2        [Английский язык, PROMT, Креативность, API, PDF]      bachelor  \n",
       "3        [Английский язык, PROMT, Креативность, API, PDF]      bachelor  \n",
       "12                                          [Python, SQL]      bachelor  \n",
       "...                                                   ...           ...  \n",
       "258348                             [Проектный менеджмент]        master  \n",
       "258349  [Английский язык, Техническое обслуживание, Де...        master  \n",
       "258351  [SMM, Content strategy, Crypto, Blockchain, De...        master  \n",
       "258358  [Английский язык, Управление продажами, Прямые...        master  \n",
       "258359  [Английский язык, Управление продажами, Прямые...        master  \n",
       "\n",
       "[130264 rows x 6 columns]"
      ]
     },
     "execution_count": 177,
     "metadata": {},
     "output_type": "execute_result"
    }
   ],
   "source": [
    "op"
   ]
  },
  {
   "cell_type": "code",
   "execution_count": 179,
   "metadata": {},
   "outputs": [],
   "source": [
    "op.to_excel(\"skills_professions.xlsx\", index=False)"
   ]
  },
  {
   "cell_type": "code",
   "execution_count": null,
   "metadata": {},
   "outputs": [],
   "source": []
  }
 ],
 "metadata": {
  "kernelspec": {
   "display_name": "phd38",
   "language": "python",
   "name": "python3"
  },
  "language_info": {
   "codemirror_mode": {
    "name": "ipython",
    "version": 3
   },
   "file_extension": ".py",
   "mimetype": "text/x-python",
   "name": "python",
   "nbconvert_exporter": "python",
   "pygments_lexer": "ipython3",
   "version": "3.8.18"
  }
 },
 "nbformat": 4,
 "nbformat_minor": 2
}
