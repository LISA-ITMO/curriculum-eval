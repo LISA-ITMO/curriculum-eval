{
  "cells": [
    {
      "cell_type": "markdown",
      "metadata": {
        "id": "view-in-github",
        "colab_type": "text"
      },
      "source": [
        "<a href=\"https://colab.research.google.com/github/anastasiiaCher/educational-plans-evaluation/blob/main/test_embeds/embeddings_pipeline.ipynb\" target=\"_parent\"><img src=\"https://colab.research.google.com/assets/colab-badge.svg\" alt=\"Open In Colab\"/></a>"
      ]
    },
    {
      "cell_type": "code",
      "source": [
        "!git clone https://github.com/anastasiiaCher/educational-plans-evaluation.git"
      ],
      "metadata": {
        "colab": {
          "base_uri": "https://localhost:8080/"
        },
        "id": "fTzYu3I2xfAw",
        "outputId": "11586e81-dfe6-435a-b929-86c1cfc52978"
      },
      "execution_count": 1,
      "outputs": [
        {
          "output_type": "stream",
          "name": "stdout",
          "text": [
            "Cloning into 'educational-plans-evaluation'...\n",
            "remote: Enumerating objects: 47, done.\u001b[K\n",
            "remote: Counting objects: 100% (47/47), done.\u001b[K\n",
            "remote: Compressing objects: 100% (46/46), done.\u001b[K\n",
            "remote: Total 47 (delta 14), reused 0 (delta 0), pack-reused 0\u001b[K\n",
            "Receiving objects: 100% (47/47), 4.02 MiB | 9.10 MiB/s, done.\n",
            "Resolving deltas: 100% (14/14), done.\n"
          ]
        }
      ]
    },
    {
      "cell_type": "code",
      "source": [
        "import sys\n",
        "sys.path.append(\"/content/educational-plans-evaluation/test_embeds\")"
      ],
      "metadata": {
        "id": "CILfGegvz-Us"
      },
      "execution_count": 2,
      "outputs": []
    },
    {
      "cell_type": "code",
      "source": [
        "%%capture\n",
        "!pip install pymorphy2 razdel"
      ],
      "metadata": {
        "id": "eFQZVOvp0l-y"
      },
      "execution_count": 8,
      "outputs": []
    },
    {
      "cell_type": "code",
      "execution_count": 9,
      "metadata": {
        "id": "AwY9Ufa3vWCk"
      },
      "outputs": [],
      "source": [
        "%%capture\n",
        "import pandas as pd\n",
        "\n",
        "import re\n",
        "from operator import itemgetter\n",
        "from random import randint\n",
        "from time import time\n",
        "import pymorphy2\n",
        "from nltk import collocations\n",
        "from nltk.corpus import stopwords\n",
        "from razdel import sentenize, tokenize\n",
        "\n",
        "\n",
        "import outcomes_extraction as ke\n",
        "import difflib\n",
        "from ast import literal_eval\n",
        "from pprint import pprint\n",
        "import numpy as np\n",
        "from scipy.spatial.distance import cosine\n",
        "\n",
        "import warnings\n",
        "warnings.filterwarnings(action=\"ignore\")"
      ]
    },
    {
      "cell_type": "markdown",
      "metadata": {
        "id": "5hr12xkuvWCo"
      },
      "source": [
        "### Загрузка данных"
      ]
    },
    {
      "cell_type": "code",
      "source": [
        "!gdown 1DY-e32o-yIvDVvcGYOAfgT46cAYewDxw\n",
        "!gdown 12bp0eeRdDt8C-UM_YB-URy-w2UvGtBDk\n",
        "!gdown 1eMWo6bBQ5_hgYJsoYcxRR3gPGWAlDEMO"
      ],
      "metadata": {
        "colab": {
          "base_uri": "https://localhost:8080/"
        },
        "id": "gl81ZcDWvXiL",
        "outputId": "23489638-1854-49f6-a94d-bbbb83051288"
      },
      "execution_count": 10,
      "outputs": [
        {
          "output_type": "stream",
          "name": "stdout",
          "text": [
            "Downloading...\n",
            "From: https://drive.google.com/uc?id=1DY-e32o-yIvDVvcGYOAfgT46cAYewDxw\n",
            "To: /content/disc_contents20230506_4.csv\n",
            "100% 70.6M/70.6M [00:01<00:00, 44.6MB/s]\n",
            "Downloading...\n",
            "From: https://drive.google.com/uc?id=12bp0eeRdDt8C-UM_YB-URy-w2UvGtBDk\n",
            "To: /content/dataprocessing_items_202305252034.csv\n",
            "100% 1.45M/1.45M [00:00<00:00, 40.3MB/s]\n",
            "Downloading...\n",
            "From: https://drive.google.com/uc?id=1eMWo6bBQ5_hgYJsoYcxRR3gPGWAlDEMO\n",
            "To: /content/clusters_of_disciplines.csv\n",
            "100% 970k/970k [00:00<00:00, 33.3MB/s]\n"
          ]
        }
      ]
    },
    {
      "cell_type": "code",
      "execution_count": 11,
      "metadata": {
        "id": "p-WzFfudvWCr"
      },
      "outputs": [],
      "source": [
        "# сущности из БД\n",
        "items = pd.read_csv(\"dataprocessing_items_202305252034.csv\")\n",
        "items[\"lowercase\"] = items.name.str.lower()\n",
        "\n",
        "# данные по дисциплинам из БД\n",
        "df = pd.read_csv(\"disc_contents20230506_4.csv\")\n",
        "\n",
        "# кластеры сущностей\n",
        "clusters = pd.read_csv(\"clusters_of_disciplines.csv\")\n",
        "clusters = clusters[\"nodes\"].to_dict()"
      ]
    },
    {
      "cell_type": "markdown",
      "metadata": {
        "id": "FDR50SjuvWCr"
      },
      "source": [
        "### Обработка данных"
      ]
    },
    {
      "cell_type": "code",
      "execution_count": 12,
      "metadata": {
        "id": "nM3tCc6kvWCr"
      },
      "outputs": [],
      "source": [
        "def get_entities(text, entities_to_match=150):\n",
        "    \"\"\"Здесь сущности извлекаются из текста и памятся с сущностями из БД\n",
        "    150 - это вообще слишком много, но так сущности берутся по максимуму,\n",
        "    отсюда примерно 3-6 секунд на выполнение извлечения\n",
        "    Дальше то, что извлеклось, мапится с БД без ограничений по количеству\"\"\"\n",
        "\n",
        "    example = ke.simple_outcomes_extraction(text, n_best=entities_to_match)\n",
        "    res = pd.DataFrame(columns=[\"id\", \"name\"])\n",
        "    for word in example:\n",
        "        close = difflib.get_close_matches(word, items.lowercase.tolist(), cutoff=0.85, n=1)\n",
        "        if close:\n",
        "            res = res.append(items[items.lowercase.isin(close)][[\"id\", \"name\"]])\n",
        "            res.drop_duplicates(subset=[\"name\"], inplace=True)\n",
        "    return res.name.tolist()\n",
        "\n",
        "\n",
        "\n",
        "class Discipline:\n",
        "\n",
        "    \"\"\"Векторизация дисциплины по набору сущностей\"\"\"\n",
        "\n",
        "    def __init__(self, entities, clusters):\n",
        "        self.entities = entities\n",
        "        self.n_entities = len(self.entities)\n",
        "        self.clusters = clusters\n",
        "\n",
        "\n",
        "    @property\n",
        "    def vectorized_discipline(self):\n",
        "        \"\"\"векторизация дисциплины\"\"\"\n",
        "        vector = np.zeros(len(self.clusters))\n",
        "        for ent in self.entities:\n",
        "            for cluster, values in self.clusters.items():\n",
        "                if ent in values:\n",
        "                    vector[cluster]+=1\n",
        "        return vector\n",
        "\n",
        "\n",
        "    @property\n",
        "    def norm_vector(self):\n",
        "        \"\"\"нормализация вектора\"\"\"\n",
        "        x = self.vectorized_discipline\n",
        "        return (x-np.min(x))/(np.max(x)-np.min(x))\n",
        "\n",
        "\n",
        "    @property\n",
        "    def n_domains(self):\n",
        "        return np.count_nonzero(self.vectorized_discipline)\n",
        "\n"
      ]
    },
    {
      "cell_type": "markdown",
      "metadata": {
        "id": "qaMPGUegvWCs"
      },
      "source": [
        "### Тестирование"
      ]
    },
    {
      "cell_type": "markdown",
      "metadata": {
        "id": "4onkbv9tvWCs"
      },
      "source": [
        "В датафрейме `df` можно найти по столбцу `id` данные дисциплины в Конструкторе. Значение для `id` берется из ссылки. В примере: https://op.itmo.ru/work-program/2856/general. В столбце `comb_res` хранятся учебные сущности дисциплины в виде списка."
      ]
    },
    {
      "cell_type": "code",
      "execution_count": 13,
      "metadata": {
        "colab": {
          "base_uri": "https://localhost:8080/"
        },
        "id": "IvoGcH21vWCt",
        "outputId": "591b8a01-dd0f-40f0-8aef-01d31c96d0ab"
      },
      "outputs": [
        {
          "output_type": "stream",
          "name": "stdout",
          "text": [
            "Web-программирование\n"
          ]
        },
        {
          "output_type": "execute_result",
          "data": {
            "text/plain": [
              "['Современные технологии разработки',\n",
              " 'Разработка серверной части приложения',\n",
              " 'Разработка интерфейсов web-приложений',\n",
              " 'Разработка Single Page Application и Rich Internet Application',\n",
              " 'vue.js',\n",
              " 'django web framework',\n",
              " 'django REST framework',\n",
              " 'Сетевая модель OSI',\n",
              " 'Адресация в сетях IP',\n",
              " 'Модели данных',\n",
              " 'Работа с токенами',\n",
              " 'Паттерны проектирования']"
            ]
          },
          "metadata": {},
          "execution_count": 13
        }
      ],
      "source": [
        "discipline = df.query(\"id == 2856\").iloc[0]\n",
        "print(discipline.title)\n",
        "entities = literal_eval(discipline.comb_res)\n",
        "entities"
      ]
    },
    {
      "cell_type": "markdown",
      "metadata": {
        "id": "Jb98NdkAvWCt"
      },
      "source": [
        "Если дисциплины в файлике нет или это сгенеренный текст, то его можно его прямо текстом с разметкой передать в функцию `get_entities`."
      ]
    },
    {
      "cell_type": "code",
      "execution_count": 14,
      "metadata": {
        "colab": {
          "base_uri": "https://localhost:8080/"
        },
        "id": "Igha28OmvWCu",
        "outputId": "b9a96e7e-1c39-4dd5-8760-5d2dc52f4046"
      },
      "outputs": [
        {
          "output_type": "execute_result",
          "data": {
            "text/plain": [
              "['Основы программирования',\n",
              " 'Базы данных',\n",
              " 'Веб-приложение',\n",
              " 'Принципы проектирования ПО',\n",
              " 'Методики тестирования',\n",
              " 'Основы кибербезопасности',\n",
              " 'Разработка мобильных приложений',\n",
              " 'Разработка ПО',\n",
              " 'Мобильное приложение',\n",
              " 'Пользовательский интерфейс',\n",
              " 'Проектирование БД',\n",
              " 'Программирование',\n",
              " 'Программирование роботов',\n",
              " 'Кибербезопасность',\n",
              " 'Основы дизайна',\n",
              " 'Среда разработки VBA',\n",
              " 'RESTful APIs',\n",
              " 'Фреймворки',\n",
              " 'веб-страница',\n",
              " 'Веб-страница',\n",
              " 'Данные',\n",
              " 'Адаптивный дизайн',\n",
              " 'Проектирование баз данных',\n",
              " '\\ufeffВеб-разработка']"
            ]
          },
          "metadata": {},
          "execution_count": 14
        }
      ],
      "source": [
        "TEXT = \"\"\"- Основы Web-программирования\n",
        "    - Основы HTML/CSS\n",
        "        - Структура веб-страницы\n",
        "        - Основы стилизации\n",
        "    - JavaScript и фреймворки\n",
        "        - Основы программирования на JavaScript\n",
        "        - Введение в фреймворки JavaScript\n",
        "\n",
        "- Разработка Backend и Базы Данных\n",
        "    - Работа с базами данных\n",
        "        - Основы SQL\n",
        "        - Принципы проектирования баз данных\n",
        "    - Backend разработка\n",
        "        - Основы серверной логики\n",
        "        - Программирование на Node.js\n",
        "\n",
        "- Дизайн и Пользовательский Интерфейс\n",
        "    - Принципы дизайна и UX/UI\n",
        "        - Основы дизайна веб-интерфейсов\n",
        "        - Основы UX/UI\n",
        "\n",
        "- Тестирование и Безопасность\n",
        "    - Тестирование и отладка\n",
        "        - Методы тестирования веб-приложений\n",
        "        - Инструменты отладки\n",
        "    - Безопасность веб-приложений\n",
        "        - Основы кибербезопасности\n",
        "        - Защита от веб-угроз\n",
        "\n",
        "- Продвинутые Темы\n",
        "    - Разработка мобильных приложений\n",
        "        - Основы мобильной веб-разработки\n",
        "        - Адаптивный дизайн\n",
        "    - Инструменты разработки и среды программирования\n",
        "        - Работа с интегрированными средами разработки (IDE)\n",
        "        - Версионный контроль\n",
        "    - Разработка API\n",
        "        - Принципы RESTful API\n",
        "        - GraphQL\n",
        "    - Работа с версионным контролем (Git)\n",
        "        - Основы Git\n",
        "        - Работа с ветками и слияниями\n",
        "\"\"\"\n",
        "\n",
        "\n",
        "entities_gen = get_entities(TEXT)\n",
        "entities_gen"
      ]
    },
    {
      "cell_type": "markdown",
      "metadata": {
        "id": "_yzWDQH-vWCu"
      },
      "source": [
        "### Сравнение эмбеддингов"
      ]
    },
    {
      "cell_type": "code",
      "execution_count": 15,
      "metadata": {
        "colab": {
          "base_uri": "https://localhost:8080/"
        },
        "id": "d4qLJY9ZvWCu",
        "outputId": "073816ff-2778-424d-828f-557e28853fb4"
      },
      "outputs": [
        {
          "output_type": "stream",
          "name": "stdout",
          "text": [
            "Дисциплина: Web-программирование\n",
            "Количество сущностей у дисциплины: 12\n",
            "['Современные технологии разработки',\n",
            " 'Разработка серверной части приложения',\n",
            " 'Разработка интерфейсов web-приложений',\n",
            " 'Разработка Single Page Application и Rich Internet Application',\n",
            " 'vue.js',\n",
            " 'django web framework',\n",
            " 'django REST framework',\n",
            " 'Сетевая модель OSI',\n",
            " 'Адресация в сетях IP',\n",
            " 'Модели данных',\n",
            " 'Работа с токенами',\n",
            " 'Паттерны проектирования']\n",
            "Количество предметных областей: 5\n",
            "[0. 0. 0. 0. 0. 0. 0. 1. 0. 0. 0. 0. 0. 2. 8. 0. 0. 1. 0. 0. 0. 0. 0. 0.\n",
            " 0. 0. 0. 0. 0. 0. 0. 0. 0. 0. 0. 0. 0. 0. 0. 0. 0. 0. 0. 0. 0. 0. 0. 0.\n",
            " 0. 0. 0. 0. 0. 0. 0. 0. 0. 0. 0. 0. 0. 0. 0. 0. 0. 0. 0. 0. 0. 0. 0. 0.\n",
            " 0. 0. 0. 0. 0. 0. 1. 0. 0. 0. 0. 0. 0. 0. 0. 0. 0. 0. 0. 0. 0. 0. 0. 0.\n",
            " 0. 0. 0. 0. 0. 0. 0. 0. 0. 0. 0. 0. 0. 0. 0. 0. 0. 0. 0. 0. 0. 0. 0. 0.\n",
            " 0.]\n",
            "Нормализованный вектор\n",
            "[0.    0.    0.    0.    0.    0.    0.    0.125 0.    0.    0.    0.\n",
            " 0.    0.25  1.    0.    0.    0.125 0.    0.    0.    0.    0.    0.\n",
            " 0.    0.    0.    0.    0.    0.    0.    0.    0.    0.    0.    0.\n",
            " 0.    0.    0.    0.    0.    0.    0.    0.    0.    0.    0.    0.\n",
            " 0.    0.    0.    0.    0.    0.    0.    0.    0.    0.    0.    0.\n",
            " 0.    0.    0.    0.    0.    0.    0.    0.    0.    0.    0.    0.\n",
            " 0.    0.    0.    0.    0.    0.    0.125 0.    0.    0.    0.    0.\n",
            " 0.    0.    0.    0.    0.    0.    0.    0.    0.    0.    0.    0.\n",
            " 0.    0.    0.    0.    0.    0.    0.    0.    0.    0.    0.    0.\n",
            " 0.    0.    0.    0.    0.    0.    0.    0.    0.    0.    0.    0.\n",
            " 0.   ]\n"
          ]
        }
      ],
      "source": [
        "# тестируем векторизацию\n",
        "print(f\"Дисциплина: {discipline['title']}\")\n",
        "\n",
        "subj = Discipline(entities, clusters)\n",
        "\n",
        "print(f\"Количество сущностей у дисциплины: {subj.n_entities}\")\n",
        "pprint(subj.entities)\n",
        "\n",
        "print(f\"Количество предметных областей: {subj.n_domains}\")\n",
        "print(subj.vectorized_discipline)\n",
        "\n",
        "print(\"Нормализованный вектор\")\n",
        "print(subj.norm_vector)"
      ]
    },
    {
      "cell_type": "code",
      "execution_count": 16,
      "metadata": {
        "colab": {
          "base_uri": "https://localhost:8080/"
        },
        "id": "jUk8u02EvWCv",
        "outputId": "62ff1911-a0a6-4113-9f09-869427e4344f"
      },
      "outputs": [
        {
          "output_type": "stream",
          "name": "stdout",
          "text": [
            "0.618\n"
          ]
        }
      ],
      "source": [
        "# сравнение двух дисциплин\n",
        "subj2 = Discipline(entities_gen, clusters)\n",
        "print(np.round(1-cosine(subj2.norm_vector, subj.norm_vector), 3))\n"
      ]
    },
    {
      "cell_type": "code",
      "source": [],
      "metadata": {
        "id": "aNe5gM8R1BpY"
      },
      "execution_count": null,
      "outputs": []
    }
  ],
  "metadata": {
    "kernelspec": {
      "display_name": "phd",
      "language": "python",
      "name": "python3"
    },
    "language_info": {
      "codemirror_mode": {
        "name": "ipython",
        "version": 3
      },
      "file_extension": ".py",
      "mimetype": "text/x-python",
      "name": "python",
      "nbconvert_exporter": "python",
      "pygments_lexer": "ipython3",
      "version": "3.7.11"
    },
    "colab": {
      "provenance": [],
      "include_colab_link": true
    }
  },
  "nbformat": 4,
  "nbformat_minor": 0
}